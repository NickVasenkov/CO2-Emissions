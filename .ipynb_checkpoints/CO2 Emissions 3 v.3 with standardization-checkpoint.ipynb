{
 "cells": [
  {
   "cell_type": "markdown",
   "id": "ac9bbcd8",
   "metadata": {},
   "source": [
    "In Part 3 we'll evaluate performance of our models using Score calculation described in part 1, using TimeSeriesSplit cross-validation. However, we'll use a new function, ['functions/get_score_3.py'](functions/get_score_3.py). \n",
    "\n",
    "I tested (not included here) calculated in part 2 'Cycles' feature, but this way gave me lower Cross-val score with TimeSeriesSplit cross-validation, so I won't use Cycles.\n",
    "\n",
    "This function will predict residuals ('emission_03') and then add to predictions Trend, Seasonality and Cycles_forecast, to predict 'emission'. Then it will calculate the Score, in the same way as in part 1.\n",
    "\n",
    "Let's load the datasets:"
   ]
  },
  {
   "cell_type": "code",
   "execution_count": 88,
   "id": "d0845676",
   "metadata": {},
   "outputs": [
    {
     "name": "stdout",
     "output_type": "stream",
     "text": [
      "CPU times: total: 2.22 s\n",
      "Wall time: 2.36 s\n"
     ]
    }
   ],
   "source": [
    "%%time\n",
    "\n",
    "import pandas as pd\n",
    "import numpy as np\n",
    "\n",
    "\n",
    "global_variables = pd.read_csv('global_variables.csv', index_col=0)\n",
    "SEED = global_variables.loc[0, 'SEED']\n",
    "N_SPLITS = global_variables.loc[0, 'N_SPLITS']\n",
    "\n",
    "train_unprocessed = pd.read_csv('datasets/train.csv', index_col='ID_LAT_LON_YEAR_WEEK')\n",
    "test_unprocessed = pd.read_csv('datasets/test.csv', index_col='ID_LAT_LON_YEAR_WEEK')\n",
    "train_from_part_1 = pd.read_csv('new_datasets/train_from_part_1.csv', index_col='ID_LAT_LON_YEAR_WEEK')\n",
    "test_from_part_1 = pd.read_csv('new_datasets/test_from_part_1.csv', index_col='ID_LAT_LON_YEAR_WEEK')\n",
    "train_from_part_2 = pd.read_csv('new_datasets/train_from_part_2.csv', index_col='ID_LAT_LON_YEAR_WEEK')\n",
    "test_from_part_2 = pd.read_csv('new_datasets/test_from_part_2.csv', index_col='ID_LAT_LON_YEAR_WEEK')\n",
    "\n",
    "top_three_values = train_from_part_1.loc[:, 'Location_enc'].drop_duplicates().sort_values(ascending = False).head(3)\n",
    "top_three_locations = train_from_part_1.loc[train_from_part_1['Location_enc'].isin(top_three_values), 'Location'].drop_duplicates()\n"
   ]
  },
  {
   "cell_type": "markdown",
   "id": "e9569823",
   "metadata": {},
   "source": [
    "We'll create a DataFrame that won't be used in models training, but just for calculating the final prediction:"
   ]
  },
  {
   "cell_type": "code",
   "execution_count": 89,
   "id": "0e0ec574",
   "metadata": {},
   "outputs": [],
   "source": [
    "post_training_df = pd.concat([train_from_part_2, test_from_part_2])[['Trend', 'Seasonality', 'emission']]"
   ]
  },
  {
   "cell_type": "markdown",
   "id": "620bd9a7",
   "metadata": {},
   "source": [
    "Now, let's create 'train' and 'test' sets, that will contain all the variables we may use for our predictions, making sure we won't include variables that caclulate 'emission' from residuals, to avoid data leakage:"
   ]
  },
  {
   "cell_type": "code",
   "execution_count": 90,
   "id": "9e187f3b",
   "metadata": {},
   "outputs": [],
   "source": [
    "train = pd.concat([train_unprocessed.drop('emission', axis=1), \n",
    "                   train_from_part_2[['Location', 'WeekCount', 'date', 'emission_03']]], axis=1)\n",
    "train['date'] = pd.to_datetime(train['date'])\n",
    "test = pd.concat([test_unprocessed, test_from_part_2[['Location', 'WeekCount', 'date']]], axis=1)\n",
    "train['date'] = pd.to_datetime(train['date'])\n",
    "test['date'] = pd.to_datetime(test['date'])"
   ]
  },
  {
   "cell_type": "markdown",
   "id": "7ac18f64",
   "metadata": {},
   "source": [
    "## 00. Baseline.\n",
    "\n",
    "As a baseline, we'll fit LightGBM estimator to one feature, which will be just the column of 0's. We still should get quite a good Score (I remind you that lower is merrier), because predicted residuals will be transformed into 'emission' using features we calculated in Part 2:"
   ]
  },
  {
   "cell_type": "code",
   "execution_count": 91,
   "id": "f217dd6d",
   "metadata": {},
   "outputs": [
    {
     "name": "stdout",
     "output_type": "stream",
     "text": [
      "CPU times: total: 2.09 s\n",
      "Wall time: 247 ms\n"
     ]
    }
   ],
   "source": [
    "%%time\n",
    "\n",
    "study_number = '00'\n",
    "\n",
    "scores_df = pd.DataFrame({'Comment': [], 'Train Score': [], 'Cross-val Score': [], 'Test RMSE': []})\n",
    "\n",
    "train_selected = pd.DataFrame(index=train_unprocessed.index, columns=['dummy', 'emission_03'])\n",
    "train_selected['dummy'] = 0\n",
    "train_selected['emission_03'] = train_from_part_2['emission_03']\n",
    "test_selected = pd.DataFrame(index=test_unprocessed.index, columns=['dummy'])\n",
    "test_selected['dummy'] = 0\n",
    "\n",
    "\n",
    "# Instantiate the estimator\n",
    "# UNCOMMENT TO INSTALL LightGBM\n",
    "#!pip install lightgbm\n",
    "import lightgbm as lgb\n",
    "model = lgb.LGBMRegressor(random_state=SEED, n_jobs=-1, n_estimators=10)\n",
    "\n",
    "# Calculate scores\n",
    "from functions.get_score_3 import get_score_3\n",
    "\n",
    "train_score, cross_score, cross_scores_std, submission = get_score_3(global_variables, train_selected, test_selected, \n",
    "                                                                     post_training_df, model, scores_df,\n",
    "                                                                  comment=\"Part 3 Baseline\")\n",
    "\n",
    "submission.to_csv('submissions/submission_3_' + study_number + '.csv', index=False)"
   ]
  },
  {
   "cell_type": "code",
   "execution_count": 92,
   "id": "e8398cbf",
   "metadata": {},
   "outputs": [
    {
     "data": {
      "text/html": [
       "<div>\n",
       "<style scoped>\n",
       "    .dataframe tbody tr th:only-of-type {\n",
       "        vertical-align: middle;\n",
       "    }\n",
       "\n",
       "    .dataframe tbody tr th {\n",
       "        vertical-align: top;\n",
       "    }\n",
       "\n",
       "    .dataframe thead th {\n",
       "        text-align: right;\n",
       "    }\n",
       "</style>\n",
       "<table border=\"1\" class=\"dataframe\">\n",
       "  <thead>\n",
       "    <tr style=\"text-align: right;\">\n",
       "      <th></th>\n",
       "      <th>Comment</th>\n",
       "      <th>Train Score</th>\n",
       "      <th>Cross-val Score</th>\n",
       "      <th>Test RMSE</th>\n",
       "    </tr>\n",
       "  </thead>\n",
       "  <tbody>\n",
       "    <tr>\n",
       "      <th>0</th>\n",
       "      <td>Part 3 Baseline</td>\n",
       "      <td>19.734712</td>\n",
       "      <td>25.296802</td>\n",
       "      <td>29.32305</td>\n",
       "    </tr>\n",
       "  </tbody>\n",
       "</table>\n",
       "</div>"
      ],
      "text/plain": [
       "           Comment  Train Score  Cross-val Score  Test RMSE\n",
       "0  Part 3 Baseline    19.734712        25.296802   29.32305"
      ]
     },
     "execution_count": 92,
     "metadata": {},
     "output_type": "execute_result"
    }
   ],
   "source": [
    "scores_df.loc[int(study_number), 'Test RMSE'] = 29.32305\n",
    "scores_df"
   ]
  },
  {
   "cell_type": "markdown",
   "id": "438441fb",
   "metadata": {},
   "source": [
    "## 01. Location Median Target Encoding\n",
    "\n",
    "Next, we'll recalculate our 'Location_enc' feature, same as Part 1, but with respect to residuals:"
   ]
  },
  {
   "cell_type": "code",
   "execution_count": 93,
   "id": "82bae2ba",
   "metadata": {},
   "outputs": [
    {
     "name": "stdout",
     "output_type": "stream",
     "text": [
      "<class 'pandas.core.series.Series'>\n",
      "Index: 79023 entries, ID_-0.510_29.290_2019_00 to ID_-3.299_30.301_2021_52\n",
      "Series name: Location_enc\n",
      "Non-Null Count  Dtype  \n",
      "--------------  -----  \n",
      "79023 non-null  float64\n",
      "dtypes: float64(1)\n",
      "memory usage: 1.2+ MB\n",
      "None\n",
      "count    79023.000000\n",
      "mean         0.062959\n",
      "std          0.611838\n",
      "min         -4.608247\n",
      "25%         -0.065034\n",
      "50%          0.021276\n",
      "75%          0.147154\n",
      "max          5.873421\n",
      "Name: Location_enc, dtype: float64\n",
      "Unique Values and their count:\n",
      " 0.000000    2385\n",
      " 0.024692     159\n",
      "-0.300837     159\n",
      "-0.035899     159\n",
      " 0.226264     159\n",
      "             ... \n",
      " 0.158429     159\n",
      "-0.572615     159\n",
      "-0.164515     159\n",
      " 0.328193     159\n",
      " 0.047019     159\n",
      "Name: Location_enc, Length: 483, dtype: int64\n",
      "<class 'pandas.core.series.Series'>\n",
      "Index: 24353 entries, ID_-0.510_29.290_2022_00 to ID_-3.299_30.301_2022_48\n",
      "Series name: Location_enc\n",
      "Non-Null Count  Dtype  \n",
      "--------------  -----  \n",
      "24353 non-null  float64\n",
      "dtypes: float64(1)\n",
      "memory usage: 380.5+ KB\n",
      "None\n",
      "count    24353.000000\n",
      "mean         0.062959\n",
      "std          0.611847\n",
      "min         -4.608247\n",
      "25%         -0.065034\n",
      "50%          0.021276\n",
      "75%          0.147154\n",
      "max          5.873421\n",
      "Name: Location_enc, dtype: float64\n",
      "Unique Values and their count:\n",
      " 0.000000    735\n",
      " 0.024692     49\n",
      "-0.300837     49\n",
      "-0.035899     49\n",
      " 0.226264     49\n",
      "            ... \n",
      " 0.158429     49\n",
      "-0.572615     49\n",
      "-0.164515     49\n",
      " 0.328193     49\n",
      " 0.047019     49\n",
      "Name: Location_enc, Length: 483, dtype: int64\n"
     ]
    }
   ],
   "source": [
    "study_number = '01'\n",
    "\n",
    "location_median = train.groupby('Location')['emission_03'].median()\n",
    "\n",
    "train['Location_enc'] = train['Location'].map(location_median)\n",
    "test['Location_enc'] = test['Location'].map(location_median)\n",
    "\n",
    "feature_name = 'Location_enc'\n",
    "for data in [train, test]:\n",
    "    print(data[feature_name].info())\n",
    "    print(data[feature_name].describe())\n",
    "    print('Unique Values and their count:')\n",
    "    print(data[feature_name].value_counts())"
   ]
  },
  {
   "cell_type": "markdown",
   "id": "ef97b304",
   "metadata": {},
   "source": [
    "Let's test:"
   ]
  },
  {
   "cell_type": "code",
   "execution_count": 94,
   "id": "e6923ee7",
   "metadata": {},
   "outputs": [
    {
     "name": "stdout",
     "output_type": "stream",
     "text": [
      "CPU times: total: 2.55 s\n",
      "Wall time: 303 ms\n"
     ]
    }
   ],
   "source": [
    "%%time\n",
    "\n",
    "selected_columns = ['Location_enc']\n",
    "\n",
    "train_selected = train[selected_columns]\n",
    "train_selected = pd.concat([train_selected, train['emission_03']], axis=1)\n",
    "test_selected =  test[selected_columns]\n",
    "\n",
    "#Calculate scores\n",
    "train_score, cross_score, cross_scores_std, submission = get_score_3(global_variables, train_selected, test_selected, \n",
    "                                                                     post_training_df, model, scores_df,\n",
    "                                                                  comment=\"Location_enc\")\n",
    "\n",
    "submission.to_csv('submissions/submission_3_' + study_number + '.csv', index=False)"
   ]
  },
  {
   "cell_type": "code",
   "execution_count": 95,
   "id": "a9f620b7",
   "metadata": {},
   "outputs": [
    {
     "data": {
      "text/html": [
       "<div>\n",
       "<style scoped>\n",
       "    .dataframe tbody tr th:only-of-type {\n",
       "        vertical-align: middle;\n",
       "    }\n",
       "\n",
       "    .dataframe tbody tr th {\n",
       "        vertical-align: top;\n",
       "    }\n",
       "\n",
       "    .dataframe thead th {\n",
       "        text-align: right;\n",
       "    }\n",
       "</style>\n",
       "<table border=\"1\" class=\"dataframe\">\n",
       "  <thead>\n",
       "    <tr style=\"text-align: right;\">\n",
       "      <th></th>\n",
       "      <th>Comment</th>\n",
       "      <th>Train Score</th>\n",
       "      <th>Cross-val Score</th>\n",
       "      <th>Test RMSE</th>\n",
       "    </tr>\n",
       "  </thead>\n",
       "  <tbody>\n",
       "    <tr>\n",
       "      <th>0</th>\n",
       "      <td>Part 3 Baseline</td>\n",
       "      <td>19.734712</td>\n",
       "      <td>25.296802</td>\n",
       "      <td>29.32305</td>\n",
       "    </tr>\n",
       "    <tr>\n",
       "      <th>1</th>\n",
       "      <td>Location_enc</td>\n",
       "      <td>19.734395</td>\n",
       "      <td>25.297773</td>\n",
       "      <td>NaN</td>\n",
       "    </tr>\n",
       "  </tbody>\n",
       "</table>\n",
       "</div>"
      ],
      "text/plain": [
       "           Comment  Train Score  Cross-val Score  Test RMSE\n",
       "0  Part 3 Baseline    19.734712        25.296802   29.32305\n",
       "1     Location_enc    19.734395        25.297773        NaN"
      ]
     },
     "execution_count": 95,
     "metadata": {},
     "output_type": "execute_result"
    }
   ],
   "source": [
    "scores_df.loc[int(study_number), 'Test RMSE'] = np.nan\n",
    "scores_df"
   ]
  },
  {
   "cell_type": "markdown",
   "id": "e6c936ac",
   "metadata": {},
   "source": [
    "We don't see an improvement, so we won't use this feature."
   ]
  },
  {
   "cell_type": "code",
   "execution_count": 96,
   "id": "db755a3d",
   "metadata": {},
   "outputs": [],
   "source": [
    "selected_columns.remove('Location_enc')"
   ]
  },
  {
   "cell_type": "markdown",
   "id": "aa15b586",
   "metadata": {},
   "source": [
    "## 02. Week of the year Median Target Encoding\n",
    "\n",
    "What if we do encoding on the 'week_no' feature? Potentially, it may catch some weekly common sesoanalities, if they exist."
   ]
  },
  {
   "cell_type": "code",
   "execution_count": 97,
   "id": "e439469c",
   "metadata": {},
   "outputs": [
    {
     "name": "stdout",
     "output_type": "stream",
     "text": [
      "<class 'pandas.core.series.Series'>\n",
      "Index: 79023 entries, ID_-0.510_29.290_2019_00 to ID_-3.299_30.301_2021_52\n",
      "Series name: week_no_enc\n",
      "Non-Null Count  Dtype  \n",
      "--------------  -----  \n",
      "79023 non-null  float64\n",
      "dtypes: float64(1)\n",
      "memory usage: 3.2+ MB\n",
      "None\n",
      "count    79023.000000\n",
      "mean         0.047694\n",
      "std          0.617511\n",
      "min         -1.879367\n",
      "25%         -0.139916\n",
      "50%          0.003319\n",
      "75%          0.216765\n",
      "max          1.929902\n",
      "Name: week_no_enc, dtype: float64\n",
      "Unique Values and their count:\n",
      " 0.000000    4473\n",
      "-1.879367    1491\n",
      " 0.252604    1491\n",
      " 0.000885    1491\n",
      " 0.003703    1491\n",
      "-0.199738    1491\n",
      " 1.140913    1491\n",
      " 0.020216    1491\n",
      "-0.290076    1491\n",
      "-0.028991    1491\n",
      " 0.180645    1491\n",
      "-0.183333    1491\n",
      "-0.743465    1491\n",
      "-0.770024    1491\n",
      " 0.324655    1491\n",
      "-0.302457    1491\n",
      " 1.571577    1491\n",
      "-1.532343    1491\n",
      "-0.139916    1491\n",
      " 0.002162    1491\n",
      " 0.093551    1491\n",
      "-0.478170    1491\n",
      "-0.689612    1491\n",
      " 0.180850    1491\n",
      " 0.260735    1491\n",
      " 0.250956    1491\n",
      "-0.047197    1491\n",
      " 0.019889    1491\n",
      "-0.069080    1491\n",
      " 0.002323    1491\n",
      "-0.029551    1491\n",
      "-0.378845    1491\n",
      "-0.007468    1491\n",
      " 0.205956    1491\n",
      " 0.003319    1491\n",
      "-0.406258    1491\n",
      " 0.001708    1491\n",
      " 0.216765    1491\n",
      " 0.007328    1491\n",
      "-0.412419    1491\n",
      " 1.340967    1491\n",
      " 0.020927    1491\n",
      " 1.929902    1491\n",
      " 0.006404    1491\n",
      " 1.150705    1491\n",
      " 0.447467    1491\n",
      " 0.254429    1491\n",
      " 0.277481    1491\n",
      " 0.598014    1491\n",
      " 0.164025    1491\n",
      " 0.185009    1491\n",
      "Name: week_no_enc, dtype: int64\n",
      "<class 'pandas.core.series.Series'>\n",
      "Index: 24353 entries, ID_-0.510_29.290_2022_00 to ID_-3.299_30.301_2022_48\n",
      "Series name: week_no_enc\n",
      "Non-Null Count  Dtype  \n",
      "--------------  -----  \n",
      "24353 non-null  float64\n",
      "dtypes: float64(1)\n",
      "memory usage: 380.5+ KB\n",
      "None\n",
      "count    24353.000000\n",
      "mean         0.052873\n",
      "std          0.632191\n",
      "min         -1.879367\n",
      "25%         -0.139916\n",
      "50%          0.002323\n",
      "75%          0.216765\n",
      "max          1.929902\n",
      "Name: week_no_enc, dtype: float64\n",
      "Unique Values and their count:\n",
      " 0.000000    1491\n",
      "-1.879367     497\n",
      " 0.180645     497\n",
      " 0.324655     497\n",
      " 0.250956     497\n",
      " 0.000885     497\n",
      " 0.003703     497\n",
      "-0.199738     497\n",
      " 1.140913     497\n",
      " 0.020216     497\n",
      "-0.290076     497\n",
      "-0.028991     497\n",
      "-0.183333     497\n",
      "-0.069080     497\n",
      "-0.743465     497\n",
      " 0.252604     497\n",
      "-0.770024     497\n",
      "-0.302457     497\n",
      " 1.571577     497\n",
      "-1.532343     497\n",
      "-0.139916     497\n",
      " 0.002162     497\n",
      " 0.093551     497\n",
      "-0.047197     497\n",
      " 0.164025     497\n",
      " 0.019889     497\n",
      " 0.598014     497\n",
      " 0.002323     497\n",
      "-0.029551     497\n",
      "-0.378845     497\n",
      "-0.007468     497\n",
      " 0.205956     497\n",
      " 0.003319     497\n",
      "-0.406258     497\n",
      " 0.001708     497\n",
      " 0.216765     497\n",
      " 0.007328     497\n",
      "-0.412419     497\n",
      " 1.340967     497\n",
      " 0.020927     497\n",
      " 1.929902     497\n",
      " 0.006404     497\n",
      " 1.150705     497\n",
      " 0.447467     497\n",
      " 0.254429     497\n",
      " 0.277481     497\n",
      "-0.478170     497\n",
      "Name: week_no_enc, dtype: int64\n"
     ]
    }
   ],
   "source": [
    "study_number = '02'\n",
    "\n",
    "week_no_median = train.groupby('week_no')['emission_03'].median()\n",
    "\n",
    "train['week_no_enc'] = train['week_no'].map(week_no_median)\n",
    "test['week_no_enc'] = test['week_no'].map(week_no_median)\n",
    "\n",
    "feature_name = 'week_no_enc'\n",
    "for data in [train, test]:\n",
    "    print(data[feature_name].info())\n",
    "    print(data[feature_name].describe())\n",
    "    print('Unique Values and their count:')\n",
    "    print(data[feature_name].value_counts())\n"
   ]
  },
  {
   "cell_type": "markdown",
   "id": "a9a415f7",
   "metadata": {},
   "source": [
    "Let's test:"
   ]
  },
  {
   "cell_type": "code",
   "execution_count": 98,
   "id": "93e5bc52",
   "metadata": {},
   "outputs": [
    {
     "name": "stdout",
     "output_type": "stream",
     "text": [
      "CPU times: total: 2.73 s\n",
      "Wall time: 326 ms\n"
     ]
    }
   ],
   "source": [
    "%%time\n",
    "\n",
    "selected_columns.append('week_no_enc')\n",
    "\n",
    "train_selected = train[selected_columns]\n",
    "train_selected = pd.concat([train_selected, train['emission_03']], axis=1)\n",
    "test_selected =  test[selected_columns]\n",
    "\n",
    "\n",
    "#Calculate scores\n",
    "train_score, cross_score, cross_scores_std, submission = get_score_3(global_variables, train_selected, test_selected, \n",
    "                                                                     post_training_df, model, scores_df,\n",
    "                                                                  comment=\"week_no_enc\")\n",
    "\n",
    "submission.to_csv('submissions/submission_3_' + study_number + '.csv', index=False)"
   ]
  },
  {
   "cell_type": "code",
   "execution_count": 99,
   "id": "b74d6729",
   "metadata": {},
   "outputs": [
    {
     "data": {
      "text/html": [
       "<div>\n",
       "<style scoped>\n",
       "    .dataframe tbody tr th:only-of-type {\n",
       "        vertical-align: middle;\n",
       "    }\n",
       "\n",
       "    .dataframe tbody tr th {\n",
       "        vertical-align: top;\n",
       "    }\n",
       "\n",
       "    .dataframe thead th {\n",
       "        text-align: right;\n",
       "    }\n",
       "</style>\n",
       "<table border=\"1\" class=\"dataframe\">\n",
       "  <thead>\n",
       "    <tr style=\"text-align: right;\">\n",
       "      <th></th>\n",
       "      <th>Comment</th>\n",
       "      <th>Train Score</th>\n",
       "      <th>Cross-val Score</th>\n",
       "      <th>Test RMSE</th>\n",
       "    </tr>\n",
       "  </thead>\n",
       "  <tbody>\n",
       "    <tr>\n",
       "      <th>0</th>\n",
       "      <td>Part 3 Baseline</td>\n",
       "      <td>19.734712</td>\n",
       "      <td>25.296802</td>\n",
       "      <td>29.32305</td>\n",
       "    </tr>\n",
       "    <tr>\n",
       "      <th>1</th>\n",
       "      <td>Location_enc</td>\n",
       "      <td>19.734395</td>\n",
       "      <td>25.297773</td>\n",
       "      <td>NaN</td>\n",
       "    </tr>\n",
       "    <tr>\n",
       "      <th>2</th>\n",
       "      <td>week_no_enc</td>\n",
       "      <td>19.857266</td>\n",
       "      <td>25.361498</td>\n",
       "      <td>NaN</td>\n",
       "    </tr>\n",
       "  </tbody>\n",
       "</table>\n",
       "</div>"
      ],
      "text/plain": [
       "           Comment  Train Score  Cross-val Score  Test RMSE\n",
       "0  Part 3 Baseline    19.734712        25.296802   29.32305\n",
       "1     Location_enc    19.734395        25.297773        NaN\n",
       "2      week_no_enc    19.857266        25.361498        NaN"
      ]
     },
     "execution_count": 99,
     "metadata": {},
     "output_type": "execute_result"
    }
   ],
   "source": [
    "scores_df.loc[int(study_number), 'Test RMSE'] = np.nan\n",
    "scores_df"
   ]
  },
  {
   "cell_type": "markdown",
   "id": "bec756f2",
   "metadata": {},
   "source": [
    "No, that didn't work, maybe, there is no common seasonality left across all Locations."
   ]
  },
  {
   "cell_type": "code",
   "execution_count": 100,
   "id": "246e951f",
   "metadata": {},
   "outputs": [],
   "source": [
    "selected_columns.remove('week_no_enc')\n",
    "\n",
    "train_selected = train[selected_columns]\n",
    "train_selected = pd.concat([train_selected, train['emission_03']], axis=1)\n",
    "test_selected =  test[selected_columns]"
   ]
  },
  {
   "cell_type": "markdown",
   "id": "2bf92158",
   "metadata": {},
   "source": [
    "## 03. Most important features\n",
    "\n",
    "Let's estimate what features are most important for calculating our residues:"
   ]
  },
  {
   "cell_type": "code",
   "execution_count": 101,
   "id": "00c8117e",
   "metadata": {},
   "outputs": [
    {
     "name": "stdout",
     "output_type": "stream",
     "text": [
      "Sorted feature importances (first 40):\n",
      "CPU times: total: 2.52 s\n",
      "Wall time: 411 ms\n"
     ]
    },
    {
     "data": {
      "text/plain": [
       "Location_enc                                               122\n",
       "week_no_enc                                                 37\n",
       "WeekCount                                                   35\n",
       "Ozone_O3_column_number_density                              15\n",
       "week_no                                                     14\n",
       "Cloud_solar_azimuth_angle                                    7\n",
       "UvAerosolIndex_solar_azimuth_angle                           7\n",
       "Ozone_solar_azimuth_angle                                    6\n",
       "Ozone_O3_column_number_density_amf                           6\n",
       "CarbonMonoxide_CO_column_number_density                      6\n",
       "longitude                                                    6\n",
       "CarbonMonoxide_solar_azimuth_angle                           3\n",
       "Ozone_O3_slant_column_number_density                         3\n",
       "UvAerosolIndex_sensor_zenith_angle                           3\n",
       "UvAerosolIndex_sensor_azimuth_angle                          3\n",
       "latitude                                                     3\n",
       "Ozone_solar_zenith_angle                                     2\n",
       "year                                                         2\n",
       "Ozone_O3_effective_temperature                               2\n",
       "CarbonMonoxide_solar_zenith_angle                            2\n",
       "NitrogenDioxide_stratospheric_NO2_column_number_density      2\n",
       "Formaldehyde_cloud_fraction                                  2\n",
       "Cloud_surface_albedo                                         2\n",
       "Formaldehyde_sensor_azimuth_angle                            2\n",
       "NitrogenDioxide_sensor_altitude                              1\n",
       "NitrogenDioxide_solar_azimuth_angle                          1\n",
       "SulphurDioxide_SO2_column_number_density_15km                1\n",
       "UvAerosolIndex_sensor_altitude                               1\n",
       "NitrogenDioxide_cloud_fraction                               1\n",
       "SulphurDioxide_SO2_column_number_density_amf                 1\n",
       "Cloud_cloud_fraction                                         1\n",
       "NitrogenDioxide_solar_zenith_angle                           1\n",
       "UvAerosolLayerHeight_sensor_zenith_angle                     0\n",
       "CarbonMonoxide_sensor_altitude                               0\n",
       "UvAerosolLayerHeight_aerosol_optical_depth                   0\n",
       "UvAerosolLayerHeight_aerosol_pressure                        0\n",
       "UvAerosolLayerHeight_aerosol_height                          0\n",
       "SulphurDioxide_SO2_slant_column_number_density               0\n",
       "UvAerosolLayerHeight_sensor_azimuth_angle                    0\n",
       "Cloud_cloud_top_height                                       0\n",
       "dtype: int32"
      ]
     },
     "execution_count": 101,
     "metadata": {},
     "output_type": "execute_result"
    }
   ],
   "source": [
    "%%time\n",
    "\n",
    "study_number = '03'\n",
    "\n",
    "## Train the model on the whole training set\n",
    "model.fit(train.drop(['emission_03', 'Location', 'date'], axis=1), train['emission_03'])\n",
    "\n",
    "feature_importances = pd.Series(data=model.feature_importances_, \n",
    "                                index=train.drop(['emission_03', 'Location', 'date'], axis=1).columns)\n",
    "\n",
    "print('Sorted feature importances (first 40):')\n",
    "feature_importances.sort_values(ascending=False).head(40)"
   ]
  },
  {
   "cell_type": "markdown",
   "id": "c1454227",
   "metadata": {},
   "source": [
    "Few observations:\n",
    "\n",
    "-) The same model used way more features in calculating residues, than in calculating 'emission' (see Part 1).\n",
    "\n",
    "-) In combination with other features, 'Location_enc' and'week_no_enc' were useful for the model (although, they may still not pass the cross-validation testing)\n",
    "-) Even though we have 'Location_enc' and 'week_no_enc', week_no, latitudes and longitudes are still important\n",
    "\n",
    "Let's test a model based on some of the most important features:"
   ]
  },
  {
   "cell_type": "code",
   "execution_count": 115,
   "id": "d1f3fb4e",
   "metadata": {},
   "outputs": [
    {
     "name": "stdout",
     "output_type": "stream",
     "text": [
      "Selected columns: ['Location_enc', 'week_no_enc', 'WeekCount', 'Ozone_O3_column_number_density', 'week_no', 'Cloud_solar_azimuth_angle', 'UvAerosolIndex_solar_azimuth_angle', 'Ozone_solar_azimuth_angle', 'Ozone_O3_column_number_density_amf', 'longitude', 'CarbonMonoxide_CO_column_number_density', 'UvAerosolIndex_sensor_azimuth_angle', 'latitude', 'UvAerosolIndex_sensor_zenith_angle', 'Ozone_O3_slant_column_number_density']\n",
      "CPU times: total: 4.81 s\n",
      "Wall time: 497 ms\n"
     ]
    }
   ],
   "source": [
    "%%time\n",
    "\n",
    "selected_columns = list(feature_importances.sort_values(ascending=False).index[:15])\n",
    "\n",
    "print('Selected columns: {}'.format(selected_columns))\n",
    "train_selected = train[selected_columns]\n",
    "train_selected = pd.concat([train_selected, train['emission_03']], axis=1)\n",
    "test_selected =  test[selected_columns]\n",
    "\n",
    "\n",
    "#Calculate scores\n",
    "train_score, cross_score, cross_scores_std, submission = get_score_3(global_variables, train_selected, test_selected, \n",
    "                                                                     post_training_df, model, scores_df,\n",
    "                                                                  comment=\"Most important features\")\n",
    "\n",
    "submission.to_csv('submissions/submission_3_' + study_number + '.csv', index=False)"
   ]
  },
  {
   "cell_type": "code",
   "execution_count": 116,
   "id": "c7423660",
   "metadata": {},
   "outputs": [
    {
     "data": {
      "text/html": [
       "<div>\n",
       "<style scoped>\n",
       "    .dataframe tbody tr th:only-of-type {\n",
       "        vertical-align: middle;\n",
       "    }\n",
       "\n",
       "    .dataframe tbody tr th {\n",
       "        vertical-align: top;\n",
       "    }\n",
       "\n",
       "    .dataframe thead th {\n",
       "        text-align: right;\n",
       "    }\n",
       "</style>\n",
       "<table border=\"1\" class=\"dataframe\">\n",
       "  <thead>\n",
       "    <tr style=\"text-align: right;\">\n",
       "      <th></th>\n",
       "      <th>Comment</th>\n",
       "      <th>Train Score</th>\n",
       "      <th>Cross-val Score</th>\n",
       "      <th>Test RMSE</th>\n",
       "    </tr>\n",
       "  </thead>\n",
       "  <tbody>\n",
       "    <tr>\n",
       "      <th>0</th>\n",
       "      <td>Part 3 Baseline</td>\n",
       "      <td>19.734712</td>\n",
       "      <td>25.296802</td>\n",
       "      <td>29.32305</td>\n",
       "    </tr>\n",
       "    <tr>\n",
       "      <th>1</th>\n",
       "      <td>Location_enc</td>\n",
       "      <td>19.734395</td>\n",
       "      <td>25.297773</td>\n",
       "      <td>NaN</td>\n",
       "    </tr>\n",
       "    <tr>\n",
       "      <th>2</th>\n",
       "      <td>week_no_enc</td>\n",
       "      <td>19.857266</td>\n",
       "      <td>25.361498</td>\n",
       "      <td>NaN</td>\n",
       "    </tr>\n",
       "    <tr>\n",
       "      <th>3</th>\n",
       "      <td>Most important features</td>\n",
       "      <td>20.413358</td>\n",
       "      <td>25.803322</td>\n",
       "      <td>NaN</td>\n",
       "    </tr>\n",
       "    <tr>\n",
       "      <th>4</th>\n",
       "      <td>+ Location_cluster_2</td>\n",
       "      <td>20.404292</td>\n",
       "      <td>25.808573</td>\n",
       "      <td>NaN</td>\n",
       "    </tr>\n",
       "    <tr>\n",
       "      <th>5</th>\n",
       "      <td>+ Location_cluster_2</td>\n",
       "      <td>19.734710</td>\n",
       "      <td>25.296891</td>\n",
       "      <td>NaN</td>\n",
       "    </tr>\n",
       "    <tr>\n",
       "      <th>6</th>\n",
       "      <td>Location_cluster_4</td>\n",
       "      <td>19.734674</td>\n",
       "      <td>25.296844</td>\n",
       "      <td>NaN</td>\n",
       "    </tr>\n",
       "    <tr>\n",
       "      <th>7</th>\n",
       "      <td>Most important features</td>\n",
       "      <td>20.410357</td>\n",
       "      <td>25.818412</td>\n",
       "      <td>NaN</td>\n",
       "    </tr>\n",
       "  </tbody>\n",
       "</table>\n",
       "</div>"
      ],
      "text/plain": [
       "                   Comment  Train Score  Cross-val Score  Test RMSE\n",
       "0          Part 3 Baseline    19.734712        25.296802   29.32305\n",
       "1             Location_enc    19.734395        25.297773        NaN\n",
       "2              week_no_enc    19.857266        25.361498        NaN\n",
       "3  Most important features    20.413358        25.803322        NaN\n",
       "4     + Location_cluster_2    20.404292        25.808573        NaN\n",
       "5     + Location_cluster_2    19.734710        25.296891        NaN\n",
       "6       Location_cluster_4    19.734674        25.296844        NaN\n",
       "7  Most important features    20.410357        25.818412        NaN"
      ]
     },
     "execution_count": 116,
     "metadata": {},
     "output_type": "execute_result"
    }
   ],
   "source": [
    "scores_df.loc[int(study_number), 'Test RMSE'] = np.nan\n",
    "scores_df"
   ]
  },
  {
   "cell_type": "markdown",
   "id": "7172c3ca",
   "metadata": {},
   "source": [
    "## 04. Geographical clustering\n",
    "\n",
    "The importance of latitude and longitude suggest benefits of creating location clusters: groups of locations that situated nearby. We'll also account for the 'emissions_03' to make clusters depending on similar emissions.\n",
    "\n",
    "First we'll create an elbow plot to detrmine an optimal number of clusters:"
   ]
  },
  {
   "cell_type": "code",
   "execution_count": 117,
   "id": "1fa926d5",
   "metadata": {},
   "outputs": [
    {
     "data": {
      "image/png": "[encoded data removed]",
      "text/plain": [
       "<Figure size 640x480 with 1 Axes>"
      ]
     },
     "metadata": {},
     "output_type": "display_data"
    },
    {
     "name": "stdout",
     "output_type": "stream",
     "text": [
      "CPU times: total: 3.36 s\n",
      "Wall time: 3.53 s\n"
     ]
    }
   ],
   "source": [
    "%%time\n",
    "\n",
    "study_number = '04'\n",
    "\n",
    "from sklearn.preprocessing import StandardScaler\n",
    "from scipy.cluster.vq import kmeans, vq\n",
    "import matplotlib.pyplot as plt\n",
    "import seaborn as sns\n",
    "\n",
    "\n",
    "# Create cluster data\n",
    "cluster_data = train[['latitude', 'longitude', 'emission_03']]\n",
    "\n",
    "# Normalize data\n",
    "cluster_data = pd.DataFrame(StandardScaler().fit_transform(cluster_data), columns=['latitude', 'longitude', 'emission_03'],\n",
    "                           index=cluster_data.index)\n",
    "\n",
    "distortions = []\n",
    "num_clusters = range(1, 7)\n",
    "\n",
    "# Create a list of distortions from the kmeans function\n",
    "for i in num_clusters:\n",
    "    cluster_centers, distortion = kmeans(cluster_data, k_or_guess=i, seed=SEED)\n",
    "    distortions.append(distortion)\n",
    "\n",
    "# Create a DataFrame with two lists - num_clusters, distortions\n",
    "elbow_plot = pd.DataFrame({'num_clusters': num_clusters, 'distortions': distortions})\n",
    "\n",
    "# Creat a line plot of num_clusters and distortions\n",
    "sns.lineplot(x='num_clusters', y='distortions', data = elbow_plot)\n",
    "plt.xticks(num_clusters)\n",
    "plt.show()"
   ]
  },
  {
   "cell_type": "markdown",
   "id": "4475bd5e",
   "metadata": {},
   "source": [
    "It seems that the optimal number of clusters is 2, but 4 can be also an option. Let's start with 2 clusters and look how they are situaded geographically:"
   ]
  },
  {
   "cell_type": "code",
   "execution_count": 118,
   "id": "1f19021d",
   "metadata": {},
   "outputs": [
    {
     "data": {
      "image/png": "[encoded data removed]",
      "text/plain": [
       "<Figure size 640x480 with 1 Axes>"
      ]
     },
     "metadata": {},
     "output_type": "display_data"
    },
    {
     "name": "stdout",
     "output_type": "stream",
     "text": [
      "CPU times: total: 2.2 s\n",
      "Wall time: 2.27 s\n"
     ]
    }
   ],
   "source": [
    "%%time\n",
    "\n",
    "cluster_centers, distortion = kmeans(cluster_data, k_or_guess=2, seed=SEED)\n",
    "\n",
    "\n",
    "# Assign cluster labels\n",
    "cluster_data['cluster_labels'], _ = vq(cluster_data, cluster_centers)\n",
    "\n",
    "\n",
    "# Create a scatter plot\n",
    "sns.scatterplot(x='latitude', y='longitude', hue='cluster_labels', data=cluster_data)\n",
    "plt.show()"
   ]
  },
  {
   "cell_type": "markdown",
   "id": "b5c2c050",
   "metadata": {},
   "source": [
    "Note, that even though we used scaled 'emission_03' in our clustering, our clusters have nice geographical borders. Now, let's test:"
   ]
  },
  {
   "cell_type": "code",
   "execution_count": 119,
   "id": "ddd46a2f",
   "metadata": {},
   "outputs": [
    {
     "name": "stdout",
     "output_type": "stream",
     "text": [
      "Selected columns: ['Location_cluster_2']\n",
      "CPU times: total: 2.17 s\n",
      "Wall time: 253 ms\n"
     ]
    }
   ],
   "source": [
    "%%time\n",
    "\n",
    "# Save the cluster labels into train and set\n",
    "clusters = pd.concat([train['Location'], cluster_data['cluster_labels']], axis=1)\n",
    "clusters = pd.pivot_table(clusters, values=['cluster_labels'], index=['Location'])\n",
    "clusters = pd.Series(clusters['cluster_labels'])\n",
    "\n",
    "train['Location_cluster_2'] = train['Location'].map(clusters)\n",
    "test['Location_cluster_2'] = test['Location'].map(clusters)\n",
    "\n",
    "selected_columns = ['Location_cluster_2']\n",
    "\n",
    "print('Selected columns: {}'.format(selected_columns))\n",
    "train_selected = train[selected_columns]\n",
    "train_selected = pd.concat([train_selected, train['emission_03']], axis=1)\n",
    "test_selected =  test[selected_columns]\n",
    "\n",
    "#Calculate scores\n",
    "train_score, cross_score, cross_scores_std, submission = get_score_3(global_variables, train_selected, test_selected, \n",
    "                                                                     post_training_df, model, scores_df,\n",
    "                                                                  comment=\"Location_cluster_2\")\n",
    "\n",
    "submission.to_csv('submissions/submission_3_' + study_number + '.csv', index=False)"
   ]
  },
  {
   "cell_type": "code",
   "execution_count": 120,
   "id": "a14b2570",
   "metadata": {},
   "outputs": [
    {
     "data": {
      "text/html": [
       "<div>\n",
       "<style scoped>\n",
       "    .dataframe tbody tr th:only-of-type {\n",
       "        vertical-align: middle;\n",
       "    }\n",
       "\n",
       "    .dataframe tbody tr th {\n",
       "        vertical-align: top;\n",
       "    }\n",
       "\n",
       "    .dataframe thead th {\n",
       "        text-align: right;\n",
       "    }\n",
       "</style>\n",
       "<table border=\"1\" class=\"dataframe\">\n",
       "  <thead>\n",
       "    <tr style=\"text-align: right;\">\n",
       "      <th></th>\n",
       "      <th>Comment</th>\n",
       "      <th>Train Score</th>\n",
       "      <th>Cross-val Score</th>\n",
       "      <th>Test RMSE</th>\n",
       "    </tr>\n",
       "  </thead>\n",
       "  <tbody>\n",
       "    <tr>\n",
       "      <th>0</th>\n",
       "      <td>Part 3 Baseline</td>\n",
       "      <td>19.734712</td>\n",
       "      <td>25.296802</td>\n",
       "      <td>29.32305</td>\n",
       "    </tr>\n",
       "    <tr>\n",
       "      <th>1</th>\n",
       "      <td>Location_enc</td>\n",
       "      <td>19.734395</td>\n",
       "      <td>25.297773</td>\n",
       "      <td>NaN</td>\n",
       "    </tr>\n",
       "    <tr>\n",
       "      <th>2</th>\n",
       "      <td>week_no_enc</td>\n",
       "      <td>19.857266</td>\n",
       "      <td>25.361498</td>\n",
       "      <td>NaN</td>\n",
       "    </tr>\n",
       "    <tr>\n",
       "      <th>3</th>\n",
       "      <td>Most important features</td>\n",
       "      <td>20.413358</td>\n",
       "      <td>25.803322</td>\n",
       "      <td>NaN</td>\n",
       "    </tr>\n",
       "    <tr>\n",
       "      <th>4</th>\n",
       "      <td>+ Location_cluster_2</td>\n",
       "      <td>20.404292</td>\n",
       "      <td>25.808573</td>\n",
       "      <td>NaN</td>\n",
       "    </tr>\n",
       "    <tr>\n",
       "      <th>5</th>\n",
       "      <td>+ Location_cluster_2</td>\n",
       "      <td>19.734710</td>\n",
       "      <td>25.296891</td>\n",
       "      <td>NaN</td>\n",
       "    </tr>\n",
       "    <tr>\n",
       "      <th>6</th>\n",
       "      <td>Location_cluster_4</td>\n",
       "      <td>19.734674</td>\n",
       "      <td>25.296844</td>\n",
       "      <td>NaN</td>\n",
       "    </tr>\n",
       "    <tr>\n",
       "      <th>7</th>\n",
       "      <td>Most important features</td>\n",
       "      <td>20.410357</td>\n",
       "      <td>25.818412</td>\n",
       "      <td>NaN</td>\n",
       "    </tr>\n",
       "    <tr>\n",
       "      <th>8</th>\n",
       "      <td>Location_cluster_2</td>\n",
       "      <td>19.734710</td>\n",
       "      <td>25.296891</td>\n",
       "      <td>NaN</td>\n",
       "    </tr>\n",
       "  </tbody>\n",
       "</table>\n",
       "</div>"
      ],
      "text/plain": [
       "                   Comment  Train Score  Cross-val Score  Test RMSE\n",
       "0          Part 3 Baseline    19.734712        25.296802   29.32305\n",
       "1             Location_enc    19.734395        25.297773        NaN\n",
       "2              week_no_enc    19.857266        25.361498        NaN\n",
       "3  Most important features    20.413358        25.803322        NaN\n",
       "4     + Location_cluster_2    20.404292        25.808573        NaN\n",
       "5     + Location_cluster_2    19.734710        25.296891        NaN\n",
       "6       Location_cluster_4    19.734674        25.296844        NaN\n",
       "7  Most important features    20.410357        25.818412        NaN\n",
       "8       Location_cluster_2    19.734710        25.296891        NaN"
      ]
     },
     "execution_count": 120,
     "metadata": {},
     "output_type": "execute_result"
    }
   ],
   "source": [
    "scores_df.loc[int(study_number), 'Test RMSE'] = np.nan\n",
    "scores_df"
   ]
  },
  {
   "cell_type": "markdown",
   "id": "41ec0247",
   "metadata": {},
   "source": [
    "That didn't work.\n",
    "\n",
    "## 05. Geographical clustering (4 clusters)\n",
    "\n",
    "Let's try 4 clusters:"
   ]
  },
  {
   "cell_type": "code",
   "execution_count": 109,
   "id": "2518375b",
   "metadata": {},
   "outputs": [
    {
     "data": {
      "image/png": "[encoded data removed]",
      "text/plain": [
       "<Figure size 640x480 with 1 Axes>"
      ]
     },
     "metadata": {},
     "output_type": "display_data"
    },
    {
     "name": "stdout",
     "output_type": "stream",
     "text": [
      "CPU times: total: 4.92 s\n",
      "Wall time: 5.09 s\n"
     ]
    }
   ],
   "source": [
    "%%time\n",
    "\n",
    "study_number = '05'\n",
    "\n",
    "selected_columns.remove('Location_cluster_2')\n",
    "\n",
    "cluster_centers, distortion = kmeans(cluster_data, k_or_guess=4, seed=SEED)\n",
    "\n",
    "\n",
    "# Assign cluster labels\n",
    "cluster_data['cluster_labels'], _ = vq(cluster_data, cluster_centers)\n",
    "\n",
    "\n",
    "# Create a scatter plot\n",
    "sns.scatterplot(x='latitude', y='longitude', hue='cluster_labels', data=cluster_data)\n",
    "plt.show()"
   ]
  },
  {
   "cell_type": "code",
   "execution_count": 121,
   "id": "0035a222",
   "metadata": {},
   "outputs": [
    {
     "name": "stdout",
     "output_type": "stream",
     "text": [
      "Selected columns: ['Location_cluster_4']\n",
      "CPU times: total: 2.36 s\n",
      "Wall time: 258 ms\n"
     ]
    }
   ],
   "source": [
    "%%time\n",
    "\n",
    "# Save the cluster labels into train and set\n",
    "clusters = pd.concat([train['Location'], cluster_data['cluster_labels']], axis=1)\n",
    "clusters = pd.pivot_table(clusters, values=['cluster_labels'], index=['Location'])\n",
    "clusters = pd.Series(clusters['cluster_labels'])\n",
    "\n",
    "train['Location_cluster_4'] = train['Location'].map(clusters)\n",
    "test['Location_cluster_4'] = test['Location'].map(clusters)\n",
    "\n",
    "selected_columns = ['Location_cluster_4']\n",
    "\n",
    "print('Selected columns: {}'.format(selected_columns))\n",
    "train_selected = train[selected_columns]\n",
    "train_selected = pd.concat([train_selected, train['emission_03']], axis=1)\n",
    "test_selected =  test[selected_columns]\n",
    "\n",
    "#Calculate scores\n",
    "train_score, cross_score, cross_scores_std, submission = get_score_3(global_variables, train_selected, test_selected, \n",
    "                                                                     post_training_df, model, scores_df,\n",
    "                                                                  comment=\"Location_cluster_4\")\n",
    "\n",
    "submission.to_csv('submissions/submission_3_' + study_number + '.csv', index=False)"
   ]
  },
  {
   "cell_type": "code",
   "execution_count": 122,
   "id": "18d69e21",
   "metadata": {},
   "outputs": [
    {
     "data": {
      "text/html": [
       "<div>\n",
       "<style scoped>\n",
       "    .dataframe tbody tr th:only-of-type {\n",
       "        vertical-align: middle;\n",
       "    }\n",
       "\n",
       "    .dataframe tbody tr th {\n",
       "        vertical-align: top;\n",
       "    }\n",
       "\n",
       "    .dataframe thead th {\n",
       "        text-align: right;\n",
       "    }\n",
       "</style>\n",
       "<table border=\"1\" class=\"dataframe\">\n",
       "  <thead>\n",
       "    <tr style=\"text-align: right;\">\n",
       "      <th></th>\n",
       "      <th>Comment</th>\n",
       "      <th>Train Score</th>\n",
       "      <th>Cross-val Score</th>\n",
       "      <th>Test RMSE</th>\n",
       "    </tr>\n",
       "  </thead>\n",
       "  <tbody>\n",
       "    <tr>\n",
       "      <th>0</th>\n",
       "      <td>Part 3 Baseline</td>\n",
       "      <td>19.734712</td>\n",
       "      <td>25.296802</td>\n",
       "      <td>29.32305</td>\n",
       "    </tr>\n",
       "    <tr>\n",
       "      <th>1</th>\n",
       "      <td>Location_enc</td>\n",
       "      <td>19.734395</td>\n",
       "      <td>25.297773</td>\n",
       "      <td>NaN</td>\n",
       "    </tr>\n",
       "    <tr>\n",
       "      <th>2</th>\n",
       "      <td>week_no_enc</td>\n",
       "      <td>19.857266</td>\n",
       "      <td>25.361498</td>\n",
       "      <td>NaN</td>\n",
       "    </tr>\n",
       "    <tr>\n",
       "      <th>3</th>\n",
       "      <td>Most important features</td>\n",
       "      <td>20.413358</td>\n",
       "      <td>25.803322</td>\n",
       "      <td>NaN</td>\n",
       "    </tr>\n",
       "    <tr>\n",
       "      <th>4</th>\n",
       "      <td>+ Location_cluster_2</td>\n",
       "      <td>20.404292</td>\n",
       "      <td>25.808573</td>\n",
       "      <td>NaN</td>\n",
       "    </tr>\n",
       "    <tr>\n",
       "      <th>5</th>\n",
       "      <td>+ Location_cluster_2</td>\n",
       "      <td>19.734710</td>\n",
       "      <td>25.296891</td>\n",
       "      <td>NaN</td>\n",
       "    </tr>\n",
       "    <tr>\n",
       "      <th>6</th>\n",
       "      <td>Location_cluster_4</td>\n",
       "      <td>19.734674</td>\n",
       "      <td>25.296844</td>\n",
       "      <td>NaN</td>\n",
       "    </tr>\n",
       "    <tr>\n",
       "      <th>7</th>\n",
       "      <td>Most important features</td>\n",
       "      <td>20.410357</td>\n",
       "      <td>25.818412</td>\n",
       "      <td>NaN</td>\n",
       "    </tr>\n",
       "    <tr>\n",
       "      <th>8</th>\n",
       "      <td>Location_cluster_2</td>\n",
       "      <td>19.734710</td>\n",
       "      <td>25.296891</td>\n",
       "      <td>NaN</td>\n",
       "    </tr>\n",
       "    <tr>\n",
       "      <th>9</th>\n",
       "      <td>Location_cluster_4</td>\n",
       "      <td>19.734710</td>\n",
       "      <td>25.296891</td>\n",
       "      <td>NaN</td>\n",
       "    </tr>\n",
       "  </tbody>\n",
       "</table>\n",
       "</div>"
      ],
      "text/plain": [
       "                   Comment  Train Score  Cross-val Score  Test RMSE\n",
       "0          Part 3 Baseline    19.734712        25.296802   29.32305\n",
       "1             Location_enc    19.734395        25.297773        NaN\n",
       "2              week_no_enc    19.857266        25.361498        NaN\n",
       "3  Most important features    20.413358        25.803322        NaN\n",
       "4     + Location_cluster_2    20.404292        25.808573        NaN\n",
       "5     + Location_cluster_2    19.734710        25.296891        NaN\n",
       "6       Location_cluster_4    19.734674        25.296844        NaN\n",
       "7  Most important features    20.410357        25.818412        NaN\n",
       "8       Location_cluster_2    19.734710        25.296891        NaN\n",
       "9       Location_cluster_4    19.734710        25.296891        NaN"
      ]
     },
     "execution_count": 122,
     "metadata": {},
     "output_type": "execute_result"
    }
   ],
   "source": [
    "scores_df.loc[int(study_number), 'Test RMSE'] = np.nan\n",
    "scores_df"
   ]
  },
  {
   "cell_type": "markdown",
   "id": "37b8dc45",
   "metadata": {},
   "source": [
    "That didn't work.\n",
    "\n",
    "To be sure, let's expore how our new features affect feature importances:"
   ]
  },
  {
   "cell_type": "code",
   "execution_count": 114,
   "id": "70f71003",
   "metadata": {},
   "outputs": [
    {
     "name": "stdout",
     "output_type": "stream",
     "text": [
      "Sorted feature importances (first 40):\n"
     ]
    },
    {
     "data": {
      "text/plain": [
       "Location_enc                                               122\n",
       "week_no_enc                                                 37\n",
       "WeekCount                                                   35\n",
       "Ozone_O3_column_number_density                              15\n",
       "week_no                                                     14\n",
       "Cloud_solar_azimuth_angle                                    7\n",
       "UvAerosolIndex_solar_azimuth_angle                           7\n",
       "Ozone_solar_azimuth_angle                                    6\n",
       "Ozone_O3_column_number_density_amf                           6\n",
       "longitude                                                    6\n",
       "CarbonMonoxide_CO_column_number_density                      6\n",
       "UvAerosolIndex_sensor_azimuth_angle                          3\n",
       "latitude                                                     3\n",
       "UvAerosolIndex_sensor_zenith_angle                           3\n",
       "Ozone_O3_slant_column_number_density                         3\n",
       "CarbonMonoxide_solar_azimuth_angle                           3\n",
       "Formaldehyde_sensor_azimuth_angle                            2\n",
       "NitrogenDioxide_stratospheric_NO2_column_number_density      2\n",
       "Ozone_solar_zenith_angle                                     2\n",
       "Formaldehyde_cloud_fraction                                  2\n",
       "Ozone_O3_effective_temperature                               2\n",
       "CarbonMonoxide_solar_zenith_angle                            2\n",
       "year                                                         2\n",
       "Cloud_surface_albedo                                         2\n",
       "SulphurDioxide_SO2_column_number_density_15km                1\n",
       "Cloud_cloud_fraction                                         1\n",
       "NitrogenDioxide_cloud_fraction                               1\n",
       "NitrogenDioxide_sensor_altitude                              1\n",
       "SulphurDioxide_SO2_column_number_density_amf                 1\n",
       "NitrogenDioxide_solar_azimuth_angle                          1\n",
       "NitrogenDioxide_solar_zenith_angle                           1\n",
       "UvAerosolIndex_sensor_altitude                               1\n",
       "Cloud_cloud_top_height                                       0\n",
       "Ozone_sensor_zenith_angle                                    0\n",
       "Ozone_sensor_azimuth_angle                                   0\n",
       "Cloud_sensor_zenith_angle                                    0\n",
       "Cloud_solar_zenith_angle                                     0\n",
       "Location_cluster_2                                           0\n",
       "Cloud_sensor_azimuth_angle                                   0\n",
       "Cloud_cloud_base_pressure                                    0\n",
       "dtype: int32"
      ]
     },
     "execution_count": 114,
     "metadata": {},
     "output_type": "execute_result"
    }
   ],
   "source": [
    "## Train the model on the whole training set\n",
    "model.fit(train.drop(['emission_03', 'Location', 'date'], axis=1), train['emission_03'])\n",
    "\n",
    "feature_importances = pd.Series(data=model.feature_importances_, \n",
    "                                index=train.drop(['emission_03', 'Location', 'date'], axis=1).columns)\n",
    "\n",
    "print('Sorted feature importances (first 40):')\n",
    "feature_importances.sort_values(ascending=False).head(40)"
   ]
  },
  {
   "cell_type": "markdown",
   "id": "8d866f14",
   "metadata": {},
   "source": [
    "## 06. Filling NaNs based on 15 features\n",
    "\n",
    "First, we'll use KNNImputer to input missing values based on 15 most important features:"
   ]
  },
  {
   "cell_type": "code",
   "execution_count": 123,
   "id": "d0391bbd",
   "metadata": {},
   "outputs": [
    {
     "name": "stdout",
     "output_type": "stream",
     "text": [
      "Selected columns: ['Location_enc', 'week_no_enc', 'WeekCount', 'Ozone_O3_column_number_density', 'week_no', 'Cloud_solar_azimuth_angle', 'UvAerosolIndex_solar_azimuth_angle', 'Ozone_solar_azimuth_angle', 'Ozone_O3_column_number_density_amf', 'longitude', 'CarbonMonoxide_CO_column_number_density', 'UvAerosolIndex_sensor_azimuth_angle', 'latitude', 'UvAerosolIndex_sensor_zenith_angle', 'Ozone_O3_slant_column_number_density']\n",
      "CPU times: total: 27.2 s\n",
      "Wall time: 25.6 s\n"
     ]
    }
   ],
   "source": [
    "%%time\n",
    "\n",
    "study_number = '06'\n",
    "\n",
    "selected_columns = list(feature_importances.sort_values(ascending=False).index[:15])\n",
    "\n",
    "print('Selected columns: {}'.format(selected_columns))\n",
    "train_selected = train[selected_columns]\n",
    "train_selected = pd.concat([train_selected, train['emission_03']], axis=1)\n",
    "test_selected =  test[selected_columns]\n",
    "\n",
    "from sklearn.impute import KNNImputer\n",
    "\n",
    "# define imputer\n",
    "imputer = KNNImputer(weights='distance')\n",
    "# fit on the dataset\n",
    "imputer.fit(train_selected.drop('emission_03', axis=1))\n",
    "# transform the datasets\n",
    "Xtrans = imputer.transform(train_selected.drop('emission_03', axis=1))\n",
    "train_selected_filled = pd.DataFrame(Xtrans, index=train_selected.index)\n",
    "train_selected_filled = pd.concat([train_selected_filled, train_selected['emission_03']], axis=1)\n",
    "train_selected_filled.columns = train_selected.columns\n",
    "Xtrans = imputer.transform(test_selected)\n",
    "test_selected_filled = pd.DataFrame(Xtrans, index=test_selected.index, columns=test_selected.columns)\n"
   ]
  },
  {
   "cell_type": "code",
   "execution_count": 124,
   "id": "5d00e82c",
   "metadata": {},
   "outputs": [
    {
     "name": "stdout",
     "output_type": "stream",
     "text": [
      "<class 'pandas.core.frame.DataFrame'>\n",
      "Index: 79023 entries, ID_-0.510_29.290_2019_00 to ID_-3.299_30.301_2021_52\n",
      "Data columns (total 16 columns):\n",
      " #   Column                                   Non-Null Count  Dtype  \n",
      "---  ------                                   --------------  -----  \n",
      " 0   Location_enc                             79023 non-null  float64\n",
      " 1   week_no_enc                              79023 non-null  float64\n",
      " 2   WeekCount                                79023 non-null  float64\n",
      " 3   Ozone_O3_column_number_density           79023 non-null  float64\n",
      " 4   week_no                                  79023 non-null  float64\n",
      " 5   Cloud_solar_azimuth_angle                79023 non-null  float64\n",
      " 6   UvAerosolIndex_solar_azimuth_angle       79023 non-null  float64\n",
      " 7   Ozone_solar_azimuth_angle                79023 non-null  float64\n",
      " 8   Ozone_O3_column_number_density_amf       79023 non-null  float64\n",
      " 9   longitude                                79023 non-null  float64\n",
      " 10  CarbonMonoxide_CO_column_number_density  79023 non-null  float64\n",
      " 11  UvAerosolIndex_sensor_azimuth_angle      79023 non-null  float64\n",
      " 12  latitude                                 79023 non-null  float64\n",
      " 13  UvAerosolIndex_sensor_zenith_angle       79023 non-null  float64\n",
      " 14  Ozone_O3_slant_column_number_density     79023 non-null  float64\n",
      " 15  emission_03                              79023 non-null  float64\n",
      "dtypes: float64(16)\n",
      "memory usage: 12.3+ MB\n"
     ]
    }
   ],
   "source": [
    "train_selected_filled.info()"
   ]
  },
  {
   "cell_type": "code",
   "execution_count": 125,
   "id": "25357c1c",
   "metadata": {},
   "outputs": [],
   "source": [
    "#Calculate scores\n",
    "train_score, cross_score, cross_scores_std, submission = get_score_3(global_variables, train_selected_filled, \n",
    "                                                                     test_selected_filled, \n",
    "                                                                     post_training_df, model, scores_df,\n",
    "                                                                  comment=\"kNN imputing on 15\")\n",
    "\n",
    "submission.to_csv('submissions/submission_3_' + study_number + '.csv', index=False)"
   ]
  },
  {
   "cell_type": "code",
   "execution_count": 126,
   "id": "ed3b01bb",
   "metadata": {},
   "outputs": [
    {
     "data": {
      "text/html": [
       "<div>\n",
       "<style scoped>\n",
       "    .dataframe tbody tr th:only-of-type {\n",
       "        vertical-align: middle;\n",
       "    }\n",
       "\n",
       "    .dataframe tbody tr th {\n",
       "        vertical-align: top;\n",
       "    }\n",
       "\n",
       "    .dataframe thead th {\n",
       "        text-align: right;\n",
       "    }\n",
       "</style>\n",
       "<table border=\"1\" class=\"dataframe\">\n",
       "  <thead>\n",
       "    <tr style=\"text-align: right;\">\n",
       "      <th></th>\n",
       "      <th>Comment</th>\n",
       "      <th>Train Score</th>\n",
       "      <th>Cross-val Score</th>\n",
       "      <th>Test RMSE</th>\n",
       "    </tr>\n",
       "  </thead>\n",
       "  <tbody>\n",
       "    <tr>\n",
       "      <th>0</th>\n",
       "      <td>Part 3 Baseline</td>\n",
       "      <td>19.734712</td>\n",
       "      <td>25.296802</td>\n",
       "      <td>29.32305</td>\n",
       "    </tr>\n",
       "    <tr>\n",
       "      <th>1</th>\n",
       "      <td>Location_enc</td>\n",
       "      <td>19.734395</td>\n",
       "      <td>25.297773</td>\n",
       "      <td>NaN</td>\n",
       "    </tr>\n",
       "    <tr>\n",
       "      <th>2</th>\n",
       "      <td>week_no_enc</td>\n",
       "      <td>19.857266</td>\n",
       "      <td>25.361498</td>\n",
       "      <td>NaN</td>\n",
       "    </tr>\n",
       "    <tr>\n",
       "      <th>3</th>\n",
       "      <td>Most important features</td>\n",
       "      <td>20.413358</td>\n",
       "      <td>25.803322</td>\n",
       "      <td>NaN</td>\n",
       "    </tr>\n",
       "    <tr>\n",
       "      <th>4</th>\n",
       "      <td>+ Location_cluster_2</td>\n",
       "      <td>20.404292</td>\n",
       "      <td>25.808573</td>\n",
       "      <td>NaN</td>\n",
       "    </tr>\n",
       "    <tr>\n",
       "      <th>5</th>\n",
       "      <td>+ Location_cluster_2</td>\n",
       "      <td>19.734710</td>\n",
       "      <td>25.296891</td>\n",
       "      <td>NaN</td>\n",
       "    </tr>\n",
       "    <tr>\n",
       "      <th>6</th>\n",
       "      <td>Location_cluster_4</td>\n",
       "      <td>19.734674</td>\n",
       "      <td>25.296844</td>\n",
       "      <td>NaN</td>\n",
       "    </tr>\n",
       "    <tr>\n",
       "      <th>7</th>\n",
       "      <td>Most important features</td>\n",
       "      <td>20.410357</td>\n",
       "      <td>25.818412</td>\n",
       "      <td>NaN</td>\n",
       "    </tr>\n",
       "    <tr>\n",
       "      <th>8</th>\n",
       "      <td>Location_cluster_2</td>\n",
       "      <td>19.734710</td>\n",
       "      <td>25.296891</td>\n",
       "      <td>NaN</td>\n",
       "    </tr>\n",
       "    <tr>\n",
       "      <th>9</th>\n",
       "      <td>Location_cluster_4</td>\n",
       "      <td>19.734710</td>\n",
       "      <td>25.296891</td>\n",
       "      <td>NaN</td>\n",
       "    </tr>\n",
       "    <tr>\n",
       "      <th>10</th>\n",
       "      <td>kNN imputing on 15</td>\n",
       "      <td>20.408619</td>\n",
       "      <td>25.804035</td>\n",
       "      <td>NaN</td>\n",
       "    </tr>\n",
       "  </tbody>\n",
       "</table>\n",
       "</div>"
      ],
      "text/plain": [
       "                    Comment  Train Score  Cross-val Score  Test RMSE\n",
       "0           Part 3 Baseline    19.734712        25.296802   29.32305\n",
       "1              Location_enc    19.734395        25.297773        NaN\n",
       "2               week_no_enc    19.857266        25.361498        NaN\n",
       "3   Most important features    20.413358        25.803322        NaN\n",
       "4      + Location_cluster_2    20.404292        25.808573        NaN\n",
       "5      + Location_cluster_2    19.734710        25.296891        NaN\n",
       "6        Location_cluster_4    19.734674        25.296844        NaN\n",
       "7   Most important features    20.410357        25.818412        NaN\n",
       "8        Location_cluster_2    19.734710        25.296891        NaN\n",
       "9        Location_cluster_4    19.734710        25.296891        NaN\n",
       "10       kNN imputing on 15    20.408619        25.804035        NaN"
      ]
     },
     "execution_count": 126,
     "metadata": {},
     "output_type": "execute_result"
    }
   ],
   "source": [
    "scores_df.loc[int(study_number), 'Test RMSE'] = np.nan\n",
    "scores_df"
   ]
  },
  {
   "cell_type": "markdown",
   "id": "36224302",
   "metadata": {},
   "source": [
    "This filling works worse than NaNs.\n",
    "\n",
    "## 07. Filling NaNs based on 5 most important\n",
    "\n",
    "Now we'll use 5 most important features in calculating distances. They contain information about location and week of the year."
   ]
  },
  {
   "cell_type": "code",
   "execution_count": 127,
   "id": "1e186b87",
   "metadata": {},
   "outputs": [
    {
     "name": "stdout",
     "output_type": "stream",
     "text": [
      "CPU times: total: 1min 7s\n",
      "Wall time: 40.7 s\n"
     ]
    }
   ],
   "source": [
    "%%time\n",
    "\n",
    "study_number = '07'\n",
    "\n",
    "selected_columns_5 = list(feature_importances.sort_values(ascending=False).index[:5])\n",
    "five_features_train = train[selected_columns_5]\n",
    "five_features_test =  test[selected_columns_5]\n",
    "\n",
    "# For each column with missing values\n",
    "for column in list(train_selected.columns[train_selected.isna().any()]):\n",
    "    \n",
    "    # Create a DataFrame of a feature with missing values and 5 most important features\n",
    "    df_to_fill_train = pd.concat([train[column], five_features_train], axis=1)\n",
    "    df_to_fill_test = pd.concat([test[column], five_features_test], axis=1)\n",
    "                                  \n",
    "    # fit on the dataset\n",
    "    imputer.fit(df_to_fill_train)\n",
    "    # transform the datasets\n",
    "    Xtrans = imputer.transform(df_to_fill_train)\n",
    "    train_selected_filled[column] = Xtrans[:, 0]\n",
    "    Xtrans = imputer.transform(df_to_fill_test)\n",
    "    test_selected_filled[column] = Xtrans[:, 0]\n",
    "\n"
   ]
  },
  {
   "cell_type": "code",
   "execution_count": 128,
   "id": "21718c96",
   "metadata": {},
   "outputs": [
    {
     "name": "stdout",
     "output_type": "stream",
     "text": [
      "<class 'pandas.core.frame.DataFrame'>\n",
      "Index: 79023 entries, ID_-0.510_29.290_2019_00 to ID_-3.299_30.301_2021_52\n",
      "Data columns (total 16 columns):\n",
      " #   Column                                   Non-Null Count  Dtype  \n",
      "---  ------                                   --------------  -----  \n",
      " 0   Location_enc                             79023 non-null  float64\n",
      " 1   week_no_enc                              79023 non-null  float64\n",
      " 2   WeekCount                                79023 non-null  float64\n",
      " 3   Ozone_O3_column_number_density           79023 non-null  float64\n",
      " 4   week_no                                  79023 non-null  float64\n",
      " 5   Cloud_solar_azimuth_angle                79023 non-null  float64\n",
      " 6   UvAerosolIndex_solar_azimuth_angle       79023 non-null  float64\n",
      " 7   Ozone_solar_azimuth_angle                79023 non-null  float64\n",
      " 8   Ozone_O3_column_number_density_amf       79023 non-null  float64\n",
      " 9   longitude                                79023 non-null  float64\n",
      " 10  CarbonMonoxide_CO_column_number_density  79023 non-null  float64\n",
      " 11  UvAerosolIndex_sensor_azimuth_angle      79023 non-null  float64\n",
      " 12  latitude                                 79023 non-null  float64\n",
      " 13  UvAerosolIndex_sensor_zenith_angle       79023 non-null  float64\n",
      " 14  Ozone_O3_slant_column_number_density     79023 non-null  float64\n",
      " 15  emission_03                              79023 non-null  float64\n",
      "dtypes: float64(16)\n",
      "memory usage: 12.3+ MB\n"
     ]
    }
   ],
   "source": [
    "train_selected_filled.info()"
   ]
  },
  {
   "cell_type": "code",
   "execution_count": 129,
   "id": "02c6882d",
   "metadata": {},
   "outputs": [
    {
     "name": "stdout",
     "output_type": "stream",
     "text": [
      "<class 'pandas.core.frame.DataFrame'>\n",
      "Index: 24353 entries, ID_-0.510_29.290_2022_00 to ID_-3.299_30.301_2022_48\n",
      "Data columns (total 15 columns):\n",
      " #   Column                                   Non-Null Count  Dtype  \n",
      "---  ------                                   --------------  -----  \n",
      " 0   Location_enc                             24353 non-null  float64\n",
      " 1   week_no_enc                              24353 non-null  float64\n",
      " 2   WeekCount                                24353 non-null  float64\n",
      " 3   Ozone_O3_column_number_density           24353 non-null  float64\n",
      " 4   week_no                                  24353 non-null  float64\n",
      " 5   Cloud_solar_azimuth_angle                24353 non-null  float64\n",
      " 6   UvAerosolIndex_solar_azimuth_angle       24353 non-null  float64\n",
      " 7   Ozone_solar_azimuth_angle                24353 non-null  float64\n",
      " 8   Ozone_O3_column_number_density_amf       24353 non-null  float64\n",
      " 9   longitude                                24353 non-null  float64\n",
      " 10  CarbonMonoxide_CO_column_number_density  24353 non-null  float64\n",
      " 11  UvAerosolIndex_sensor_azimuth_angle      24353 non-null  float64\n",
      " 12  latitude                                 24353 non-null  float64\n",
      " 13  UvAerosolIndex_sensor_zenith_angle       24353 non-null  float64\n",
      " 14  Ozone_O3_slant_column_number_density     24353 non-null  float64\n",
      "dtypes: float64(15)\n",
      "memory usage: 3.0+ MB\n"
     ]
    }
   ],
   "source": [
    "test_selected_filled.info()"
   ]
  },
  {
   "cell_type": "code",
   "execution_count": 130,
   "id": "8859e160",
   "metadata": {},
   "outputs": [],
   "source": [
    "#Calculate scores\n",
    "train_score, cross_score, cross_scores_std, submission = get_score_3(global_variables, train_selected_filled,\n",
    "                                                                     test_selected_filled, \n",
    "                                                                     post_training_df, model, scores_df,\n",
    "                                                                  comment=\"kNN imputing based on 5\")\n",
    "\n",
    "submission.to_csv('submissions/submission_3_' + study_number + '.csv', index=False)"
   ]
  },
  {
   "cell_type": "code",
   "execution_count": 131,
   "id": "4eca5493",
   "metadata": {},
   "outputs": [
    {
     "data": {
      "text/html": [
       "<div>\n",
       "<style scoped>\n",
       "    .dataframe tbody tr th:only-of-type {\n",
       "        vertical-align: middle;\n",
       "    }\n",
       "\n",
       "    .dataframe tbody tr th {\n",
       "        vertical-align: top;\n",
       "    }\n",
       "\n",
       "    .dataframe thead th {\n",
       "        text-align: right;\n",
       "    }\n",
       "</style>\n",
       "<table border=\"1\" class=\"dataframe\">\n",
       "  <thead>\n",
       "    <tr style=\"text-align: right;\">\n",
       "      <th></th>\n",
       "      <th>Comment</th>\n",
       "      <th>Train Score</th>\n",
       "      <th>Cross-val Score</th>\n",
       "      <th>Test RMSE</th>\n",
       "    </tr>\n",
       "  </thead>\n",
       "  <tbody>\n",
       "    <tr>\n",
       "      <th>0</th>\n",
       "      <td>Part 3 Baseline</td>\n",
       "      <td>19.734712</td>\n",
       "      <td>25.296802</td>\n",
       "      <td>29.32305</td>\n",
       "    </tr>\n",
       "    <tr>\n",
       "      <th>1</th>\n",
       "      <td>Location_enc</td>\n",
       "      <td>19.734395</td>\n",
       "      <td>25.297773</td>\n",
       "      <td>NaN</td>\n",
       "    </tr>\n",
       "    <tr>\n",
       "      <th>2</th>\n",
       "      <td>week_no_enc</td>\n",
       "      <td>19.857266</td>\n",
       "      <td>25.361498</td>\n",
       "      <td>NaN</td>\n",
       "    </tr>\n",
       "    <tr>\n",
       "      <th>3</th>\n",
       "      <td>Most important features</td>\n",
       "      <td>20.413358</td>\n",
       "      <td>25.803322</td>\n",
       "      <td>NaN</td>\n",
       "    </tr>\n",
       "    <tr>\n",
       "      <th>4</th>\n",
       "      <td>+ Location_cluster_2</td>\n",
       "      <td>20.404292</td>\n",
       "      <td>25.808573</td>\n",
       "      <td>NaN</td>\n",
       "    </tr>\n",
       "    <tr>\n",
       "      <th>5</th>\n",
       "      <td>+ Location_cluster_2</td>\n",
       "      <td>19.734710</td>\n",
       "      <td>25.296891</td>\n",
       "      <td>NaN</td>\n",
       "    </tr>\n",
       "    <tr>\n",
       "      <th>6</th>\n",
       "      <td>Location_cluster_4</td>\n",
       "      <td>19.734674</td>\n",
       "      <td>25.296844</td>\n",
       "      <td>NaN</td>\n",
       "    </tr>\n",
       "    <tr>\n",
       "      <th>7</th>\n",
       "      <td>Most important features</td>\n",
       "      <td>20.410357</td>\n",
       "      <td>25.818412</td>\n",
       "      <td>NaN</td>\n",
       "    </tr>\n",
       "    <tr>\n",
       "      <th>8</th>\n",
       "      <td>Location_cluster_2</td>\n",
       "      <td>19.734710</td>\n",
       "      <td>25.296891</td>\n",
       "      <td>NaN</td>\n",
       "    </tr>\n",
       "    <tr>\n",
       "      <th>9</th>\n",
       "      <td>Location_cluster_4</td>\n",
       "      <td>19.734710</td>\n",
       "      <td>25.296891</td>\n",
       "      <td>NaN</td>\n",
       "    </tr>\n",
       "    <tr>\n",
       "      <th>10</th>\n",
       "      <td>kNN imputing on 15</td>\n",
       "      <td>20.408619</td>\n",
       "      <td>25.804035</td>\n",
       "      <td>NaN</td>\n",
       "    </tr>\n",
       "    <tr>\n",
       "      <th>11</th>\n",
       "      <td>kNN imputing based on 5</td>\n",
       "      <td>20.416829</td>\n",
       "      <td>25.809215</td>\n",
       "      <td>NaN</td>\n",
       "    </tr>\n",
       "  </tbody>\n",
       "</table>\n",
       "</div>"
      ],
      "text/plain": [
       "                    Comment  Train Score  Cross-val Score  Test RMSE\n",
       "0           Part 3 Baseline    19.734712        25.296802   29.32305\n",
       "1              Location_enc    19.734395        25.297773        NaN\n",
       "2               week_no_enc    19.857266        25.361498        NaN\n",
       "3   Most important features    20.413358        25.803322        NaN\n",
       "4      + Location_cluster_2    20.404292        25.808573        NaN\n",
       "5      + Location_cluster_2    19.734710        25.296891        NaN\n",
       "6        Location_cluster_4    19.734674        25.296844        NaN\n",
       "7   Most important features    20.410357        25.818412        NaN\n",
       "8        Location_cluster_2    19.734710        25.296891        NaN\n",
       "9        Location_cluster_4    19.734710        25.296891        NaN\n",
       "10       kNN imputing on 15    20.408619        25.804035        NaN\n",
       "11  kNN imputing based on 5    20.416829        25.809215        NaN"
      ]
     },
     "execution_count": 131,
     "metadata": {},
     "output_type": "execute_result"
    }
   ],
   "source": [
    "scores_df.loc[int(study_number), 'Test RMSE'] = np.nan\n",
    "scores_df"
   ]
  },
  {
   "cell_type": "markdown",
   "id": "be7ec2ae",
   "metadata": {},
   "source": [
    "As we can see, kNN imputing didn't work. "
   ]
  }
 ],
 "metadata": {
  "kernelspec": {
   "display_name": "Python 3 (ipykernel)",
   "language": "python",
   "name": "python3"
  },
  "language_info": {
   "codemirror_mode": {
    "name": "ipython",
    "version": 3
   },
   "file_extension": ".py",
   "mimetype": "text/x-python",
   "name": "python",
   "nbconvert_exporter": "python",
   "pygments_lexer": "ipython3",
   "version": "3.10.9"
  }
 },
 "nbformat": 4,
 "nbformat_minor": 5
}
