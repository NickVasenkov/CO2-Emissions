{
 "cells": [
  {
   "cell_type": "markdown",
   "id": "ac816661",
   "metadata": {},
   "source": [
    "Let's load the datasets from the previous parts:"
   ]
  },
  {
   "cell_type": "code",
   "execution_count": 78,
   "id": "df903e87",
   "metadata": {},
   "outputs": [
    {
     "name": "stdout",
     "output_type": "stream",
     "text": [
      "CPU times: total: 1.2 s\n",
      "Wall time: 1.28 s\n"
     ]
    }
   ],
   "source": [
    "%%time\n",
    "\n",
    "import pandas as pd\n",
    "import numpy as np\n",
    "\n",
    "\n",
    "global_variables = pd.read_csv('global_variables.csv', index_col=0)\n",
    "SEED = global_variables.loc[0, 'SEED']\n",
    "train_from_part_1 = pd.read_csv('new_datasets/train_from_part_1.csv', index_col='ID_LAT_LON_YEAR_WEEK')\n",
    "test_from_part_1 = pd.read_csv('new_datasets/test_from_part_1.csv', index_col='ID_LAT_LON_YEAR_WEEK')\n",
    "train_from_part_2 = pd.read_csv('new_datasets/train_from_part_2.csv', index_col='ID_LAT_LON_YEAR_WEEK')\n",
    "test_from_part_2 = pd.read_csv('new_datasets/test_from_part_2.csv', index_col='ID_LAT_LON_YEAR_WEEK')\n",
    "\n",
    "train_predictions_part_1 = pd.read_csv('new_datasets/train_predictions_part_1.csv', index_col='ID_LAT_LON_YEAR_WEEK')\n",
    "test_predictions_part_1 = pd.read_csv('new_datasets/test_predictions_part_1.csv', index_col='ID_LAT_LON_YEAR_WEEK')\n",
    "\n",
    "# Create date feature\n",
    "train_from_part_2['date'] = pd.to_datetime(train_from_part_2['date'])\n",
    "test_from_part_2['date'] = pd.to_datetime(test_from_part_2['date'])\n",
    "\n",
    "top_three_values = train_from_part_1.loc[:, 'Location_enc'].drop_duplicates().sort_values(ascending = False).head(3)\n",
    "top_three_locations = train_from_part_1.loc[train_from_part_1['Location_enc'].isin(top_three_values), 'Location'].drop_duplicates()\n",
    "\n",
    "scores_df = pd.DataFrame({'Comment': [], 'Train Score': [], 'Cross-val Score': [], 'Test RMSE': []})"
   ]
  },
  {
   "cell_type": "markdown",
   "id": "7658f336",
   "metadata": {},
   "source": [
    "## 00. Naive stacking"
   ]
  },
  {
   "cell_type": "code",
   "execution_count": 79,
   "id": "23978c7d",
   "metadata": {},
   "outputs": [
    {
     "data": {
      "text/html": [
       "<div>\n",
       "<style scoped>\n",
       "    .dataframe tbody tr th:only-of-type {\n",
       "        vertical-align: middle;\n",
       "    }\n",
       "\n",
       "    .dataframe tbody tr th {\n",
       "        vertical-align: top;\n",
       "    }\n",
       "\n",
       "    .dataframe thead th {\n",
       "        text-align: right;\n",
       "    }\n",
       "</style>\n",
       "<table border=\"1\" class=\"dataframe\">\n",
       "  <thead>\n",
       "    <tr style=\"text-align: right;\">\n",
       "      <th></th>\n",
       "      <th>predictions_part_1</th>\n",
       "      <th>predictions_part_2</th>\n",
       "      <th>emission</th>\n",
       "    </tr>\n",
       "    <tr>\n",
       "      <th>ID_LAT_LON_YEAR_WEEK</th>\n",
       "      <th></th>\n",
       "      <th></th>\n",
       "      <th></th>\n",
       "    </tr>\n",
       "  </thead>\n",
       "  <tbody>\n",
       "    <tr>\n",
       "      <th>ID_-0.510_29.290_2019_00</th>\n",
       "      <td>-8.325628</td>\n",
       "      <td>4.213550</td>\n",
       "      <td>3.750994</td>\n",
       "    </tr>\n",
       "    <tr>\n",
       "      <th>ID_-0.510_29.290_2019_01</th>\n",
       "      <td>-6.741870</td>\n",
       "      <td>4.275836</td>\n",
       "      <td>4.025176</td>\n",
       "    </tr>\n",
       "    <tr>\n",
       "      <th>ID_-0.510_29.290_2019_02</th>\n",
       "      <td>-25.216510</td>\n",
       "      <td>4.425881</td>\n",
       "      <td>4.231381</td>\n",
       "    </tr>\n",
       "    <tr>\n",
       "      <th>ID_-0.510_29.290_2019_03</th>\n",
       "      <td>-7.736105</td>\n",
       "      <td>4.508129</td>\n",
       "      <td>4.305286</td>\n",
       "    </tr>\n",
       "    <tr>\n",
       "      <th>ID_-0.510_29.290_2019_04</th>\n",
       "      <td>-8.036695</td>\n",
       "      <td>4.511833</td>\n",
       "      <td>4.347317</td>\n",
       "    </tr>\n",
       "  </tbody>\n",
       "</table>\n",
       "</div>"
      ],
      "text/plain": [
       "                          predictions_part_1  predictions_part_2  emission\n",
       "ID_LAT_LON_YEAR_WEEK                                                      \n",
       "ID_-0.510_29.290_2019_00           -8.325628            4.213550  3.750994\n",
       "ID_-0.510_29.290_2019_01           -6.741870            4.275836  4.025176\n",
       "ID_-0.510_29.290_2019_02          -25.216510            4.425881  4.231381\n",
       "ID_-0.510_29.290_2019_03           -7.736105            4.508129  4.305286\n",
       "ID_-0.510_29.290_2019_04           -8.036695            4.511833  4.347317"
      ]
     },
     "execution_count": 79,
     "metadata": {},
     "output_type": "execute_result"
    }
   ],
   "source": [
    "train_selected = pd.concat([train_predictions_part_1['train_predictions_part_1'],\n",
    "                            train_from_part_2[['emission_pred_03', 'emission']]], axis=1)\n",
    "train_selected.columns = ['predictions_part_1', 'predictions_part_2', 'emission']\n",
    "\n",
    "test_selected = pd.concat([test_predictions_part_1['test_predictions_part_1'],\n",
    "                            test_from_part_2['emission_pred_03']], axis=1)\n",
    "test_selected.columns = ['predictions_part_1', 'predictions_part_2']\n",
    "\n",
    "train_selected.head()"
   ]
  },
  {
   "cell_type": "code",
   "execution_count": 80,
   "id": "c8777fda",
   "metadata": {},
   "outputs": [
    {
     "name": "stdout",
     "output_type": "stream",
     "text": [
      "CPU times: total: 1min 12s\n",
      "Wall time: 6.92 s\n"
     ]
    }
   ],
   "source": [
    "%%time\n",
    "\n",
    "study_number = '00'\n",
    "\n",
    "import xgboost as xgb\n",
    "\n",
    "# Instantiate the regressor\n",
    "model = xgb.XGBRegressor(random_state=SEED, n_jobs=-1)\n",
    "\n",
    "# Calculate scores\n",
    "from functions.get_score import get_score\n",
    "train_score, cross_score, cross_scores_std, submission = get_score(global_variables,\n",
    "                                                                   train_selected,\n",
    "                                                                   test_selected,\n",
    "                                                                   model, scores_df,\n",
    "                                                                   comment=\"Naive Stacking\")\n",
    "\n",
    "submission.to_csv('submissions/submission_3_{}.csv'.format(study_number), index=False)"
   ]
  },
  {
   "cell_type": "code",
   "execution_count": 81,
   "id": "c70c8a0d",
   "metadata": {},
   "outputs": [
    {
     "data": {
      "text/html": [
       "<div>\n",
       "<style scoped>\n",
       "    .dataframe tbody tr th:only-of-type {\n",
       "        vertical-align: middle;\n",
       "    }\n",
       "\n",
       "    .dataframe tbody tr th {\n",
       "        vertical-align: top;\n",
       "    }\n",
       "\n",
       "    .dataframe thead th {\n",
       "        text-align: right;\n",
       "    }\n",
       "</style>\n",
       "<table border=\"1\" class=\"dataframe\">\n",
       "  <thead>\n",
       "    <tr style=\"text-align: right;\">\n",
       "      <th></th>\n",
       "      <th>Comment</th>\n",
       "      <th>Train Score</th>\n",
       "      <th>Cross-val Score</th>\n",
       "      <th>Test RMSE</th>\n",
       "    </tr>\n",
       "  </thead>\n",
       "  <tbody>\n",
       "    <tr>\n",
       "      <th>0</th>\n",
       "      <td>Naive Stacking</td>\n",
       "      <td>7.360223</td>\n",
       "      <td>86.042238</td>\n",
       "      <td>37.46291</td>\n",
       "    </tr>\n",
       "  </tbody>\n",
       "</table>\n",
       "</div>"
      ],
      "text/plain": [
       "          Comment  Train Score  Cross-val Score  Test RMSE\n",
       "0  Naive Stacking     7.360223        86.042238   37.46291"
      ]
     },
     "execution_count": 81,
     "metadata": {},
     "output_type": "execute_result"
    }
   ],
   "source": [
    "scores_df.loc[int(study_number), 'Test RMSE'] = 37.46291\n",
    "scores_df"
   ]
  },
  {
   "cell_type": "markdown",
   "id": "0d094d48",
   "metadata": {},
   "source": [
    "## 01. Add Location+week_no_enc"
   ]
  },
  {
   "cell_type": "code",
   "execution_count": 82,
   "id": "380ce567",
   "metadata": {},
   "outputs": [
    {
     "name": "stdout",
     "output_type": "stream",
     "text": [
      "CPU times: total: 1min 15s\n",
      "Wall time: 7.24 s\n"
     ]
    }
   ],
   "source": [
    "%%time\n",
    "\n",
    "study_number = '01'\n",
    "\n",
    "train_selected = pd.concat([train_selected, train_from_part_1['Location+week_no_enc']], axis=1)\n",
    "test_selected = pd.concat([test_selected, test_from_part_1['Location+week_no_enc']], axis=1)\n",
    "\n",
    "train_score, cross_score, cross_scores_std, submission = get_score(global_variables,\n",
    "                                                                   train_selected,\n",
    "                                                                   test_selected,\n",
    "                                                                   model, scores_df,\n",
    "                                                                   comment=\"+ Location+week_no_enc\")\n",
    "\n",
    "submission.to_csv('submissions/submission_3_{}.csv'.format(study_number), index=False)"
   ]
  },
  {
   "cell_type": "code",
   "execution_count": 83,
   "id": "cf8d72b6",
   "metadata": {},
   "outputs": [
    {
     "data": {
      "text/html": [
       "<div>\n",
       "<style scoped>\n",
       "    .dataframe tbody tr th:only-of-type {\n",
       "        vertical-align: middle;\n",
       "    }\n",
       "\n",
       "    .dataframe tbody tr th {\n",
       "        vertical-align: top;\n",
       "    }\n",
       "\n",
       "    .dataframe thead th {\n",
       "        text-align: right;\n",
       "    }\n",
       "</style>\n",
       "<table border=\"1\" class=\"dataframe\">\n",
       "  <thead>\n",
       "    <tr style=\"text-align: right;\">\n",
       "      <th></th>\n",
       "      <th>Comment</th>\n",
       "      <th>Train Score</th>\n",
       "      <th>Cross-val Score</th>\n",
       "      <th>Test RMSE</th>\n",
       "    </tr>\n",
       "  </thead>\n",
       "  <tbody>\n",
       "    <tr>\n",
       "      <th>0</th>\n",
       "      <td>Naive Stacking</td>\n",
       "      <td>7.360223</td>\n",
       "      <td>86.042238</td>\n",
       "      <td>37.46291</td>\n",
       "    </tr>\n",
       "    <tr>\n",
       "      <th>1</th>\n",
       "      <td>+ Location+week_no_enc</td>\n",
       "      <td>6.512240</td>\n",
       "      <td>84.763073</td>\n",
       "      <td>NaN</td>\n",
       "    </tr>\n",
       "  </tbody>\n",
       "</table>\n",
       "</div>"
      ],
      "text/plain": [
       "                  Comment  Train Score  Cross-val Score  Test RMSE\n",
       "0          Naive Stacking     7.360223        86.042238   37.46291\n",
       "1  + Location+week_no_enc     6.512240        84.763073        NaN"
      ]
     },
     "execution_count": 83,
     "metadata": {},
     "output_type": "execute_result"
    }
   ],
   "source": [
    "scores_df.loc[int(study_number), 'Test RMSE'] = np.nan\n",
    "scores_df"
   ]
  },
  {
   "cell_type": "markdown",
   "id": "aeb6006a",
   "metadata": {},
   "source": [
    "## 02. Add Location_enc"
   ]
  },
  {
   "cell_type": "code",
   "execution_count": 84,
   "id": "0321e389",
   "metadata": {},
   "outputs": [
    {
     "name": "stdout",
     "output_type": "stream",
     "text": [
      "CPU times: total: 1min 13s\n",
      "Wall time: 7.39 s\n"
     ]
    }
   ],
   "source": [
    "%%time\n",
    "\n",
    "study_number = '02'\n",
    "\n",
    "train_selected = pd.concat([train_selected, train_from_part_1['Location_enc']], axis=1)\n",
    "test_selected = pd.concat([test_selected, test_from_part_1['Location_enc']], axis=1)\n",
    "\n",
    "train_score, cross_score, cross_scores_std, submission = get_score(global_variables,\n",
    "                                                                   train_selected,\n",
    "                                                                   test_selected,\n",
    "                                                                   model, scores_df,\n",
    "                                                                   comment=\"+ Location_enc\")\n",
    "\n",
    "submission.to_csv('submissions/submission_3_{}.csv'.format(study_number), index=False)"
   ]
  },
  {
   "cell_type": "code",
   "execution_count": 85,
   "id": "9a0288f2",
   "metadata": {},
   "outputs": [
    {
     "data": {
      "text/html": [
       "<div>\n",
       "<style scoped>\n",
       "    .dataframe tbody tr th:only-of-type {\n",
       "        vertical-align: middle;\n",
       "    }\n",
       "\n",
       "    .dataframe tbody tr th {\n",
       "        vertical-align: top;\n",
       "    }\n",
       "\n",
       "    .dataframe thead th {\n",
       "        text-align: right;\n",
       "    }\n",
       "</style>\n",
       "<table border=\"1\" class=\"dataframe\">\n",
       "  <thead>\n",
       "    <tr style=\"text-align: right;\">\n",
       "      <th></th>\n",
       "      <th>Comment</th>\n",
       "      <th>Train Score</th>\n",
       "      <th>Cross-val Score</th>\n",
       "      <th>Test RMSE</th>\n",
       "    </tr>\n",
       "  </thead>\n",
       "  <tbody>\n",
       "    <tr>\n",
       "      <th>0</th>\n",
       "      <td>Naive Stacking</td>\n",
       "      <td>7.360223</td>\n",
       "      <td>86.042238</td>\n",
       "      <td>37.46291</td>\n",
       "    </tr>\n",
       "    <tr>\n",
       "      <th>1</th>\n",
       "      <td>+ Location+week_no_enc</td>\n",
       "      <td>6.512240</td>\n",
       "      <td>84.763073</td>\n",
       "      <td>NaN</td>\n",
       "    </tr>\n",
       "    <tr>\n",
       "      <th>2</th>\n",
       "      <td>+ Location_enc</td>\n",
       "      <td>6.032389</td>\n",
       "      <td>86.400346</td>\n",
       "      <td>NaN</td>\n",
       "    </tr>\n",
       "  </tbody>\n",
       "</table>\n",
       "</div>"
      ],
      "text/plain": [
       "                  Comment  Train Score  Cross-val Score  Test RMSE\n",
       "0          Naive Stacking     7.360223        86.042238   37.46291\n",
       "1  + Location+week_no_enc     6.512240        84.763073        NaN\n",
       "2          + Location_enc     6.032389        86.400346        NaN"
      ]
     },
     "execution_count": 85,
     "metadata": {},
     "output_type": "execute_result"
    }
   ],
   "source": [
    "scores_df.loc[int(study_number), 'Test RMSE'] = np.nan\n",
    "scores_df"
   ]
  },
  {
   "cell_type": "code",
   "execution_count": 86,
   "id": "448f5fb6",
   "metadata": {},
   "outputs": [],
   "source": [
    "train_selected = train_selected.drop('Location_enc', axis=1)\n",
    "test_selected = test_selected.drop('Location_enc', axis=1)"
   ]
  },
  {
   "cell_type": "markdown",
   "id": "50d91a49",
   "metadata": {},
   "source": [
    "## 03. Add longitude"
   ]
  },
  {
   "cell_type": "code",
   "execution_count": 87,
   "id": "7b67720d",
   "metadata": {},
   "outputs": [
    {
     "name": "stdout",
     "output_type": "stream",
     "text": [
      "CPU times: total: 1min 13s\n",
      "Wall time: 7.52 s\n"
     ]
    }
   ],
   "source": [
    "%%time\n",
    "\n",
    "study_number = '03'\n",
    "\n",
    "train_selected = pd.concat([train_selected, train_from_part_1['longitude']], axis=1)\n",
    "test_selected = pd.concat([test_selected, test_from_part_1['longitude']], axis=1)\n",
    "\n",
    "train_score, cross_score, cross_scores_std, submission = get_score(global_variables,\n",
    "                                                                   train_selected,\n",
    "                                                                   test_selected,\n",
    "                                                                   model, scores_df,\n",
    "                                                                   comment=\"1+ longitude\")\n",
    "\n",
    "submission.to_csv('submissions/submission_3_{}.csv'.format(study_number), index=False)"
   ]
  },
  {
   "cell_type": "code",
   "execution_count": 88,
   "id": "4945982f",
   "metadata": {},
   "outputs": [
    {
     "data": {
      "text/html": [
       "<div>\n",
       "<style scoped>\n",
       "    .dataframe tbody tr th:only-of-type {\n",
       "        vertical-align: middle;\n",
       "    }\n",
       "\n",
       "    .dataframe tbody tr th {\n",
       "        vertical-align: top;\n",
       "    }\n",
       "\n",
       "    .dataframe thead th {\n",
       "        text-align: right;\n",
       "    }\n",
       "</style>\n",
       "<table border=\"1\" class=\"dataframe\">\n",
       "  <thead>\n",
       "    <tr style=\"text-align: right;\">\n",
       "      <th></th>\n",
       "      <th>Comment</th>\n",
       "      <th>Train Score</th>\n",
       "      <th>Cross-val Score</th>\n",
       "      <th>Test RMSE</th>\n",
       "    </tr>\n",
       "  </thead>\n",
       "  <tbody>\n",
       "    <tr>\n",
       "      <th>0</th>\n",
       "      <td>Naive Stacking</td>\n",
       "      <td>7.360223</td>\n",
       "      <td>86.042238</td>\n",
       "      <td>37.46291</td>\n",
       "    </tr>\n",
       "    <tr>\n",
       "      <th>1</th>\n",
       "      <td>+ Location+week_no_enc</td>\n",
       "      <td>6.512240</td>\n",
       "      <td>84.763073</td>\n",
       "      <td>NaN</td>\n",
       "    </tr>\n",
       "    <tr>\n",
       "      <th>2</th>\n",
       "      <td>+ Location_enc</td>\n",
       "      <td>6.032389</td>\n",
       "      <td>86.400346</td>\n",
       "      <td>NaN</td>\n",
       "    </tr>\n",
       "    <tr>\n",
       "      <th>3</th>\n",
       "      <td>1+ longitude</td>\n",
       "      <td>6.265567</td>\n",
       "      <td>84.504798</td>\n",
       "      <td>NaN</td>\n",
       "    </tr>\n",
       "  </tbody>\n",
       "</table>\n",
       "</div>"
      ],
      "text/plain": [
       "                  Comment  Train Score  Cross-val Score  Test RMSE\n",
       "0          Naive Stacking     7.360223        86.042238   37.46291\n",
       "1  + Location+week_no_enc     6.512240        84.763073        NaN\n",
       "2          + Location_enc     6.032389        86.400346        NaN\n",
       "3            1+ longitude     6.265567        84.504798        NaN"
      ]
     },
     "execution_count": 88,
     "metadata": {},
     "output_type": "execute_result"
    }
   ],
   "source": [
    "scores_df.loc[int(study_number), 'Test RMSE'] = np.nan\n",
    "scores_df"
   ]
  },
  {
   "cell_type": "markdown",
   "id": "41746463",
   "metadata": {},
   "source": [
    "## 04. Add year"
   ]
  },
  {
   "cell_type": "code",
   "execution_count": 89,
   "id": "6b53cdf8",
   "metadata": {},
   "outputs": [
    {
     "name": "stdout",
     "output_type": "stream",
     "text": [
      "CPU times: total: 1min 18s\n",
      "Wall time: 7.54 s\n"
     ]
    }
   ],
   "source": [
    "%%time\n",
    "\n",
    "study_number = '04'\n",
    "\n",
    "train_selected = pd.concat([train_selected, train_from_part_1['year']], axis=1)\n",
    "test_selected = pd.concat([test_selected, test_from_part_1['year']], axis=1)\n",
    "\n",
    "train_score, cross_score, cross_scores_std, submission = get_score(global_variables,\n",
    "                                                                   train_selected,\n",
    "                                                                   test_selected,\n",
    "                                                                   model, scores_df,\n",
    "                                                                   comment=\"+ year\")\n",
    "\n",
    "submission.to_csv('submissions/submission_3_{}.csv'.format(study_number), index=False)"
   ]
  },
  {
   "cell_type": "code",
   "execution_count": 90,
   "id": "971d5d27",
   "metadata": {},
   "outputs": [
    {
     "data": {
      "text/html": [
       "<div>\n",
       "<style scoped>\n",
       "    .dataframe tbody tr th:only-of-type {\n",
       "        vertical-align: middle;\n",
       "    }\n",
       "\n",
       "    .dataframe tbody tr th {\n",
       "        vertical-align: top;\n",
       "    }\n",
       "\n",
       "    .dataframe thead th {\n",
       "        text-align: right;\n",
       "    }\n",
       "</style>\n",
       "<table border=\"1\" class=\"dataframe\">\n",
       "  <thead>\n",
       "    <tr style=\"text-align: right;\">\n",
       "      <th></th>\n",
       "      <th>Comment</th>\n",
       "      <th>Train Score</th>\n",
       "      <th>Cross-val Score</th>\n",
       "      <th>Test RMSE</th>\n",
       "    </tr>\n",
       "  </thead>\n",
       "  <tbody>\n",
       "    <tr>\n",
       "      <th>0</th>\n",
       "      <td>Naive Stacking</td>\n",
       "      <td>7.360223</td>\n",
       "      <td>86.042238</td>\n",
       "      <td>37.46291</td>\n",
       "    </tr>\n",
       "    <tr>\n",
       "      <th>1</th>\n",
       "      <td>+ Location+week_no_enc</td>\n",
       "      <td>6.512240</td>\n",
       "      <td>84.763073</td>\n",
       "      <td>NaN</td>\n",
       "    </tr>\n",
       "    <tr>\n",
       "      <th>2</th>\n",
       "      <td>+ Location_enc</td>\n",
       "      <td>6.032389</td>\n",
       "      <td>86.400346</td>\n",
       "      <td>NaN</td>\n",
       "    </tr>\n",
       "    <tr>\n",
       "      <th>3</th>\n",
       "      <td>1+ longitude</td>\n",
       "      <td>6.265567</td>\n",
       "      <td>84.504798</td>\n",
       "      <td>NaN</td>\n",
       "    </tr>\n",
       "    <tr>\n",
       "      <th>4</th>\n",
       "      <td>+ year</td>\n",
       "      <td>5.982000</td>\n",
       "      <td>84.583876</td>\n",
       "      <td>NaN</td>\n",
       "    </tr>\n",
       "  </tbody>\n",
       "</table>\n",
       "</div>"
      ],
      "text/plain": [
       "                  Comment  Train Score  Cross-val Score  Test RMSE\n",
       "0          Naive Stacking     7.360223        86.042238   37.46291\n",
       "1  + Location+week_no_enc     6.512240        84.763073        NaN\n",
       "2          + Location_enc     6.032389        86.400346        NaN\n",
       "3            1+ longitude     6.265567        84.504798        NaN\n",
       "4                  + year     5.982000        84.583876        NaN"
      ]
     },
     "execution_count": 90,
     "metadata": {},
     "output_type": "execute_result"
    }
   ],
   "source": [
    "scores_df.loc[int(study_number), 'Test RMSE'] = np.nan\n",
    "scores_df"
   ]
  },
  {
   "cell_type": "code",
   "execution_count": 91,
   "id": "67f75d5d",
   "metadata": {},
   "outputs": [],
   "source": [
    "train_selected = train_selected.drop('year', axis=1)\n",
    "test_selected = test_selected.drop('year', axis=1)"
   ]
  },
  {
   "cell_type": "markdown",
   "id": "3e218cf1",
   "metadata": {},
   "source": [
    "## 05. Add week_no"
   ]
  },
  {
   "cell_type": "code",
   "execution_count": 92,
   "id": "9ba4dffd",
   "metadata": {},
   "outputs": [
    {
     "name": "stdout",
     "output_type": "stream",
     "text": [
      "CPU times: total: 1min 19s\n",
      "Wall time: 7.67 s\n"
     ]
    }
   ],
   "source": [
    "%%time\n",
    "\n",
    "study_number = '05'\n",
    "\n",
    "train_selected = pd.concat([train_selected, train_from_part_1['week_no']], axis=1)\n",
    "test_selected = pd.concat([test_selected, test_from_part_1['week_no']], axis=1)\n",
    "\n",
    "train_score, cross_score, cross_scores_std, submission = get_score(global_variables,\n",
    "                                                                   train_selected,\n",
    "                                                                   test_selected,\n",
    "                                                                   model, scores_df,\n",
    "                                                                   comment=\"3 + week_no\")\n",
    "\n",
    "submission.to_csv('submissions/submission_3_{}.csv'.format(study_number), index=False)"
   ]
  },
  {
   "cell_type": "code",
   "execution_count": 93,
   "id": "79f6bac7",
   "metadata": {},
   "outputs": [
    {
     "data": {
      "text/html": [
       "<div>\n",
       "<style scoped>\n",
       "    .dataframe tbody tr th:only-of-type {\n",
       "        vertical-align: middle;\n",
       "    }\n",
       "\n",
       "    .dataframe tbody tr th {\n",
       "        vertical-align: top;\n",
       "    }\n",
       "\n",
       "    .dataframe thead th {\n",
       "        text-align: right;\n",
       "    }\n",
       "</style>\n",
       "<table border=\"1\" class=\"dataframe\">\n",
       "  <thead>\n",
       "    <tr style=\"text-align: right;\">\n",
       "      <th></th>\n",
       "      <th>Comment</th>\n",
       "      <th>Train Score</th>\n",
       "      <th>Cross-val Score</th>\n",
       "      <th>Test RMSE</th>\n",
       "    </tr>\n",
       "  </thead>\n",
       "  <tbody>\n",
       "    <tr>\n",
       "      <th>0</th>\n",
       "      <td>Naive Stacking</td>\n",
       "      <td>7.360223</td>\n",
       "      <td>86.042238</td>\n",
       "      <td>37.46291</td>\n",
       "    </tr>\n",
       "    <tr>\n",
       "      <th>1</th>\n",
       "      <td>+ Location+week_no_enc</td>\n",
       "      <td>6.512240</td>\n",
       "      <td>84.763073</td>\n",
       "      <td>NaN</td>\n",
       "    </tr>\n",
       "    <tr>\n",
       "      <th>2</th>\n",
       "      <td>+ Location_enc</td>\n",
       "      <td>6.032389</td>\n",
       "      <td>86.400346</td>\n",
       "      <td>NaN</td>\n",
       "    </tr>\n",
       "    <tr>\n",
       "      <th>3</th>\n",
       "      <td>1+ longitude</td>\n",
       "      <td>6.265567</td>\n",
       "      <td>84.504798</td>\n",
       "      <td>NaN</td>\n",
       "    </tr>\n",
       "    <tr>\n",
       "      <th>4</th>\n",
       "      <td>+ year</td>\n",
       "      <td>5.982000</td>\n",
       "      <td>84.583876</td>\n",
       "      <td>NaN</td>\n",
       "    </tr>\n",
       "    <tr>\n",
       "      <th>5</th>\n",
       "      <td>2 + week_no</td>\n",
       "      <td>5.703851</td>\n",
       "      <td>85.698933</td>\n",
       "      <td>NaN</td>\n",
       "    </tr>\n",
       "  </tbody>\n",
       "</table>\n",
       "</div>"
      ],
      "text/plain": [
       "                  Comment  Train Score  Cross-val Score  Test RMSE\n",
       "0          Naive Stacking     7.360223        86.042238   37.46291\n",
       "1  + Location+week_no_enc     6.512240        84.763073        NaN\n",
       "2          + Location_enc     6.032389        86.400346        NaN\n",
       "3            1+ longitude     6.265567        84.504798        NaN\n",
       "4                  + year     5.982000        84.583876        NaN\n",
       "5             2 + week_no     5.703851        85.698933        NaN"
      ]
     },
     "execution_count": 93,
     "metadata": {},
     "output_type": "execute_result"
    }
   ],
   "source": [
    "scores_df.loc[int(study_number), 'Test RMSE'] = np.nan\n",
    "scores_df"
   ]
  },
  {
   "cell_type": "code",
   "execution_count": 94,
   "id": "1209a3d6",
   "metadata": {},
   "outputs": [],
   "source": [
    "train_selected = train_selected.drop('week_no', axis=1)\n",
    "test_selected = test_selected.drop('week_no', axis=1)"
   ]
  },
  {
   "cell_type": "markdown",
   "id": "2a049364",
   "metadata": {},
   "source": [
    "## 06. Add week_no_enc"
   ]
  },
  {
   "cell_type": "code",
   "execution_count": 95,
   "id": "9d9f96ba",
   "metadata": {},
   "outputs": [
    {
     "name": "stdout",
     "output_type": "stream",
     "text": [
      "CPU times: total: 1min 18s\n",
      "Wall time: 8.02 s\n"
     ]
    }
   ],
   "source": [
    "%%time\n",
    "\n",
    "study_number = '06'\n",
    "\n",
    "train_selected = pd.concat([train_selected, train_from_part_1['week_no_enc']], axis=1)\n",
    "test_selected = pd.concat([test_selected, test_from_part_1['week_no_enc']], axis=1)\n",
    "\n",
    "train_score, cross_score, cross_scores_std, submission = get_score(global_variables,\n",
    "                                                                   train_selected,\n",
    "                                                                   test_selected,\n",
    "                                                                   model, scores_df,\n",
    "                                                                   comment=\"3 + week_no_enc\")\n",
    "\n",
    "submission.to_csv('submissions/submission_3_{}.csv'.format(study_number), index=False)"
   ]
  },
  {
   "cell_type": "code",
   "execution_count": 97,
   "id": "e4e86ac0",
   "metadata": {},
   "outputs": [
    {
     "data": {
      "text/html": [
       "<div>\n",
       "<style scoped>\n",
       "    .dataframe tbody tr th:only-of-type {\n",
       "        vertical-align: middle;\n",
       "    }\n",
       "\n",
       "    .dataframe tbody tr th {\n",
       "        vertical-align: top;\n",
       "    }\n",
       "\n",
       "    .dataframe thead th {\n",
       "        text-align: right;\n",
       "    }\n",
       "</style>\n",
       "<table border=\"1\" class=\"dataframe\">\n",
       "  <thead>\n",
       "    <tr style=\"text-align: right;\">\n",
       "      <th></th>\n",
       "      <th>Comment</th>\n",
       "      <th>Train Score</th>\n",
       "      <th>Cross-val Score</th>\n",
       "      <th>Test RMSE</th>\n",
       "    </tr>\n",
       "  </thead>\n",
       "  <tbody>\n",
       "    <tr>\n",
       "      <th>0</th>\n",
       "      <td>Naive Stacking</td>\n",
       "      <td>7.360223</td>\n",
       "      <td>86.042238</td>\n",
       "      <td>37.46291</td>\n",
       "    </tr>\n",
       "    <tr>\n",
       "      <th>1</th>\n",
       "      <td>+ Location+week_no_enc</td>\n",
       "      <td>6.512240</td>\n",
       "      <td>84.763073</td>\n",
       "      <td>NaN</td>\n",
       "    </tr>\n",
       "    <tr>\n",
       "      <th>2</th>\n",
       "      <td>+ Location_enc</td>\n",
       "      <td>6.032389</td>\n",
       "      <td>86.400346</td>\n",
       "      <td>NaN</td>\n",
       "    </tr>\n",
       "    <tr>\n",
       "      <th>3</th>\n",
       "      <td>1+ longitude</td>\n",
       "      <td>6.265567</td>\n",
       "      <td>84.504798</td>\n",
       "      <td>NaN</td>\n",
       "    </tr>\n",
       "    <tr>\n",
       "      <th>4</th>\n",
       "      <td>+ year</td>\n",
       "      <td>5.982000</td>\n",
       "      <td>84.583876</td>\n",
       "      <td>NaN</td>\n",
       "    </tr>\n",
       "    <tr>\n",
       "      <th>5</th>\n",
       "      <td>2 + week_no</td>\n",
       "      <td>5.703851</td>\n",
       "      <td>85.698933</td>\n",
       "      <td>NaN</td>\n",
       "    </tr>\n",
       "    <tr>\n",
       "      <th>6</th>\n",
       "      <td>2 + week_no_enc</td>\n",
       "      <td>5.868567</td>\n",
       "      <td>85.300826</td>\n",
       "      <td>NaN</td>\n",
       "    </tr>\n",
       "  </tbody>\n",
       "</table>\n",
       "</div>"
      ],
      "text/plain": [
       "                  Comment  Train Score  Cross-val Score  Test RMSE\n",
       "0          Naive Stacking     7.360223        86.042238   37.46291\n",
       "1  + Location+week_no_enc     6.512240        84.763073        NaN\n",
       "2          + Location_enc     6.032389        86.400346        NaN\n",
       "3            1+ longitude     6.265567        84.504798        NaN\n",
       "4                  + year     5.982000        84.583876        NaN\n",
       "5             2 + week_no     5.703851        85.698933        NaN\n",
       "6         2 + week_no_enc     5.868567        85.300826        NaN"
      ]
     },
     "execution_count": 97,
     "metadata": {},
     "output_type": "execute_result"
    }
   ],
   "source": [
    "scores_df.loc[int(study_number), 'Test RMSE'] = np.nan\n",
    "scores_df"
   ]
  },
  {
   "cell_type": "code",
   "execution_count": 98,
   "id": "11c357c7",
   "metadata": {},
   "outputs": [
    {
     "name": "stdout",
     "output_type": "stream",
     "text": [
      "<class 'pandas.core.frame.DataFrame'>\n",
      "Index: 79023 entries, ID_-0.510_29.290_2019_00 to ID_-3.299_30.301_2021_52\n",
      "Data columns (total 5 columns):\n",
      " #   Column                Non-Null Count  Dtype  \n",
      "---  ------                --------------  -----  \n",
      " 0   predictions_part_1    79023 non-null  float64\n",
      " 1   predictions_part_2    79023 non-null  float64\n",
      " 2   emission              79023 non-null  float64\n",
      " 3   Location+week_no_enc  79023 non-null  float64\n",
      " 4   longitude             79023 non-null  float64\n",
      "dtypes: float64(5)\n",
      "memory usage: 5.6+ MB\n"
     ]
    }
   ],
   "source": [
    "train_selected = train_selected.drop('week_no_enc', axis=1)\n",
    "test_selected = test_selected.drop('week_no_enc', axis=1)\n",
    "\n",
    "train_selected.info()"
   ]
  },
  {
   "cell_type": "markdown",
   "id": "27a29a40",
   "metadata": {},
   "source": [
    "## 07. Add CarbonMonoxide_CO_column_number_density"
   ]
  },
  {
   "cell_type": "code",
   "execution_count": 99,
   "id": "d486fc16",
   "metadata": {},
   "outputs": [
    {
     "name": "stdout",
     "output_type": "stream",
     "text": [
      "CPU times: total: 2min 13s\n",
      "Wall time: 13 s\n"
     ]
    }
   ],
   "source": [
    "%%time\n",
    "\n",
    "study_number = '07'\n",
    "\n",
    "train_selected = pd.concat([train_selected, train_from_part_1['CarbonMonoxide_CO_column_number_density']], axis=1)\n",
    "test_selected = pd.concat([test_selected, test_from_part_1['CarbonMonoxide_CO_column_number_density']], axis=1)\n",
    "\n",
    "train_score, cross_score, cross_scores_std, submission = get_score(global_variables,\n",
    "                                                                   train_selected,\n",
    "                                                                   test_selected,\n",
    "                                                                   model, scores_df,\n",
    "                                                                   comment=\"3 + CarbonMonoxide_CO_column_number_density\")\n",
    "\n",
    "submission.to_csv('submissions/submission_3_{}.csv'.format(study_number), index=False)"
   ]
  },
  {
   "cell_type": "code",
   "execution_count": 100,
   "id": "a3d618d3",
   "metadata": {},
   "outputs": [
    {
     "data": {
      "text/html": [
       "<div>\n",
       "<style scoped>\n",
       "    .dataframe tbody tr th:only-of-type {\n",
       "        vertical-align: middle;\n",
       "    }\n",
       "\n",
       "    .dataframe tbody tr th {\n",
       "        vertical-align: top;\n",
       "    }\n",
       "\n",
       "    .dataframe thead th {\n",
       "        text-align: right;\n",
       "    }\n",
       "</style>\n",
       "<table border=\"1\" class=\"dataframe\">\n",
       "  <thead>\n",
       "    <tr style=\"text-align: right;\">\n",
       "      <th></th>\n",
       "      <th>Comment</th>\n",
       "      <th>Train Score</th>\n",
       "      <th>Cross-val Score</th>\n",
       "      <th>Test RMSE</th>\n",
       "    </tr>\n",
       "  </thead>\n",
       "  <tbody>\n",
       "    <tr>\n",
       "      <th>0</th>\n",
       "      <td>Naive Stacking</td>\n",
       "      <td>7.360223</td>\n",
       "      <td>86.042238</td>\n",
       "      <td>37.46291</td>\n",
       "    </tr>\n",
       "    <tr>\n",
       "      <th>1</th>\n",
       "      <td>+ Location+week_no_enc</td>\n",
       "      <td>6.512240</td>\n",
       "      <td>84.763073</td>\n",
       "      <td>NaN</td>\n",
       "    </tr>\n",
       "    <tr>\n",
       "      <th>2</th>\n",
       "      <td>+ Location_enc</td>\n",
       "      <td>6.032389</td>\n",
       "      <td>86.400346</td>\n",
       "      <td>NaN</td>\n",
       "    </tr>\n",
       "    <tr>\n",
       "      <th>3</th>\n",
       "      <td>1+ longitude</td>\n",
       "      <td>6.265567</td>\n",
       "      <td>84.504798</td>\n",
       "      <td>NaN</td>\n",
       "    </tr>\n",
       "    <tr>\n",
       "      <th>4</th>\n",
       "      <td>+ year</td>\n",
       "      <td>5.982000</td>\n",
       "      <td>84.583876</td>\n",
       "      <td>NaN</td>\n",
       "    </tr>\n",
       "    <tr>\n",
       "      <th>5</th>\n",
       "      <td>2 + week_no</td>\n",
       "      <td>5.703851</td>\n",
       "      <td>85.698933</td>\n",
       "      <td>NaN</td>\n",
       "    </tr>\n",
       "    <tr>\n",
       "      <th>6</th>\n",
       "      <td>2 + week_no_enc</td>\n",
       "      <td>5.868567</td>\n",
       "      <td>85.300826</td>\n",
       "      <td>NaN</td>\n",
       "    </tr>\n",
       "    <tr>\n",
       "      <th>7</th>\n",
       "      <td>3 + CarbonMonoxide_CO_column_number_density</td>\n",
       "      <td>6.029976</td>\n",
       "      <td>86.348407</td>\n",
       "      <td>NaN</td>\n",
       "    </tr>\n",
       "  </tbody>\n",
       "</table>\n",
       "</div>"
      ],
      "text/plain": [
       "                                       Comment  Train Score  Cross-val Score  \\\n",
       "0                               Naive Stacking     7.360223        86.042238   \n",
       "1                       + Location+week_no_enc     6.512240        84.763073   \n",
       "2                               + Location_enc     6.032389        86.400346   \n",
       "3                                 1+ longitude     6.265567        84.504798   \n",
       "4                                       + year     5.982000        84.583876   \n",
       "5                                  2 + week_no     5.703851        85.698933   \n",
       "6                              2 + week_no_enc     5.868567        85.300826   \n",
       "7  3 + CarbonMonoxide_CO_column_number_density     6.029976        86.348407   \n",
       "\n",
       "   Test RMSE  \n",
       "0   37.46291  \n",
       "1        NaN  \n",
       "2        NaN  \n",
       "3        NaN  \n",
       "4        NaN  \n",
       "5        NaN  \n",
       "6        NaN  \n",
       "7        NaN  "
      ]
     },
     "execution_count": 100,
     "metadata": {},
     "output_type": "execute_result"
    }
   ],
   "source": [
    "scores_df.loc[int(study_number), 'Test RMSE'] = np.nan\n",
    "scores_df"
   ]
  },
  {
   "cell_type": "code",
   "execution_count": 101,
   "id": "35baba63",
   "metadata": {},
   "outputs": [
    {
     "name": "stdout",
     "output_type": "stream",
     "text": [
      "<class 'pandas.core.frame.DataFrame'>\n",
      "Index: 79023 entries, ID_-0.510_29.290_2019_00 to ID_-3.299_30.301_2021_52\n",
      "Data columns (total 5 columns):\n",
      " #   Column                Non-Null Count  Dtype  \n",
      "---  ------                --------------  -----  \n",
      " 0   predictions_part_1    79023 non-null  float64\n",
      " 1   predictions_part_2    79023 non-null  float64\n",
      " 2   emission              79023 non-null  float64\n",
      " 3   Location+week_no_enc  79023 non-null  float64\n",
      " 4   longitude             79023 non-null  float64\n",
      "dtypes: float64(5)\n",
      "memory usage: 5.6+ MB\n"
     ]
    }
   ],
   "source": [
    "train_selected = train_selected.drop('CarbonMonoxide_CO_column_number_density', axis=1)\n",
    "test_selected = test_selected.drop('CarbonMonoxide_CO_column_number_density', axis=1)\n",
    "\n",
    "train_selected.info()"
   ]
  },
  {
   "cell_type": "markdown",
   "id": "6e809f29",
   "metadata": {},
   "source": [
    "## 08. Add Ozone_O3_column_number_density"
   ]
  },
  {
   "cell_type": "code",
   "execution_count": 102,
   "id": "fc806dee",
   "metadata": {},
   "outputs": [
    {
     "name": "stdout",
     "output_type": "stream",
     "text": [
      "CPU times: total: 2min 17s\n",
      "Wall time: 13.1 s\n"
     ]
    }
   ],
   "source": [
    "%%time\n",
    "\n",
    "study_number = '08'\n",
    "\n",
    "train_selected = pd.concat([train_selected, train_from_part_1['Ozone_O3_column_number_density']], axis=1)\n",
    "test_selected = pd.concat([test_selected, test_from_part_1['Ozone_O3_column_number_density']], axis=1)\n",
    "\n",
    "train_score, cross_score, cross_scores_std, submission = get_score(global_variables,\n",
    "                                                                   train_selected,\n",
    "                                                                   test_selected,\n",
    "                                                                   model, scores_df,\n",
    "                                                                   comment=\"3 + Ozone_O3_column_number_density\")\n",
    "\n",
    "submission.to_csv('submissions/submission_3_{}.csv'.format(study_number), index=False)"
   ]
  },
  {
   "cell_type": "code",
   "execution_count": 103,
   "id": "efc0c62e",
   "metadata": {},
   "outputs": [
    {
     "data": {
      "text/html": [
       "<div>\n",
       "<style scoped>\n",
       "    .dataframe tbody tr th:only-of-type {\n",
       "        vertical-align: middle;\n",
       "    }\n",
       "\n",
       "    .dataframe tbody tr th {\n",
       "        vertical-align: top;\n",
       "    }\n",
       "\n",
       "    .dataframe thead th {\n",
       "        text-align: right;\n",
       "    }\n",
       "</style>\n",
       "<table border=\"1\" class=\"dataframe\">\n",
       "  <thead>\n",
       "    <tr style=\"text-align: right;\">\n",
       "      <th></th>\n",
       "      <th>Comment</th>\n",
       "      <th>Train Score</th>\n",
       "      <th>Cross-val Score</th>\n",
       "      <th>Test RMSE</th>\n",
       "    </tr>\n",
       "  </thead>\n",
       "  <tbody>\n",
       "    <tr>\n",
       "      <th>0</th>\n",
       "      <td>Naive Stacking</td>\n",
       "      <td>7.360223</td>\n",
       "      <td>86.042238</td>\n",
       "      <td>37.46291</td>\n",
       "    </tr>\n",
       "    <tr>\n",
       "      <th>1</th>\n",
       "      <td>+ Location+week_no_enc</td>\n",
       "      <td>6.512240</td>\n",
       "      <td>84.763073</td>\n",
       "      <td>NaN</td>\n",
       "    </tr>\n",
       "    <tr>\n",
       "      <th>2</th>\n",
       "      <td>+ Location_enc</td>\n",
       "      <td>6.032389</td>\n",
       "      <td>86.400346</td>\n",
       "      <td>NaN</td>\n",
       "    </tr>\n",
       "    <tr>\n",
       "      <th>3</th>\n",
       "      <td>1+ longitude</td>\n",
       "      <td>6.265567</td>\n",
       "      <td>84.504798</td>\n",
       "      <td>NaN</td>\n",
       "    </tr>\n",
       "    <tr>\n",
       "      <th>4</th>\n",
       "      <td>+ year</td>\n",
       "      <td>5.982000</td>\n",
       "      <td>84.583876</td>\n",
       "      <td>NaN</td>\n",
       "    </tr>\n",
       "    <tr>\n",
       "      <th>5</th>\n",
       "      <td>2 + week_no</td>\n",
       "      <td>5.703851</td>\n",
       "      <td>85.698933</td>\n",
       "      <td>NaN</td>\n",
       "    </tr>\n",
       "    <tr>\n",
       "      <th>6</th>\n",
       "      <td>2 + week_no_enc</td>\n",
       "      <td>5.868567</td>\n",
       "      <td>85.300826</td>\n",
       "      <td>NaN</td>\n",
       "    </tr>\n",
       "    <tr>\n",
       "      <th>7</th>\n",
       "      <td>3 + CarbonMonoxide_CO_column_number_density</td>\n",
       "      <td>6.029976</td>\n",
       "      <td>86.348407</td>\n",
       "      <td>NaN</td>\n",
       "    </tr>\n",
       "    <tr>\n",
       "      <th>8</th>\n",
       "      <td>3 + Ozone_O3_column_number_density</td>\n",
       "      <td>5.911377</td>\n",
       "      <td>84.828404</td>\n",
       "      <td>NaN</td>\n",
       "    </tr>\n",
       "  </tbody>\n",
       "</table>\n",
       "</div>"
      ],
      "text/plain": [
       "                                       Comment  Train Score  Cross-val Score  \\\n",
       "0                               Naive Stacking     7.360223        86.042238   \n",
       "1                       + Location+week_no_enc     6.512240        84.763073   \n",
       "2                               + Location_enc     6.032389        86.400346   \n",
       "3                                 1+ longitude     6.265567        84.504798   \n",
       "4                                       + year     5.982000        84.583876   \n",
       "5                                  2 + week_no     5.703851        85.698933   \n",
       "6                              2 + week_no_enc     5.868567        85.300826   \n",
       "7  3 + CarbonMonoxide_CO_column_number_density     6.029976        86.348407   \n",
       "8           3 + Ozone_O3_column_number_density     5.911377        84.828404   \n",
       "\n",
       "   Test RMSE  \n",
       "0   37.46291  \n",
       "1        NaN  \n",
       "2        NaN  \n",
       "3        NaN  \n",
       "4        NaN  \n",
       "5        NaN  \n",
       "6        NaN  \n",
       "7        NaN  \n",
       "8        NaN  "
      ]
     },
     "execution_count": 103,
     "metadata": {},
     "output_type": "execute_result"
    }
   ],
   "source": [
    "scores_df.loc[int(study_number), 'Test RMSE'] = np.nan\n",
    "scores_df"
   ]
  },
  {
   "cell_type": "code",
   "execution_count": 104,
   "id": "17324981",
   "metadata": {},
   "outputs": [
    {
     "name": "stdout",
     "output_type": "stream",
     "text": [
      "<class 'pandas.core.frame.DataFrame'>\n",
      "Index: 79023 entries, ID_-0.510_29.290_2019_00 to ID_-3.299_30.301_2021_52\n",
      "Data columns (total 5 columns):\n",
      " #   Column                Non-Null Count  Dtype  \n",
      "---  ------                --------------  -----  \n",
      " 0   predictions_part_1    79023 non-null  float64\n",
      " 1   predictions_part_2    79023 non-null  float64\n",
      " 2   emission              79023 non-null  float64\n",
      " 3   Location+week_no_enc  79023 non-null  float64\n",
      " 4   longitude             79023 non-null  float64\n",
      "dtypes: float64(5)\n",
      "memory usage: 5.6+ MB\n"
     ]
    }
   ],
   "source": [
    "train_selected = train_selected.drop('Ozone_O3_column_number_density', axis=1)\n",
    "test_selected = test_selected.drop('Ozone_O3_column_number_density', axis=1)\n",
    "\n",
    "train_selected.info()"
   ]
  },
  {
   "cell_type": "markdown",
   "id": "e32b0dcb",
   "metadata": {},
   "source": [
    "## 09. Add latitude"
   ]
  },
  {
   "cell_type": "code",
   "execution_count": 105,
   "id": "fc3a53ad",
   "metadata": {},
   "outputs": [
    {
     "name": "stdout",
     "output_type": "stream",
     "text": [
      "CPU times: total: 1min 17s\n",
      "Wall time: 7.22 s\n"
     ]
    }
   ],
   "source": [
    "%%time\n",
    "\n",
    "study_number = '09'\n",
    "\n",
    "train_selected = pd.concat([train_selected, train_from_part_1['latitude']], axis=1)\n",
    "test_selected = pd.concat([test_selected, test_from_part_1['latitude']], axis=1)\n",
    "\n",
    "train_score, cross_score, cross_scores_std, submission = get_score(global_variables,\n",
    "                                                                   train_selected,\n",
    "                                                                   test_selected,\n",
    "                                                                   model, scores_df,\n",
    "                                                                   comment=\"3 + latitude\")\n",
    "\n",
    "submission.to_csv('submissions/submission_3_{}.csv'.format(study_number), index=False)"
   ]
  },
  {
   "cell_type": "code",
   "execution_count": 106,
   "id": "0fbc6da5",
   "metadata": {},
   "outputs": [
    {
     "data": {
      "text/html": [
       "<div>\n",
       "<style scoped>\n",
       "    .dataframe tbody tr th:only-of-type {\n",
       "        vertical-align: middle;\n",
       "    }\n",
       "\n",
       "    .dataframe tbody tr th {\n",
       "        vertical-align: top;\n",
       "    }\n",
       "\n",
       "    .dataframe thead th {\n",
       "        text-align: right;\n",
       "    }\n",
       "</style>\n",
       "<table border=\"1\" class=\"dataframe\">\n",
       "  <thead>\n",
       "    <tr style=\"text-align: right;\">\n",
       "      <th></th>\n",
       "      <th>Comment</th>\n",
       "      <th>Train Score</th>\n",
       "      <th>Cross-val Score</th>\n",
       "      <th>Test RMSE</th>\n",
       "    </tr>\n",
       "  </thead>\n",
       "  <tbody>\n",
       "    <tr>\n",
       "      <th>0</th>\n",
       "      <td>Naive Stacking</td>\n",
       "      <td>7.360223</td>\n",
       "      <td>86.042238</td>\n",
       "      <td>37.46291</td>\n",
       "    </tr>\n",
       "    <tr>\n",
       "      <th>1</th>\n",
       "      <td>+ Location+week_no_enc</td>\n",
       "      <td>6.512240</td>\n",
       "      <td>84.763073</td>\n",
       "      <td>NaN</td>\n",
       "    </tr>\n",
       "    <tr>\n",
       "      <th>2</th>\n",
       "      <td>+ Location_enc</td>\n",
       "      <td>6.032389</td>\n",
       "      <td>86.400346</td>\n",
       "      <td>NaN</td>\n",
       "    </tr>\n",
       "    <tr>\n",
       "      <th>3</th>\n",
       "      <td>1+ longitude</td>\n",
       "      <td>6.265567</td>\n",
       "      <td>84.504798</td>\n",
       "      <td>NaN</td>\n",
       "    </tr>\n",
       "    <tr>\n",
       "      <th>4</th>\n",
       "      <td>+ year</td>\n",
       "      <td>5.982000</td>\n",
       "      <td>84.583876</td>\n",
       "      <td>NaN</td>\n",
       "    </tr>\n",
       "    <tr>\n",
       "      <th>5</th>\n",
       "      <td>2 + week_no</td>\n",
       "      <td>5.703851</td>\n",
       "      <td>85.698933</td>\n",
       "      <td>NaN</td>\n",
       "    </tr>\n",
       "    <tr>\n",
       "      <th>6</th>\n",
       "      <td>2 + week_no_enc</td>\n",
       "      <td>5.868567</td>\n",
       "      <td>85.300826</td>\n",
       "      <td>NaN</td>\n",
       "    </tr>\n",
       "    <tr>\n",
       "      <th>7</th>\n",
       "      <td>3 + CarbonMonoxide_CO_column_number_density</td>\n",
       "      <td>6.029976</td>\n",
       "      <td>86.348407</td>\n",
       "      <td>NaN</td>\n",
       "    </tr>\n",
       "    <tr>\n",
       "      <th>8</th>\n",
       "      <td>3 + Ozone_O3_column_number_density</td>\n",
       "      <td>5.911377</td>\n",
       "      <td>84.828404</td>\n",
       "      <td>NaN</td>\n",
       "    </tr>\n",
       "    <tr>\n",
       "      <th>9</th>\n",
       "      <td>3 + latitude</td>\n",
       "      <td>6.035920</td>\n",
       "      <td>84.644241</td>\n",
       "      <td>NaN</td>\n",
       "    </tr>\n",
       "  </tbody>\n",
       "</table>\n",
       "</div>"
      ],
      "text/plain": [
       "                                       Comment  Train Score  Cross-val Score  \\\n",
       "0                               Naive Stacking     7.360223        86.042238   \n",
       "1                       + Location+week_no_enc     6.512240        84.763073   \n",
       "2                               + Location_enc     6.032389        86.400346   \n",
       "3                                 1+ longitude     6.265567        84.504798   \n",
       "4                                       + year     5.982000        84.583876   \n",
       "5                                  2 + week_no     5.703851        85.698933   \n",
       "6                              2 + week_no_enc     5.868567        85.300826   \n",
       "7  3 + CarbonMonoxide_CO_column_number_density     6.029976        86.348407   \n",
       "8           3 + Ozone_O3_column_number_density     5.911377        84.828404   \n",
       "9                                 3 + latitude     6.035920        84.644241   \n",
       "\n",
       "   Test RMSE  \n",
       "0   37.46291  \n",
       "1        NaN  \n",
       "2        NaN  \n",
       "3        NaN  \n",
       "4        NaN  \n",
       "5        NaN  \n",
       "6        NaN  \n",
       "7        NaN  \n",
       "8        NaN  \n",
       "9        NaN  "
      ]
     },
     "execution_count": 106,
     "metadata": {},
     "output_type": "execute_result"
    }
   ],
   "source": [
    "scores_df.loc[int(study_number), 'Test RMSE'] = np.nan\n",
    "scores_df"
   ]
  },
  {
   "cell_type": "code",
   "execution_count": 108,
   "id": "7f1b9817",
   "metadata": {},
   "outputs": [
    {
     "name": "stdout",
     "output_type": "stream",
     "text": [
      "<class 'pandas.core.frame.DataFrame'>\n",
      "Index: 79023 entries, ID_-0.510_29.290_2019_00 to ID_-3.299_30.301_2021_52\n",
      "Data columns (total 5 columns):\n",
      " #   Column                Non-Null Count  Dtype  \n",
      "---  ------                --------------  -----  \n",
      " 0   predictions_part_1    79023 non-null  float64\n",
      " 1   predictions_part_2    79023 non-null  float64\n",
      " 2   emission              79023 non-null  float64\n",
      " 3   Location+week_no_enc  79023 non-null  float64\n",
      " 4   longitude             79023 non-null  float64\n",
      "dtypes: float64(5)\n",
      "memory usage: 5.6+ MB\n"
     ]
    }
   ],
   "source": [
    "train_selected = train_selected.drop('latitude', axis=1)\n",
    "test_selected = test_selected.drop('latitude', axis=1)\n",
    "\n",
    "train_selected.info()"
   ]
  },
  {
   "cell_type": "markdown",
   "id": "096635c2",
   "metadata": {},
   "source": [
    "## 10. XGBoost tuned\n",
    "\n",
    "Tuning with reduced number of estimators."
   ]
  },
  {
   "cell_type": "code",
   "execution_count": 112,
   "id": "9c675df3",
   "metadata": {},
   "outputs": [],
   "source": [
    "study_number = '10'\n",
    "\n",
    "train_selected.to_csv('new_datasets/train_3_10.csv')\n",
    "test_selected.to_csv('new_datasets/test_3_10.csv')"
   ]
  },
  {
   "cell_type": "code",
   "execution_count": 114,
   "id": "c2f8c814",
   "metadata": {},
   "outputs": [
    {
     "name": "stdout",
     "output_type": "stream",
     "text": [
      "Best hyperparameters: {'n_estimators': 30, 'max_depth': 15, 'max_leaves': 411, 'grow_policy': 'depthwise', 'learning_rate': 1.6562119547043244, 'booster': 'dart', 'tree_method': 'approx', 'gamma': 0.04673548064041587, 'min_child_weight': 18.46543419604212, 'subsample': 0.6, 'colsample_bytree': 0.9}\n"
     ]
    }
   ],
   "source": [
    "import pickle\n",
    "\n",
    "with open('studies/3_' + study_number + '_params.pkl', 'rb') as f:\n",
    "    best_params = pickle.load(f)\n",
    "    \n",
    "# print(\"Best Cross-val RMSE:\", study.best_trial.value)\n",
    "print(\"Best hyperparameters:\", best_params)"
   ]
  },
  {
   "cell_type": "code",
   "execution_count": 118,
   "id": "458c57b3",
   "metadata": {},
   "outputs": [
    {
     "name": "stdout",
     "output_type": "stream",
     "text": [
      "CPU times: total: 32.5 s\n",
      "Wall time: 3.02 s\n"
     ]
    }
   ],
   "source": [
    "%%time\n",
    "\n",
    "# Instantiate the regressor\n",
    "model = xgb.XGBRegressor(random_state=SEED, n_jobs=-1, **best_params)\n",
    "\n",
    "train_score, cross_score, cross_scores_std, submission = get_score(global_variables,\n",
    "                                                                   train_selected,\n",
    "                                                                   test_selected,\n",
    "                                                                   model, scores_df,\n",
    "                                                                   comment=\"3 + tuning\")\n",
    "\n",
    "submission.to_csv('submissions/submission_3_{}.csv'.format(study_number), index=False)"
   ]
  },
  {
   "cell_type": "code",
   "execution_count": 119,
   "id": "dd1e9fc5",
   "metadata": {},
   "outputs": [
    {
     "data": {
      "text/html": [
       "<div>\n",
       "<style scoped>\n",
       "    .dataframe tbody tr th:only-of-type {\n",
       "        vertical-align: middle;\n",
       "    }\n",
       "\n",
       "    .dataframe tbody tr th {\n",
       "        vertical-align: top;\n",
       "    }\n",
       "\n",
       "    .dataframe thead th {\n",
       "        text-align: right;\n",
       "    }\n",
       "</style>\n",
       "<table border=\"1\" class=\"dataframe\">\n",
       "  <thead>\n",
       "    <tr style=\"text-align: right;\">\n",
       "      <th></th>\n",
       "      <th>Comment</th>\n",
       "      <th>Train Score</th>\n",
       "      <th>Cross-val Score</th>\n",
       "      <th>Test RMSE</th>\n",
       "    </tr>\n",
       "  </thead>\n",
       "  <tbody>\n",
       "    <tr>\n",
       "      <th>0</th>\n",
       "      <td>Naive Stacking</td>\n",
       "      <td>7.360223</td>\n",
       "      <td>86.042238</td>\n",
       "      <td>37.46291</td>\n",
       "    </tr>\n",
       "    <tr>\n",
       "      <th>1</th>\n",
       "      <td>+ Location+week_no_enc</td>\n",
       "      <td>6.512240</td>\n",
       "      <td>84.763073</td>\n",
       "      <td>NaN</td>\n",
       "    </tr>\n",
       "    <tr>\n",
       "      <th>2</th>\n",
       "      <td>+ Location_enc</td>\n",
       "      <td>6.032389</td>\n",
       "      <td>86.400346</td>\n",
       "      <td>NaN</td>\n",
       "    </tr>\n",
       "    <tr>\n",
       "      <th>3</th>\n",
       "      <td>1+ longitude</td>\n",
       "      <td>6.265567</td>\n",
       "      <td>84.504798</td>\n",
       "      <td>NaN</td>\n",
       "    </tr>\n",
       "    <tr>\n",
       "      <th>4</th>\n",
       "      <td>+ year</td>\n",
       "      <td>5.982000</td>\n",
       "      <td>84.583876</td>\n",
       "      <td>NaN</td>\n",
       "    </tr>\n",
       "    <tr>\n",
       "      <th>5</th>\n",
       "      <td>2 + week_no</td>\n",
       "      <td>5.703851</td>\n",
       "      <td>85.698933</td>\n",
       "      <td>NaN</td>\n",
       "    </tr>\n",
       "    <tr>\n",
       "      <th>6</th>\n",
       "      <td>2 + week_no_enc</td>\n",
       "      <td>5.868567</td>\n",
       "      <td>85.300826</td>\n",
       "      <td>NaN</td>\n",
       "    </tr>\n",
       "    <tr>\n",
       "      <th>7</th>\n",
       "      <td>3 + CarbonMonoxide_CO_column_number_density</td>\n",
       "      <td>6.029976</td>\n",
       "      <td>86.348407</td>\n",
       "      <td>NaN</td>\n",
       "    </tr>\n",
       "    <tr>\n",
       "      <th>8</th>\n",
       "      <td>3 + Ozone_O3_column_number_density</td>\n",
       "      <td>5.911377</td>\n",
       "      <td>84.828404</td>\n",
       "      <td>NaN</td>\n",
       "    </tr>\n",
       "    <tr>\n",
       "      <th>9</th>\n",
       "      <td>3 + latitude</td>\n",
       "      <td>6.035920</td>\n",
       "      <td>84.644241</td>\n",
       "      <td>NaN</td>\n",
       "    </tr>\n",
       "    <tr>\n",
       "      <th>10</th>\n",
       "      <td>3 + tuning</td>\n",
       "      <td>41.845430</td>\n",
       "      <td>102.930579</td>\n",
       "      <td>NaN</td>\n",
       "    </tr>\n",
       "    <tr>\n",
       "      <th>11</th>\n",
       "      <td>3 + tuning</td>\n",
       "      <td>42.633404</td>\n",
       "      <td>91.863051</td>\n",
       "      <td>NaN</td>\n",
       "    </tr>\n",
       "  </tbody>\n",
       "</table>\n",
       "</div>"
      ],
      "text/plain": [
       "                                        Comment  Train Score  Cross-val Score  \\\n",
       "0                                Naive Stacking     7.360223        86.042238   \n",
       "1                        + Location+week_no_enc     6.512240        84.763073   \n",
       "2                                + Location_enc     6.032389        86.400346   \n",
       "3                                  1+ longitude     6.265567        84.504798   \n",
       "4                                        + year     5.982000        84.583876   \n",
       "5                                   2 + week_no     5.703851        85.698933   \n",
       "6                               2 + week_no_enc     5.868567        85.300826   \n",
       "7   3 + CarbonMonoxide_CO_column_number_density     6.029976        86.348407   \n",
       "8            3 + Ozone_O3_column_number_density     5.911377        84.828404   \n",
       "9                                  3 + latitude     6.035920        84.644241   \n",
       "10                                   3 + tuning    41.845430       102.930579   \n",
       "11                                   3 + tuning    42.633404        91.863051   \n",
       "\n",
       "    Test RMSE  \n",
       "0    37.46291  \n",
       "1         NaN  \n",
       "2         NaN  \n",
       "3         NaN  \n",
       "4         NaN  \n",
       "5         NaN  \n",
       "6         NaN  \n",
       "7         NaN  \n",
       "8         NaN  \n",
       "9         NaN  \n",
       "10        NaN  \n",
       "11        NaN  "
      ]
     },
     "execution_count": 119,
     "metadata": {},
     "output_type": "execute_result"
    }
   ],
   "source": [
    "scores_df.loc[int(study_number), 'Test RMSE'] = np.nan\n",
    "scores_df"
   ]
  }
 ],
 "metadata": {
  "kernelspec": {
   "display_name": "Python 3 (ipykernel)",
   "language": "python",
   "name": "python3"
  },
  "language_info": {
   "codemirror_mode": {
    "name": "ipython",
    "version": 3
   },
   "file_extension": ".py",
   "mimetype": "text/x-python",
   "name": "python",
   "nbconvert_exporter": "python",
   "pygments_lexer": "ipython3",
   "version": "3.10.9"
  }
 },
 "nbformat": 4,
 "nbformat_minor": 5
}
