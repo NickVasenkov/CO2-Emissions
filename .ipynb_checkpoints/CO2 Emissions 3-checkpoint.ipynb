{
 "cells": [
  {
   "cell_type": "markdown",
   "id": "0c8ae406",
   "metadata": {},
   "source": [
    "Let's load the datasets from the previous parts:"
   ]
  },
  {
   "cell_type": "code",
   "execution_count": 78,
   "id": "a403f00c",
   "metadata": {},
   "outputs": [
    {
     "name": "stdout",
     "output_type": "stream",
     "text": [
      "CPU times: total: 1.2 s\n",
      "Wall time: 1.28 s\n"
     ]
    }
   ],
   "source": [
    "%%time\n",
    "\n",
    "import pandas as pd\n",
    "import numpy as np\n",
    "\n",
    "\n",
    "global_variables = pd.read_csv('global_variables.csv', index_col=0)\n",
    "SEED = global_variables.loc[0, 'SEED']\n",
    "train_from_part_1 = pd.read_csv('new_datasets/train_from_part_1.csv', index_col='ID_LAT_LON_YEAR_WEEK')\n",
    "test_from_part_1 = pd.read_csv('new_datasets/test_from_part_1.csv', index_col='ID_LAT_LON_YEAR_WEEK')\n",
    "train_from_part_2 = pd.read_csv('new_datasets/train_from_part_2.csv', index_col='ID_LAT_LON_YEAR_WEEK')\n",
    "test_from_part_2 = pd.read_csv('new_datasets/test_from_part_2.csv', index_col='ID_LAT_LON_YEAR_WEEK')\n",
    "\n",
    "train_predictions_part_1 = pd.read_csv('new_datasets/train_predictions_part_1.csv', index_col='ID_LAT_LON_YEAR_WEEK')\n",
    "test_predictions_part_1 = pd.read_csv('new_datasets/test_predictions_part_1.csv', index_col='ID_LAT_LON_YEAR_WEEK')\n",
    "\n",
    "# Create date feature\n",
    "train_from_part_2['date'] = pd.to_datetime(train_from_part_2['date'])\n",
    "test_from_part_2['date'] = pd.to_datetime(test_from_part_2['date'])\n",
    "\n",
    "top_three_values = train_from_part_1.loc[:, 'Location_enc'].drop_duplicates().sort_values(ascending = False).head(3)\n",
    "top_three_locations = train_from_part_1.loc[train_from_part_1['Location_enc'].isin(top_three_values), 'Location'].drop_duplicates()\n",
    "\n",
    "scores_df = pd.DataFrame({'Comment': [], 'Train Score': [], 'Cross-val Score': [], 'Test RMSE': []})"
   ]
  },
  {
   "cell_type": "markdown",
   "id": "46309e22",
   "metadata": {},
   "source": [
    "## 00. Naive stacking"
   ]
  },
  {
   "cell_type": "code",
   "execution_count": 79,
   "id": "137e906f",
   "metadata": {},
   "outputs": [
    {
     "data": {
      "text/html": [
       "<div>\n",
       "<style scoped>\n",
       "    .dataframe tbody tr th:only-of-type {\n",
       "        vertical-align: middle;\n",
       "    }\n",
       "\n",
       "    .dataframe tbody tr th {\n",
       "        vertical-align: top;\n",
       "    }\n",
       "\n",
       "    .dataframe thead th {\n",
       "        text-align: right;\n",
       "    }\n",
       "</style>\n",
       "<table border=\"1\" class=\"dataframe\">\n",
       "  <thead>\n",
       "    <tr style=\"text-align: right;\">\n",
       "      <th></th>\n",
       "      <th>predictions_part_1</th>\n",
       "      <th>predictions_part_2</th>\n",
       "      <th>emission</th>\n",
       "    </tr>\n",
       "    <tr>\n",
       "      <th>ID_LAT_LON_YEAR_WEEK</th>\n",
       "      <th></th>\n",
       "      <th></th>\n",
       "      <th></th>\n",
       "    </tr>\n",
       "  </thead>\n",
       "  <tbody>\n",
       "    <tr>\n",
       "      <th>ID_-0.510_29.290_2019_00</th>\n",
       "      <td>-8.325628</td>\n",
       "      <td>4.213550</td>\n",
       "      <td>3.750994</td>\n",
       "    </tr>\n",
       "    <tr>\n",
       "      <th>ID_-0.510_29.290_2019_01</th>\n",
       "      <td>-6.741870</td>\n",
       "      <td>4.275836</td>\n",
       "      <td>4.025176</td>\n",
       "    </tr>\n",
       "    <tr>\n",
       "      <th>ID_-0.510_29.290_2019_02</th>\n",
       "      <td>-25.216510</td>\n",
       "      <td>4.425881</td>\n",
       "      <td>4.231381</td>\n",
       "    </tr>\n",
       "    <tr>\n",
       "      <th>ID_-0.510_29.290_2019_03</th>\n",
       "      <td>-7.736105</td>\n",
       "      <td>4.508129</td>\n",
       "      <td>4.305286</td>\n",
       "    </tr>\n",
       "    <tr>\n",
       "      <th>ID_-0.510_29.290_2019_04</th>\n",
       "      <td>-8.036695</td>\n",
       "      <td>4.511833</td>\n",
       "      <td>4.347317</td>\n",
       "    </tr>\n",
       "  </tbody>\n",
       "</table>\n",
       "</div>"
      ],
      "text/plain": [
       "                          predictions_part_1  predictions_part_2  emission\n",
       "ID_LAT_LON_YEAR_WEEK                                                      \n",
       "ID_-0.510_29.290_2019_00           -8.325628            4.213550  3.750994\n",
       "ID_-0.510_29.290_2019_01           -6.741870            4.275836  4.025176\n",
       "ID_-0.510_29.290_2019_02          -25.216510            4.425881  4.231381\n",
       "ID_-0.510_29.290_2019_03           -7.736105            4.508129  4.305286\n",
       "ID_-0.510_29.290_2019_04           -8.036695            4.511833  4.347317"
      ]
     },
     "execution_count": 79,
     "metadata": {},
     "output_type": "execute_result"
    }
   ],
   "source": [
    "train_selected = pd.concat([train_predictions_part_1['train_predictions_part_1'],\n",
    "                            train_from_part_2[['emission_pred_03', 'emission']]], axis=1)\n",
    "train_selected.columns = ['predictions_part_1', 'predictions_part_2', 'emission']\n",
    "\n",
    "test_selected = pd.concat([test_predictions_part_1['test_predictions_part_1'],\n",
    "                            test_from_part_2['emission_pred_03']], axis=1)\n",
    "test_selected.columns = ['predictions_part_1', 'predictions_part_2']\n",
    "\n",
    "train_selected.head()"
   ]
  },
  {
   "cell_type": "code",
   "execution_count": 80,
   "id": "30182764",
   "metadata": {},
   "outputs": [
    {
     "name": "stdout",
     "output_type": "stream",
     "text": [
      "CPU times: total: 1min 12s\n",
      "Wall time: 6.92 s\n"
     ]
    }
   ],
   "source": [
    "%%time\n",
    "\n",
    "study_number = '00'\n",
    "\n",
    "import xgboost as xgb\n",
    "\n",
    "# Instantiate the regressor\n",
    "model = xgb.XGBRegressor(random_state=SEED, n_jobs=-1)\n",
    "\n",
    "# Calculate scores\n",
    "from functions.get_score import get_score\n",
    "train_score, cross_score, cross_scores_std, submission = get_score(global_variables,\n",
    "                                                                   train_selected,\n",
    "                                                                   test_selected,\n",
    "                                                                   model, scores_df,\n",
    "                                                                   comment=\"Naive Stacking\")\n",
    "\n",
    "submission.to_csv('submissions/submission_3_{}.csv'.format(study_number), index=False)"
   ]
  },
  {
   "cell_type": "code",
   "execution_count": 81,
   "id": "7a139624",
   "metadata": {},
   "outputs": [
    {
     "data": {
      "text/html": [
       "<div>\n",
       "<style scoped>\n",
       "    .dataframe tbody tr th:only-of-type {\n",
       "        vertical-align: middle;\n",
       "    }\n",
       "\n",
       "    .dataframe tbody tr th {\n",
       "        vertical-align: top;\n",
       "    }\n",
       "\n",
       "    .dataframe thead th {\n",
       "        text-align: right;\n",
       "    }\n",
       "</style>\n",
       "<table border=\"1\" class=\"dataframe\">\n",
       "  <thead>\n",
       "    <tr style=\"text-align: right;\">\n",
       "      <th></th>\n",
       "      <th>Comment</th>\n",
       "      <th>Train Score</th>\n",
       "      <th>Cross-val Score</th>\n",
       "      <th>Test RMSE</th>\n",
       "    </tr>\n",
       "  </thead>\n",
       "  <tbody>\n",
       "    <tr>\n",
       "      <th>0</th>\n",
       "      <td>Naive Stacking</td>\n",
       "      <td>7.360223</td>\n",
       "      <td>86.042238</td>\n",
       "      <td>37.46291</td>\n",
       "    </tr>\n",
       "  </tbody>\n",
       "</table>\n",
       "</div>"
      ],
      "text/plain": [
       "          Comment  Train Score  Cross-val Score  Test RMSE\n",
       "0  Naive Stacking     7.360223        86.042238   37.46291"
      ]
     },
     "execution_count": 81,
     "metadata": {},
     "output_type": "execute_result"
    }
   ],
   "source": [
    "scores_df.loc[int(study_number), 'Test RMSE'] = 37.46291\n",
    "scores_df"
   ]
  },
  {
   "cell_type": "markdown",
   "id": "f8c76a1a",
   "metadata": {},
   "source": [
    "## 01. Add Location+week_no_enc"
   ]
  },
  {
   "cell_type": "code",
   "execution_count": 82,
   "id": "913cb24f",
   "metadata": {},
   "outputs": [
    {
     "name": "stdout",
     "output_type": "stream",
     "text": [
      "CPU times: total: 1min 15s\n",
      "Wall time: 7.24 s\n"
     ]
    }
   ],
   "source": [
    "%%time\n",
    "\n",
    "study_number = '01'\n",
    "\n",
    "train_selected = pd.concat([train_selected, train_from_part_1['Location+week_no_enc']], axis=1)\n",
    "test_selected = pd.concat([test_selected, test_from_part_1['Location+week_no_enc']], axis=1)\n",
    "\n",
    "train_score, cross_score, cross_scores_std, submission = get_score(global_variables,\n",
    "                                                                   train_selected,\n",
    "                                                                   test_selected,\n",
    "                                                                   model, scores_df,\n",
    "                                                                   comment=\"+ Location+week_no_enc\")\n",
    "\n",
    "submission.to_csv('submissions/submission_3_{}.csv'.format(study_number), index=False)"
   ]
  },
  {
   "cell_type": "code",
   "execution_count": 83,
   "id": "387d1143",
   "metadata": {},
   "outputs": [
    {
     "data": {
      "text/html": [
       "<div>\n",
       "<style scoped>\n",
       "    .dataframe tbody tr th:only-of-type {\n",
       "        vertical-align: middle;\n",
       "    }\n",
       "\n",
       "    .dataframe tbody tr th {\n",
       "        vertical-align: top;\n",
       "    }\n",
       "\n",
       "    .dataframe thead th {\n",
       "        text-align: right;\n",
       "    }\n",
       "</style>\n",
       "<table border=\"1\" class=\"dataframe\">\n",
       "  <thead>\n",
       "    <tr style=\"text-align: right;\">\n",
       "      <th></th>\n",
       "      <th>Comment</th>\n",
       "      <th>Train Score</th>\n",
       "      <th>Cross-val Score</th>\n",
       "      <th>Test RMSE</th>\n",
       "    </tr>\n",
       "  </thead>\n",
       "  <tbody>\n",
       "    <tr>\n",
       "      <th>0</th>\n",
       "      <td>Naive Stacking</td>\n",
       "      <td>7.360223</td>\n",
       "      <td>86.042238</td>\n",
       "      <td>37.46291</td>\n",
       "    </tr>\n",
       "    <tr>\n",
       "      <th>1</th>\n",
       "      <td>+ Location+week_no_enc</td>\n",
       "      <td>6.512240</td>\n",
       "      <td>84.763073</td>\n",
       "      <td>NaN</td>\n",
       "    </tr>\n",
       "  </tbody>\n",
       "</table>\n",
       "</div>"
      ],
      "text/plain": [
       "                  Comment  Train Score  Cross-val Score  Test RMSE\n",
       "0          Naive Stacking     7.360223        86.042238   37.46291\n",
       "1  + Location+week_no_enc     6.512240        84.763073        NaN"
      ]
     },
     "execution_count": 83,
     "metadata": {},
     "output_type": "execute_result"
    }
   ],
   "source": [
    "scores_df.loc[int(study_number), 'Test RMSE'] = np.nan\n",
    "scores_df"
   ]
  },
  {
   "cell_type": "markdown",
   "id": "becf1d9f",
   "metadata": {},
   "source": [
    "## 02. Add Location_enc"
   ]
  },
  {
   "cell_type": "code",
   "execution_count": 84,
   "id": "d718cac2",
   "metadata": {},
   "outputs": [
    {
     "name": "stdout",
     "output_type": "stream",
     "text": [
      "CPU times: total: 1min 13s\n",
      "Wall time: 7.39 s\n"
     ]
    }
   ],
   "source": [
    "%%time\n",
    "\n",
    "study_number = '02'\n",
    "\n",
    "train_selected = pd.concat([train_selected, train_from_part_1['Location_enc']], axis=1)\n",
    "test_selected = pd.concat([test_selected, test_from_part_1['Location_enc']], axis=1)\n",
    "\n",
    "train_score, cross_score, cross_scores_std, submission = get_score(global_variables,\n",
    "                                                                   train_selected,\n",
    "                                                                   test_selected,\n",
    "                                                                   model, scores_df,\n",
    "                                                                   comment=\"+ Location_enc\")\n",
    "\n",
    "submission.to_csv('submissions/submission_3_{}.csv'.format(study_number), index=False)"
   ]
  },
  {
   "cell_type": "code",
   "execution_count": 85,
   "id": "d0d1e138",
   "metadata": {},
   "outputs": [
    {
     "data": {
      "text/html": [
       "<div>\n",
       "<style scoped>\n",
       "    .dataframe tbody tr th:only-of-type {\n",
       "        vertical-align: middle;\n",
       "    }\n",
       "\n",
       "    .dataframe tbody tr th {\n",
       "        vertical-align: top;\n",
       "    }\n",
       "\n",
       "    .dataframe thead th {\n",
       "        text-align: right;\n",
       "    }\n",
       "</style>\n",
       "<table border=\"1\" class=\"dataframe\">\n",
       "  <thead>\n",
       "    <tr style=\"text-align: right;\">\n",
       "      <th></th>\n",
       "      <th>Comment</th>\n",
       "      <th>Train Score</th>\n",
       "      <th>Cross-val Score</th>\n",
       "      <th>Test RMSE</th>\n",
       "    </tr>\n",
       "  </thead>\n",
       "  <tbody>\n",
       "    <tr>\n",
       "      <th>0</th>\n",
       "      <td>Naive Stacking</td>\n",
       "      <td>7.360223</td>\n",
       "      <td>86.042238</td>\n",
       "      <td>37.46291</td>\n",
       "    </tr>\n",
       "    <tr>\n",
       "      <th>1</th>\n",
       "      <td>+ Location+week_no_enc</td>\n",
       "      <td>6.512240</td>\n",
       "      <td>84.763073</td>\n",
       "      <td>NaN</td>\n",
       "    </tr>\n",
       "    <tr>\n",
       "      <th>2</th>\n",
       "      <td>+ Location_enc</td>\n",
       "      <td>6.032389</td>\n",
       "      <td>86.400346</td>\n",
       "      <td>NaN</td>\n",
       "    </tr>\n",
       "  </tbody>\n",
       "</table>\n",
       "</div>"
      ],
      "text/plain": [
       "                  Comment  Train Score  Cross-val Score  Test RMSE\n",
       "0          Naive Stacking     7.360223        86.042238   37.46291\n",
       "1  + Location+week_no_enc     6.512240        84.763073        NaN\n",
       "2          + Location_enc     6.032389        86.400346        NaN"
      ]
     },
     "execution_count": 85,
     "metadata": {},
     "output_type": "execute_result"
    }
   ],
   "source": [
    "scores_df.loc[int(study_number), 'Test RMSE'] = np.nan\n",
    "scores_df"
   ]
  },
  {
   "cell_type": "code",
   "execution_count": 86,
   "id": "8f4a3479",
   "metadata": {},
   "outputs": [],
   "source": [
    "train_selected = train_selected.drop('Location_enc', axis=1)\n",
    "test_selected = test_selected.drop('Location_enc', axis=1)"
   ]
  },
  {
   "cell_type": "markdown",
   "id": "1fb139f9",
   "metadata": {},
   "source": [
    "## 03. Add longitude"
   ]
  },
  {
   "cell_type": "code",
   "execution_count": 87,
   "id": "393e837a",
   "metadata": {},
   "outputs": [
    {
     "name": "stdout",
     "output_type": "stream",
     "text": [
      "CPU times: total: 1min 13s\n",
      "Wall time: 7.52 s\n"
     ]
    }
   ],
   "source": [
    "%%time\n",
    "\n",
    "study_number = '03'\n",
    "\n",
    "train_selected = pd.concat([train_selected, train_from_part_1['longitude']], axis=1)\n",
    "test_selected = pd.concat([test_selected, test_from_part_1['longitude']], axis=1)\n",
    "\n",
    "train_score, cross_score, cross_scores_std, submission = get_score(global_variables,\n",
    "                                                                   train_selected,\n",
    "                                                                   test_selected,\n",
    "                                                                   model, scores_df,\n",
    "                                                                   comment=\"1+ longitude\")\n",
    "\n",
    "submission.to_csv('submissions/submission_3_{}.csv'.format(study_number), index=False)"
   ]
  },
  {
   "cell_type": "code",
   "execution_count": 88,
   "id": "6d22fa60",
   "metadata": {},
   "outputs": [
    {
     "data": {
      "text/html": [
       "<div>\n",
       "<style scoped>\n",
       "    .dataframe tbody tr th:only-of-type {\n",
       "        vertical-align: middle;\n",
       "    }\n",
       "\n",
       "    .dataframe tbody tr th {\n",
       "        vertical-align: top;\n",
       "    }\n",
       "\n",
       "    .dataframe thead th {\n",
       "        text-align: right;\n",
       "    }\n",
       "</style>\n",
       "<table border=\"1\" class=\"dataframe\">\n",
       "  <thead>\n",
       "    <tr style=\"text-align: right;\">\n",
       "      <th></th>\n",
       "      <th>Comment</th>\n",
       "      <th>Train Score</th>\n",
       "      <th>Cross-val Score</th>\n",
       "      <th>Test RMSE</th>\n",
       "    </tr>\n",
       "  </thead>\n",
       "  <tbody>\n",
       "    <tr>\n",
       "      <th>0</th>\n",
       "      <td>Naive Stacking</td>\n",
       "      <td>7.360223</td>\n",
       "      <td>86.042238</td>\n",
       "      <td>37.46291</td>\n",
       "    </tr>\n",
       "    <tr>\n",
       "      <th>1</th>\n",
       "      <td>+ Location+week_no_enc</td>\n",
       "      <td>6.512240</td>\n",
       "      <td>84.763073</td>\n",
       "      <td>NaN</td>\n",
       "    </tr>\n",
       "    <tr>\n",
       "      <th>2</th>\n",
       "      <td>+ Location_enc</td>\n",
       "      <td>6.032389</td>\n",
       "      <td>86.400346</td>\n",
       "      <td>NaN</td>\n",
       "    </tr>\n",
       "    <tr>\n",
       "      <th>3</th>\n",
       "      <td>1+ longitude</td>\n",
       "      <td>6.265567</td>\n",
       "      <td>84.504798</td>\n",
       "      <td>NaN</td>\n",
       "    </tr>\n",
       "  </tbody>\n",
       "</table>\n",
       "</div>"
      ],
      "text/plain": [
       "                  Comment  Train Score  Cross-val Score  Test RMSE\n",
       "0          Naive Stacking     7.360223        86.042238   37.46291\n",
       "1  + Location+week_no_enc     6.512240        84.763073        NaN\n",
       "2          + Location_enc     6.032389        86.400346        NaN\n",
       "3            1+ longitude     6.265567        84.504798        NaN"
      ]
     },
     "execution_count": 88,
     "metadata": {},
     "output_type": "execute_result"
    }
   ],
   "source": [
    "scores_df.loc[int(study_number), 'Test RMSE'] = np.nan\n",
    "scores_df"
   ]
  },
  {
   "cell_type": "markdown",
   "id": "967eee3f",
   "metadata": {},
   "source": [
    "## 04. Add year"
   ]
  },
  {
   "cell_type": "code",
   "execution_count": 89,
   "id": "993c891f",
   "metadata": {},
   "outputs": [
    {
     "name": "stdout",
     "output_type": "stream",
     "text": [
      "CPU times: total: 1min 18s\n",
      "Wall time: 7.54 s\n"
     ]
    }
   ],
   "source": [
    "%%time\n",
    "\n",
    "study_number = '04'\n",
    "\n",
    "train_selected = pd.concat([train_selected, train_from_part_1['year']], axis=1)\n",
    "test_selected = pd.concat([test_selected, test_from_part_1['year']], axis=1)\n",
    "\n",
    "train_score, cross_score, cross_scores_std, submission = get_score(global_variables,\n",
    "                                                                   train_selected,\n",
    "                                                                   test_selected,\n",
    "                                                                   model, scores_df,\n",
    "                                                                   comment=\"+ year\")\n",
    "\n",
    "submission.to_csv('submissions/submission_3_{}.csv'.format(study_number), index=False)"
   ]
  },
  {
   "cell_type": "code",
   "execution_count": 90,
   "id": "2fc27d37",
   "metadata": {},
   "outputs": [
    {
     "data": {
      "text/html": [
       "<div>\n",
       "<style scoped>\n",
       "    .dataframe tbody tr th:only-of-type {\n",
       "        vertical-align: middle;\n",
       "    }\n",
       "\n",
       "    .dataframe tbody tr th {\n",
       "        vertical-align: top;\n",
       "    }\n",
       "\n",
       "    .dataframe thead th {\n",
       "        text-align: right;\n",
       "    }\n",
       "</style>\n",
       "<table border=\"1\" class=\"dataframe\">\n",
       "  <thead>\n",
       "    <tr style=\"text-align: right;\">\n",
       "      <th></th>\n",
       "      <th>Comment</th>\n",
       "      <th>Train Score</th>\n",
       "      <th>Cross-val Score</th>\n",
       "      <th>Test RMSE</th>\n",
       "    </tr>\n",
       "  </thead>\n",
       "  <tbody>\n",
       "    <tr>\n",
       "      <th>0</th>\n",
       "      <td>Naive Stacking</td>\n",
       "      <td>7.360223</td>\n",
       "      <td>86.042238</td>\n",
       "      <td>37.46291</td>\n",
       "    </tr>\n",
       "    <tr>\n",
       "      <th>1</th>\n",
       "      <td>+ Location+week_no_enc</td>\n",
       "      <td>6.512240</td>\n",
       "      <td>84.763073</td>\n",
       "      <td>NaN</td>\n",
       "    </tr>\n",
       "    <tr>\n",
       "      <th>2</th>\n",
       "      <td>+ Location_enc</td>\n",
       "      <td>6.032389</td>\n",
       "      <td>86.400346</td>\n",
       "      <td>NaN</td>\n",
       "    </tr>\n",
       "    <tr>\n",
       "      <th>3</th>\n",
       "      <td>1+ longitude</td>\n",
       "      <td>6.265567</td>\n",
       "      <td>84.504798</td>\n",
       "      <td>NaN</td>\n",
       "    </tr>\n",
       "    <tr>\n",
       "      <th>4</th>\n",
       "      <td>+ year</td>\n",
       "      <td>5.982000</td>\n",
       "      <td>84.583876</td>\n",
       "      <td>NaN</td>\n",
       "    </tr>\n",
       "  </tbody>\n",
       "</table>\n",
       "</div>"
      ],
      "text/plain": [
       "                  Comment  Train Score  Cross-val Score  Test RMSE\n",
       "0          Naive Stacking     7.360223        86.042238   37.46291\n",
       "1  + Location+week_no_enc     6.512240        84.763073        NaN\n",
       "2          + Location_enc     6.032389        86.400346        NaN\n",
       "3            1+ longitude     6.265567        84.504798        NaN\n",
       "4                  + year     5.982000        84.583876        NaN"
      ]
     },
     "execution_count": 90,
     "metadata": {},
     "output_type": "execute_result"
    }
   ],
   "source": [
    "scores_df.loc[int(study_number), 'Test RMSE'] = np.nan\n",
    "scores_df"
   ]
  },
  {
   "cell_type": "code",
   "execution_count": 91,
   "id": "bf388f07",
   "metadata": {},
   "outputs": [],
   "source": [
    "train_selected = train_selected.drop('year', axis=1)\n",
    "test_selected = test_selected.drop('year', axis=1)"
   ]
  },
  {
   "cell_type": "markdown",
   "id": "f88de250",
   "metadata": {},
   "source": [
    "## 06. Add week_no"
   ]
  },
  {
   "cell_type": "code",
   "execution_count": 92,
   "id": "aca7ec7e",
   "metadata": {},
   "outputs": [
    {
     "name": "stdout",
     "output_type": "stream",
     "text": [
      "CPU times: total: 1min 19s\n",
      "Wall time: 7.67 s\n"
     ]
    }
   ],
   "source": [
    "%%time\n",
    "\n",
    "study_number = '05'\n",
    "\n",
    "train_selected = pd.concat([train_selected, train_from_part_1['week_no']], axis=1)\n",
    "test_selected = pd.concat([test_selected, test_from_part_1['week_no']], axis=1)\n",
    "\n",
    "train_score, cross_score, cross_scores_std, submission = get_score(global_variables,\n",
    "                                                                   train_selected,\n",
    "                                                                   test_selected,\n",
    "                                                                   model, scores_df,\n",
    "                                                                   comment=\"3 + week_no\")\n",
    "\n",
    "submission.to_csv('submissions/submission_3_{}.csv'.format(study_number), index=False)"
   ]
  },
  {
   "cell_type": "code",
   "execution_count": 93,
   "id": "71502adf",
   "metadata": {},
   "outputs": [
    {
     "data": {
      "text/html": [
       "<div>\n",
       "<style scoped>\n",
       "    .dataframe tbody tr th:only-of-type {\n",
       "        vertical-align: middle;\n",
       "    }\n",
       "\n",
       "    .dataframe tbody tr th {\n",
       "        vertical-align: top;\n",
       "    }\n",
       "\n",
       "    .dataframe thead th {\n",
       "        text-align: right;\n",
       "    }\n",
       "</style>\n",
       "<table border=\"1\" class=\"dataframe\">\n",
       "  <thead>\n",
       "    <tr style=\"text-align: right;\">\n",
       "      <th></th>\n",
       "      <th>Comment</th>\n",
       "      <th>Train Score</th>\n",
       "      <th>Cross-val Score</th>\n",
       "      <th>Test RMSE</th>\n",
       "    </tr>\n",
       "  </thead>\n",
       "  <tbody>\n",
       "    <tr>\n",
       "      <th>0</th>\n",
       "      <td>Naive Stacking</td>\n",
       "      <td>7.360223</td>\n",
       "      <td>86.042238</td>\n",
       "      <td>37.46291</td>\n",
       "    </tr>\n",
       "    <tr>\n",
       "      <th>1</th>\n",
       "      <td>+ Location+week_no_enc</td>\n",
       "      <td>6.512240</td>\n",
       "      <td>84.763073</td>\n",
       "      <td>NaN</td>\n",
       "    </tr>\n",
       "    <tr>\n",
       "      <th>2</th>\n",
       "      <td>+ Location_enc</td>\n",
       "      <td>6.032389</td>\n",
       "      <td>86.400346</td>\n",
       "      <td>NaN</td>\n",
       "    </tr>\n",
       "    <tr>\n",
       "      <th>3</th>\n",
       "      <td>1+ longitude</td>\n",
       "      <td>6.265567</td>\n",
       "      <td>84.504798</td>\n",
       "      <td>NaN</td>\n",
       "    </tr>\n",
       "    <tr>\n",
       "      <th>4</th>\n",
       "      <td>+ year</td>\n",
       "      <td>5.982000</td>\n",
       "      <td>84.583876</td>\n",
       "      <td>NaN</td>\n",
       "    </tr>\n",
       "    <tr>\n",
       "      <th>5</th>\n",
       "      <td>2 + week_no</td>\n",
       "      <td>5.703851</td>\n",
       "      <td>85.698933</td>\n",
       "      <td>NaN</td>\n",
       "    </tr>\n",
       "  </tbody>\n",
       "</table>\n",
       "</div>"
      ],
      "text/plain": [
       "                  Comment  Train Score  Cross-val Score  Test RMSE\n",
       "0          Naive Stacking     7.360223        86.042238   37.46291\n",
       "1  + Location+week_no_enc     6.512240        84.763073        NaN\n",
       "2          + Location_enc     6.032389        86.400346        NaN\n",
       "3            1+ longitude     6.265567        84.504798        NaN\n",
       "4                  + year     5.982000        84.583876        NaN\n",
       "5             2 + week_no     5.703851        85.698933        NaN"
      ]
     },
     "execution_count": 93,
     "metadata": {},
     "output_type": "execute_result"
    }
   ],
   "source": [
    "scores_df.loc[int(study_number), 'Test RMSE'] = np.nan\n",
    "scores_df"
   ]
  },
  {
   "cell_type": "code",
   "execution_count": 94,
   "id": "a19a5ae4",
   "metadata": {},
   "outputs": [],
   "source": [
    "train_selected = train_selected.drop('week_no', axis=1)\n",
    "test_selected = test_selected.drop('week_no', axis=1)"
   ]
  },
  {
   "cell_type": "markdown",
   "id": "c7a36242",
   "metadata": {},
   "source": [
    "## 06. Add week_no_enc"
   ]
  },
  {
   "cell_type": "code",
   "execution_count": 95,
   "id": "cb59d447",
   "metadata": {},
   "outputs": [
    {
     "name": "stdout",
     "output_type": "stream",
     "text": [
      "CPU times: total: 1min 18s\n",
      "Wall time: 8.02 s\n"
     ]
    }
   ],
   "source": [
    "%%time\n",
    "\n",
    "study_number = '06'\n",
    "\n",
    "train_selected = pd.concat([train_selected, train_from_part_1['week_no_enc']], axis=1)\n",
    "test_selected = pd.concat([test_selected, test_from_part_1['week_no_enc']], axis=1)\n",
    "\n",
    "train_score, cross_score, cross_scores_std, submission = get_score(global_variables,\n",
    "                                                                   train_selected,\n",
    "                                                                   test_selected,\n",
    "                                                                   model, scores_df,\n",
    "                                                                   comment=\"3 + week_no_enc\")\n",
    "\n",
    "submission.to_csv('submissions/submission_3_{}.csv'.format(study_number), index=False)"
   ]
  },
  {
   "cell_type": "code",
   "execution_count": 97,
   "id": "c0177cf2",
   "metadata": {},
   "outputs": [
    {
     "data": {
      "text/html": [
       "<div>\n",
       "<style scoped>\n",
       "    .dataframe tbody tr th:only-of-type {\n",
       "        vertical-align: middle;\n",
       "    }\n",
       "\n",
       "    .dataframe tbody tr th {\n",
       "        vertical-align: top;\n",
       "    }\n",
       "\n",
       "    .dataframe thead th {\n",
       "        text-align: right;\n",
       "    }\n",
       "</style>\n",
       "<table border=\"1\" class=\"dataframe\">\n",
       "  <thead>\n",
       "    <tr style=\"text-align: right;\">\n",
       "      <th></th>\n",
       "      <th>Comment</th>\n",
       "      <th>Train Score</th>\n",
       "      <th>Cross-val Score</th>\n",
       "      <th>Test RMSE</th>\n",
       "    </tr>\n",
       "  </thead>\n",
       "  <tbody>\n",
       "    <tr>\n",
       "      <th>0</th>\n",
       "      <td>Naive Stacking</td>\n",
       "      <td>7.360223</td>\n",
       "      <td>86.042238</td>\n",
       "      <td>37.46291</td>\n",
       "    </tr>\n",
       "    <tr>\n",
       "      <th>1</th>\n",
       "      <td>+ Location+week_no_enc</td>\n",
       "      <td>6.512240</td>\n",
       "      <td>84.763073</td>\n",
       "      <td>NaN</td>\n",
       "    </tr>\n",
       "    <tr>\n",
       "      <th>2</th>\n",
       "      <td>+ Location_enc</td>\n",
       "      <td>6.032389</td>\n",
       "      <td>86.400346</td>\n",
       "      <td>NaN</td>\n",
       "    </tr>\n",
       "    <tr>\n",
       "      <th>3</th>\n",
       "      <td>1+ longitude</td>\n",
       "      <td>6.265567</td>\n",
       "      <td>84.504798</td>\n",
       "      <td>NaN</td>\n",
       "    </tr>\n",
       "    <tr>\n",
       "      <th>4</th>\n",
       "      <td>+ year</td>\n",
       "      <td>5.982000</td>\n",
       "      <td>84.583876</td>\n",
       "      <td>NaN</td>\n",
       "    </tr>\n",
       "    <tr>\n",
       "      <th>5</th>\n",
       "      <td>2 + week_no</td>\n",
       "      <td>5.703851</td>\n",
       "      <td>85.698933</td>\n",
       "      <td>NaN</td>\n",
       "    </tr>\n",
       "    <tr>\n",
       "      <th>6</th>\n",
       "      <td>2 + week_no_enc</td>\n",
       "      <td>5.868567</td>\n",
       "      <td>85.300826</td>\n",
       "      <td>NaN</td>\n",
       "    </tr>\n",
       "  </tbody>\n",
       "</table>\n",
       "</div>"
      ],
      "text/plain": [
       "                  Comment  Train Score  Cross-val Score  Test RMSE\n",
       "0          Naive Stacking     7.360223        86.042238   37.46291\n",
       "1  + Location+week_no_enc     6.512240        84.763073        NaN\n",
       "2          + Location_enc     6.032389        86.400346        NaN\n",
       "3            1+ longitude     6.265567        84.504798        NaN\n",
       "4                  + year     5.982000        84.583876        NaN\n",
       "5             2 + week_no     5.703851        85.698933        NaN\n",
       "6         2 + week_no_enc     5.868567        85.300826        NaN"
      ]
     },
     "execution_count": 97,
     "metadata": {},
     "output_type": "execute_result"
    }
   ],
   "source": [
    "scores_df.loc[int(study_number), 'Test RMSE'] = np.nan\n",
    "scores_df"
   ]
  },
  {
   "cell_type": "code",
   "execution_count": null,
   "id": "1728d02a",
   "metadata": {},
   "outputs": [],
   "source": []
  }
 ],
 "metadata": {
  "kernelspec": {
   "display_name": "Python 3 (ipykernel)",
   "language": "python",
   "name": "python3"
  },
  "language_info": {
   "codemirror_mode": {
    "name": "ipython",
    "version": 3
   },
   "file_extension": ".py",
   "mimetype": "text/x-python",
   "name": "python",
   "nbconvert_exporter": "python",
   "pygments_lexer": "ipython3",
   "version": "3.10.9"
  }
 },
 "nbformat": 4,
 "nbformat_minor": 5
}
