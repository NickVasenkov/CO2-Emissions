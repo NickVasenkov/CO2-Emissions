{
 "cells": [
  {
   "cell_type": "markdown",
   "id": "4c99f876",
   "metadata": {},
   "source": [
    "In this part we'll take our best predictions from previous parts and use them as second-level features for training a second-level regressor.\n",
    "\n",
    "We'll also use some other features, those who were important for our model in Part 1.\n",
    "\n",
    "Our cross-validation stategy in this part will be the following: we'll first train our second-level model on data from 2019-2020. We'll also use special versions of predictions from Part 1 and Part 3, which were calculated based only on 2019-2020. Part 2 prediction doesn't have a special version. \n",
    "\n",
    "Then we calculate the RMSE score on 2021. This will be our cross-validation RMSE.\n",
    "\n",
    "\n",
    "In making a submission, we'll use data from 2019-2021, with predictions based on 2019-2021.\n",
    "\n",
    "Let's load the datasets:"
   ]
  },
  {
   "cell_type": "code",
   "execution_count": 239,
   "id": "b810c4cf",
   "metadata": {},
   "outputs": [
    {
     "name": "stdout",
     "output_type": "stream",
     "text": [
      "CPU times: total: 1.69 s\n",
      "Wall time: 1.82 s\n"
     ]
    }
   ],
   "source": [
    "%%time\n",
    "\n",
    "import pandas as pd\n",
    "import numpy as np\n",
    "\n",
    "\n",
    "global_variables = pd.read_csv('global_variables.csv', index_col=0)\n",
    "SEED = global_variables.loc[0, 'SEED']\n",
    "N_SPLITS = global_variables.loc[0, 'N_SPLITS']\n",
    "\n",
    "train_and_cv_all_features = pd.read_csv('new_datasets/X_train_and_cv_1_final.csv',\n",
    "                                 index_col='ID_LAT_LON_YEAR_WEEK')\n",
    "pred_1_train = pd.read_csv('new_datasets/y_train_and_cv_1_final.csv', index_col='ID_LAT_LON_YEAR_WEEK',\n",
    "                            usecols=['ID_LAT_LON_YEAR_WEEK','pred_1_train'])\n",
    "train_and_cv_all_features['pred_1_train'] = pred_1_train\n",
    "pred_1 = pd.read_csv('new_datasets/y_train_and_cv_1_final.csv', index_col='ID_LAT_LON_YEAR_WEEK',\n",
    "                            usecols=['ID_LAT_LON_YEAR_WEEK','pred_1'])\n",
    "train_and_cv_all_features['pred_1'] = pred_1\n",
    "max_x_groups_train = pd.read_csv('new_datasets/train_3_final.csv', index_col='ID_LAT_LON_YEAR_WEEK',\n",
    "                            usecols=['ID_LAT_LON_YEAR_WEEK','Max_x_groups_train'])\n",
    "train_and_cv_all_features['Max_x_groups_train'] = max_x_groups_train\n",
    "emission = pd.read_csv('new_datasets/y_train_and_cv_1_final.csv', index_col='ID_LAT_LON_YEAR_WEEK',\n",
    "                            usecols=['ID_LAT_LON_YEAR_WEEK','emission'])\n",
    "train_and_cv_all_features['emission'] = emission\n",
    "\n",
    "\n",
    "test_all_features = pd.read_csv('new_datasets/X_test_1_final.csv', index_col='ID_LAT_LON_YEAR_WEEK')\n",
    "pred_1 = pd.read_csv('new_datasets/y_test_1_final.csv', index_col='ID_LAT_LON_YEAR_WEEK',\n",
    "                            usecols=['ID_LAT_LON_YEAR_WEEK','pred_1'])\n",
    "test_all_features['pred_1'] = pred_1\n",
    "\n",
    "feature_importances_sorted = pd.read_csv('new_datasets/feature_importances_sorted_1_final.csv', \n",
    "                                         index_col=0)\n",
    "\n",
    "# Break train_and_cv into train (2019-2020) and cv (2021) sets\n",
    "train_all_features = train_and_cv_all_features.loc[train_and_cv_all_features['year'] < 2021, :]\n",
    "cv_all_features = train_and_cv_all_features.loc[train_and_cv_all_features['year'] == 2021, :]\n",
    " "
   ]
  },
  {
   "cell_type": "markdown",
   "id": "4c98c6ae",
   "metadata": {},
   "source": [
    "Let's look at feature importances based on the model from Part 1 (this model also used predictions from Part 2 and 3 as features):"
   ]
  },
  {
   "cell_type": "code",
   "execution_count": 240,
   "id": "2b8b3f0d",
   "metadata": {},
   "outputs": [
    {
     "name": "stdout",
     "output_type": "stream",
     "text": [
      "Sorted feature importances (first 15, pred_1 is not included):\n"
     ]
    },
    {
     "data": {
      "text/html": [
       "<div>\n",
       "<style scoped>\n",
       "    .dataframe tbody tr th:only-of-type {\n",
       "        vertical-align: middle;\n",
       "    }\n",
       "\n",
       "    .dataframe tbody tr th {\n",
       "        vertical-align: top;\n",
       "    }\n",
       "\n",
       "    .dataframe thead th {\n",
       "        text-align: right;\n",
       "    }\n",
       "</style>\n",
       "<table border=\"1\" class=\"dataframe\">\n",
       "  <thead>\n",
       "    <tr style=\"text-align: right;\">\n",
       "      <th></th>\n",
       "      <th>0</th>\n",
       "    </tr>\n",
       "  </thead>\n",
       "  <tbody>\n",
       "    <tr>\n",
       "      <th>Location_week_no_enc</th>\n",
       "      <td>363</td>\n",
       "    </tr>\n",
       "    <tr>\n",
       "      <th>emission_pred_2_04</th>\n",
       "      <td>278</td>\n",
       "    </tr>\n",
       "    <tr>\n",
       "      <th>Max_x_groups</th>\n",
       "      <td>217</td>\n",
       "    </tr>\n",
       "    <tr>\n",
       "      <th>week_no_enc</th>\n",
       "      <td>173</td>\n",
       "    </tr>\n",
       "    <tr>\n",
       "      <th>week_no</th>\n",
       "      <td>153</td>\n",
       "    </tr>\n",
       "    <tr>\n",
       "      <th>year</th>\n",
       "      <td>144</td>\n",
       "    </tr>\n",
       "    <tr>\n",
       "      <th>Ozone_O3_column_number_density</th>\n",
       "      <td>114</td>\n",
       "    </tr>\n",
       "    <tr>\n",
       "      <th>Location_enc</th>\n",
       "      <td>113</td>\n",
       "    </tr>\n",
       "    <tr>\n",
       "      <th>latitude</th>\n",
       "      <td>87</td>\n",
       "    </tr>\n",
       "    <tr>\n",
       "      <th>Cloud_solar_zenith_angle</th>\n",
       "      <td>62</td>\n",
       "    </tr>\n",
       "    <tr>\n",
       "      <th>UvAerosolIndex_solar_zenith_angle</th>\n",
       "      <td>56</td>\n",
       "    </tr>\n",
       "    <tr>\n",
       "      <th>UvAerosolIndex_solar_azimuth_angle</th>\n",
       "      <td>55</td>\n",
       "    </tr>\n",
       "    <tr>\n",
       "      <th>UvAerosolIndex_sensor_azimuth_angle</th>\n",
       "      <td>52</td>\n",
       "    </tr>\n",
       "    <tr>\n",
       "      <th>NitrogenDioxide_stratospheric_NO2_column_number_density</th>\n",
       "      <td>47</td>\n",
       "    </tr>\n",
       "    <tr>\n",
       "      <th>Cloud_surface_albedo</th>\n",
       "      <td>47</td>\n",
       "    </tr>\n",
       "  </tbody>\n",
       "</table>\n",
       "</div>"
      ],
      "text/plain": [
       "                                                      0\n",
       "Location_week_no_enc                                363\n",
       "emission_pred_2_04                                  278\n",
       "Max_x_groups                                        217\n",
       "week_no_enc                                         173\n",
       "week_no                                             153\n",
       "year                                                144\n",
       "Ozone_O3_column_number_density                      114\n",
       "Location_enc                                        113\n",
       "latitude                                             87\n",
       "Cloud_solar_zenith_angle                             62\n",
       "UvAerosolIndex_solar_zenith_angle                    56\n",
       "UvAerosolIndex_solar_azimuth_angle                   55\n",
       "UvAerosolIndex_sensor_azimuth_angle                  52\n",
       "NitrogenDioxide_stratospheric_NO2_column_number...   47\n",
       "Cloud_surface_albedo                                 47"
      ]
     },
     "execution_count": 240,
     "metadata": {},
     "output_type": "execute_result"
    }
   ],
   "source": [
    "print('Sorted feature importances (first 15, pred_1 is not included):')\n",
    "feature_importances_sorted.head(15)"
   ]
  },
  {
   "cell_type": "code",
   "execution_count": 241,
   "id": "d977dfe7",
   "metadata": {},
   "outputs": [
    {
     "data": {
      "image/png": "[encoded data removed]",
      "text/plain": [
       "<Figure size 640x480 with 1 Axes>"
      ]
     },
     "metadata": {},
     "output_type": "display_data"
    }
   ],
   "source": [
    "import matplotlib.pyplot as plt\n",
    "plt.plot(range(0, len(feature_importances_sorted)), feature_importances_sorted)\n",
    "plt.show()"
   ]
  },
  {
   "cell_type": "code",
   "execution_count": 242,
   "id": "60835988",
   "metadata": {},
   "outputs": [
    {
     "data": {
      "image/png": "[encoded data removed]",
      "text/plain": [
       "<Figure size 640x480 with 1 Axes>"
      ]
     },
     "metadata": {},
     "output_type": "display_data"
    }
   ],
   "source": [
    "plt.plot(range(0, 20), feature_importances_sorted.head(20))\n",
    "plt.show()"
   ]
  },
  {
   "cell_type": "markdown",
   "id": "15b575b0",
   "metadata": {},
   "source": [
    "Let's concentrate on the 9 most important features plus 'pred_1' (prediction of the model from Part 1)."
   ]
  },
  {
   "cell_type": "code",
   "execution_count": 243,
   "id": "9ad51fa8",
   "metadata": {},
   "outputs": [],
   "source": [
    "selected_features = list(feature_importances_sorted.iloc[:9, :].index)\n",
    "selected_features.append('pred_1')\n",
    "\n",
    "# Create the test set\n",
    "test = test_all_features[selected_features]\n",
    "\n",
    "# The target\n",
    "selected_features.append('emission')\n",
    "\n",
    "# Create the train_and_cv set\n",
    "train_and_cv = train_and_cv_all_features[selected_features]\n",
    "\n",
    "## Create the training and cv sets, special versions of predictions from Part 1 and 3\n",
    "selected_features.remove('pred_1')\n",
    "selected_features.append('pred_1_train')\n",
    "selected_features.remove('Max_x_groups')\n",
    "selected_features.append('Max_x_groups_train')\n",
    "train = train_all_features[selected_features]\n",
    "train.to_csv('new_datasets/train_Stacking_00.csv')\n",
    "cv = cv_all_features[selected_features]\n",
    "cv.to_csv('new_datasets/cv_Stacking_00.csv')"
   ]
  },
  {
   "cell_type": "code",
   "execution_count": 244,
   "id": "fd6fcca7",
   "metadata": {},
   "outputs": [
    {
     "name": "stdout",
     "output_type": "stream",
     "text": [
      "<class 'pandas.core.frame.DataFrame'>\n",
      "Index: 40754 entries, ID_-0.510_29.290_2019_00 to ID_-3.299_30.301_2020_52\n",
      "Data columns (total 11 columns):\n",
      " #   Column                          Non-Null Count  Dtype  \n",
      "---  ------                          --------------  -----  \n",
      " 0   Location_week_no_enc            40754 non-null  float64\n",
      " 1   emission_pred_2_04              40754 non-null  float64\n",
      " 2   week_no_enc                     40754 non-null  float64\n",
      " 3   week_no                         40754 non-null  float64\n",
      " 4   year                            40754 non-null  float64\n",
      " 5   Ozone_O3_column_number_density  40754 non-null  float64\n",
      " 6   Location_enc                    40754 non-null  float64\n",
      " 7   latitude                        40754 non-null  float64\n",
      " 8   emission                        40754 non-null  float64\n",
      " 9   pred_1_train                    40754 non-null  float64\n",
      " 10  Max_x_groups_train              40754 non-null  float64\n",
      "dtypes: float64(11)\n",
      "memory usage: 3.7+ MB\n"
     ]
    }
   ],
   "source": [
    "train.info()"
   ]
  },
  {
   "cell_type": "markdown",
   "id": "9093c5a9",
   "metadata": {},
   "source": [
    "## 00. Standard LightGBM, selecting second-level features\n",
    "\n",
    "In a separate file, namely, ['studies/Stacking_00.py']('studies/Stacking_00.py'), we'll calculate the optimal set of features out of the 10 selected above. That is, we are looking for the set that gives us the lowest cross-validation RMSE.\n",
    "\n",
    "Note, we used before cross-validation on 2021 in Part 3, the best RMSE was in study 02, it was 19.188561, and the corresponding Test RMSE was 21.67107.\n",
    "\n",
    "That is our best Test RMSE so far.\n",
    "\n",
    "Now, let's look at the scores in this study:"
   ]
  },
  {
   "cell_type": "code",
   "execution_count": 245,
   "id": "1f46ace9",
   "metadata": {},
   "outputs": [
    {
     "name": "stdout",
     "output_type": "stream",
     "text": [
      "Best hyperparameters: {'Location_week_no_enc': False, 'emission_pred_2_04': False, 'week_no_enc': False, 'week_no': True, 'year': True, 'Ozone_O3_column_number_density': True, 'Location_enc': False, 'latitude': True, 'pred_1_train': True, 'Max_x_groups_train': False}\n",
      "CPU times: total: 0 ns\n",
      "Wall time: 0 ns\n"
     ]
    }
   ],
   "source": [
    "%%time\n",
    "\n",
    "study_number = '00'\n",
    "\n",
    "import pickle\n",
    "\n",
    "with open('studies/Stacking_' + study_number + '_params.pkl', 'rb') as f:\n",
    "    best_params_00 = pickle.load(f)\n",
    "\n",
    "print(\"Best hyperparameters:\", best_params_00)"
   ]
  },
  {
   "cell_type": "code",
   "execution_count": 246,
   "id": "26de11b3",
   "metadata": {},
   "outputs": [
    {
     "name": "stdout",
     "output_type": "stream",
     "text": [
      "CPU times: total: 3.23 s\n",
      "Wall time: 319 ms\n"
     ]
    }
   ],
   "source": [
    "%%time\n",
    "\n",
    "from sklearn.metrics import mean_squared_error\n",
    "\n",
    "# UNCOMMENT TO INSTALL\n",
    "# !pip install lightgbm\n",
    "import lightgbm as lgb\n",
    "\n",
    "# Create RMSE DataFrame\n",
    "scores_df = pd.DataFrame({'Comment': [], 'Train RMSE': [], 'Cross-val RMSE': [], 'Test RMSE': []})\n",
    "\n",
    "scores_df.loc[int(study_number), 'Comment'] = 'LightGBM'\n",
    "\n",
    "## Create the sets with features selected by the hyperparameters search\n",
    "\n",
    "# For cross-validation\n",
    "selected_features = [feature for feature, value in best_params_00.items() if value]\n",
    "train_selected = train[selected_features]\n",
    "cv_selected = cv[selected_features]\n",
    "\n",
    "# For submission\n",
    "if 'pred_1_train' in selected_features:\n",
    "    selected_features.remove('pred_1_train')\n",
    "    selected_features.append('pred_1')\n",
    "if 'Max_x_groups_train' in selected_features:\n",
    "    selected_features.remove('Max_x_groups_train')\n",
    "    selected_features.append('Max_x_groups')\n",
    "train_and_cv_selected = train_and_cv[selected_features]\n",
    "test_selected = test[selected_features]\n",
    "\n",
    "## CROSS_VALIDATION\n",
    "# Instantiate the regressor\n",
    "model_lgb = lgb.LGBMRegressor(random_state=SEED, n_jobs=-1)\n",
    "\n",
    "# Fit\n",
    "model_lgb.fit(train_selected, train['emission'])\n",
    "# Predict and calculate RMSEs\n",
    "pred_train = model_lgb.predict(train_selected)\n",
    "score_train = mean_squared_error(train['emission'], pred_train, squared=False)\n",
    "scores_df.loc[int(study_number), 'Train RMSE'] = score_train\n",
    "pred_cv = model_lgb.predict(cv_selected)\n",
    "score_cv = mean_squared_error(cv['emission'], pred_cv, squared=False)\n",
    "scores_df.loc[int(study_number), 'Cross-val RMSE'] = score_cv\n",
    "\n",
    "## SUBMISSION\n",
    "# Fit\n",
    "model_lgb.fit(train_and_cv_selected, train_and_cv['emission'])\n",
    "# Prepare submission file\n",
    "submission = pd.DataFrame({'ID_LAT_LON_YEAR_WEEK': test.index, \\\n",
    "                           'emission': model_lgb.predict(test_selected)})\n",
    "\n",
    "submission.to_csv('submissions/submission_Stacking_' + study_number + '.csv', index=False)"
   ]
  },
  {
   "cell_type": "code",
   "execution_count": 247,
   "id": "99b3dcbf",
   "metadata": {},
   "outputs": [
    {
     "data": {
      "text/html": [
       "<div>\n",
       "<style scoped>\n",
       "    .dataframe tbody tr th:only-of-type {\n",
       "        vertical-align: middle;\n",
       "    }\n",
       "\n",
       "    .dataframe tbody tr th {\n",
       "        vertical-align: top;\n",
       "    }\n",
       "\n",
       "    .dataframe thead th {\n",
       "        text-align: right;\n",
       "    }\n",
       "</style>\n",
       "<table border=\"1\" class=\"dataframe\">\n",
       "  <thead>\n",
       "    <tr style=\"text-align: right;\">\n",
       "      <th></th>\n",
       "      <th>Comment</th>\n",
       "      <th>Train RMSE</th>\n",
       "      <th>Cross-val RMSE</th>\n",
       "      <th>Test RMSE</th>\n",
       "    </tr>\n",
       "  </thead>\n",
       "  <tbody>\n",
       "    <tr>\n",
       "      <th>0</th>\n",
       "      <td>LightGBM</td>\n",
       "      <td>7.515948</td>\n",
       "      <td>13.972098</td>\n",
       "      <td>NaN</td>\n",
       "    </tr>\n",
       "  </tbody>\n",
       "</table>\n",
       "</div>"
      ],
      "text/plain": [
       "    Comment  Train RMSE  Cross-val RMSE  Test RMSE\n",
       "0  LightGBM    7.515948       13.972098        NaN"
      ]
     },
     "execution_count": 247,
     "metadata": {},
     "output_type": "execute_result"
    }
   ],
   "source": [
    "scores_df.loc[int(study_number),'Test RMSE'] = np.nan\n",
    "scores_df"
   ]
  },
  {
   "cell_type": "markdown",
   "id": "4dacdba7",
   "metadata": {},
   "source": [
    "## 01. Standard XGBoost, re-selecting second-level features\n",
    "\n",
    "Now, let's do the same trick as in the previous study, but now we'll work with XRBoost regressor:"
   ]
  },
  {
   "cell_type": "code",
   "execution_count": 248,
   "id": "976c8ef4",
   "metadata": {},
   "outputs": [],
   "source": [
    "study_number = '01'\n",
    "\n",
    "scores_df.loc[int(study_number), 'Comment'] = 'XGBoost'\n",
    "\n",
    "train.to_csv('new_datasets/train_Stacking_{}.csv'.format(study_number))\n",
    "cv.to_csv('new_datasets/cv_Stacking_{}.csv'.format(study_number))"
   ]
  },
  {
   "cell_type": "code",
   "execution_count": 249,
   "id": "34484214",
   "metadata": {},
   "outputs": [
    {
     "name": "stdout",
     "output_type": "stream",
     "text": [
      "Best hyperparameters: {'Location_week_no_enc': False, 'emission_pred_2_04': True, 'week_no_enc': True, 'week_no': True, 'year': True, 'Ozone_O3_column_number_density': False, 'Location_enc': True, 'latitude': True, 'pred_1_train': False, 'Max_x_groups_train': False}\n"
     ]
    }
   ],
   "source": [
    "with open('studies/Stacking_' + study_number + '_params.pkl', 'rb') as f:\n",
    "    best_params_01 = pickle.load(f)\n",
    "\n",
    "print(\"Best hyperparameters:\", best_params_01)"
   ]
  },
  {
   "cell_type": "code",
   "execution_count": 250,
   "id": "c24348d8",
   "metadata": {},
   "outputs": [
    {
     "name": "stdout",
     "output_type": "stream",
     "text": [
      "CPU times: total: 35.8 s\n",
      "Wall time: 3.3 s\n"
     ]
    }
   ],
   "source": [
    "%%time\n",
    "\n",
    "# UNCOMMENT TO INSTALL\n",
    "# !pip install xgboost\n",
    "import xgboost as xgb\n",
    "\n",
    "## Create the sets with features selected by the hyperparameters search\n",
    "\n",
    "# For cross-validation\n",
    "selected_features = [feature for feature, value in best_params_01.items() if value]\n",
    "train_selected = train[selected_features]\n",
    "cv_selected = cv[selected_features]\n",
    "\n",
    "# For submission\n",
    "if 'pred_1_train' in selected_features:\n",
    "    selected_features.remove('pred_1_train')\n",
    "    selected_features.append('pred_1')\n",
    "if 'Max_x_groups_train' in selected_features:\n",
    "    selected_features.remove('Max_x_groups_train')\n",
    "    selected_features.append('Max_x_groups')\n",
    "train_and_cv_selected = train_and_cv[selected_features]\n",
    "test_selected = test[selected_features]\n",
    "\n",
    "## CROSS_VALIDATION\n",
    "# Instantiate the regressor\n",
    "model_xgb = xgb.XGBRegressor(random_state=SEED, n_jobs=-1)\n",
    "\n",
    "# Fit\n",
    "model_xgb.fit(train_selected, train['emission'])\n",
    "# Predict and calculate RMSEs\n",
    "pred_train = model_xgb.predict(train_selected)\n",
    "score_train = mean_squared_error(train['emission'], pred_train, squared=False)\n",
    "scores_df.loc[int(study_number), 'Train RMSE'] = score_train\n",
    "pred_cv = model_xgb.predict(cv_selected)\n",
    "score_cv = mean_squared_error(cv['emission'], pred_cv, squared=False)\n",
    "scores_df.loc[int(study_number), 'Cross-val RMSE'] = score_cv\n",
    "\n",
    "## SUBMISSION\n",
    "# Fit\n",
    "model_xgb.fit(train_and_cv_selected, train_and_cv['emission'])\n",
    "# Prepare submission file\n",
    "submission = pd.DataFrame({'ID_LAT_LON_YEAR_WEEK': test.index, \\\n",
    "                           'emission': model_xgb.predict(test_selected)})\n",
    "\n",
    "submission.to_csv('submissions/submission_Stacking_' + study_number + '.csv', index=False)"
   ]
  },
  {
   "cell_type": "code",
   "execution_count": 251,
   "id": "772f13c3",
   "metadata": {},
   "outputs": [
    {
     "data": {
      "text/html": [
       "<div>\n",
       "<style scoped>\n",
       "    .dataframe tbody tr th:only-of-type {\n",
       "        vertical-align: middle;\n",
       "    }\n",
       "\n",
       "    .dataframe tbody tr th {\n",
       "        vertical-align: top;\n",
       "    }\n",
       "\n",
       "    .dataframe thead th {\n",
       "        text-align: right;\n",
       "    }\n",
       "</style>\n",
       "<table border=\"1\" class=\"dataframe\">\n",
       "  <thead>\n",
       "    <tr style=\"text-align: right;\">\n",
       "      <th></th>\n",
       "      <th>Comment</th>\n",
       "      <th>Train RMSE</th>\n",
       "      <th>Cross-val RMSE</th>\n",
       "      <th>Test RMSE</th>\n",
       "    </tr>\n",
       "  </thead>\n",
       "  <tbody>\n",
       "    <tr>\n",
       "      <th>0</th>\n",
       "      <td>LightGBM</td>\n",
       "      <td>7.515948</td>\n",
       "      <td>13.972098</td>\n",
       "      <td>NaN</td>\n",
       "    </tr>\n",
       "    <tr>\n",
       "      <th>1</th>\n",
       "      <td>XGBoost</td>\n",
       "      <td>3.586802</td>\n",
       "      <td>12.204953</td>\n",
       "      <td>34.98748</td>\n",
       "    </tr>\n",
       "  </tbody>\n",
       "</table>\n",
       "</div>"
      ],
      "text/plain": [
       "    Comment  Train RMSE  Cross-val RMSE  Test RMSE\n",
       "0  LightGBM    7.515948       13.972098        NaN\n",
       "1   XGBoost    3.586802       12.204953   34.98748"
      ]
     },
     "execution_count": 251,
     "metadata": {},
     "output_type": "execute_result"
    }
   ],
   "source": [
    "scores_df.loc[int(study_number),'Test RMSE'] = 34.98748\n",
    "scores_df"
   ]
  },
  {
   "cell_type": "markdown",
   "id": "a9e61f3f",
   "metadata": {},
   "source": [
    "We can see that XGBoost performed better.\n",
    "\n",
    "## 02. XGBoost tuned.\n",
    "\n",
    " Let's try to do a hyperparameters tuning on XGBoost. The features will be the same as in study 01."
   ]
  },
  {
   "cell_type": "code",
   "execution_count": 252,
   "id": "5b061899",
   "metadata": {},
   "outputs": [],
   "source": [
    "study_number = '02'\n",
    "\n",
    "scores_df.loc[int(study_number), 'Comment'] = '+ tuned'\n",
    "\n",
    "train_selected.to_csv('new_datasets/train_Stacking_{}.csv'.format(study_number))\n",
    "cv_selected.to_csv('new_datasets/cv_Stacking_{}.csv'.format(study_number))"
   ]
  },
  {
   "cell_type": "code",
   "execution_count": 253,
   "id": "646f974a",
   "metadata": {},
   "outputs": [
    {
     "name": "stdout",
     "output_type": "stream",
     "text": [
      "Best hyperparameters: {'n_estimators': 160, 'max_depth': 6, 'learning_rate': 0.03965436443186791, 'gamma': 0.7522702749246694, 'min_child_weight': 0.009734727230542055, 'subsample': 0.6, 'colsample_bytree': 1.0, 'num_parallel_tree': 4}\n"
     ]
    }
   ],
   "source": [
    "with open('studies/Stacking_' + study_number + '_params.pkl', 'rb') as f:\n",
    "    best_params_02 = pickle.load(f)\n",
    "\n",
    "print(\"Best hyperparameters:\", best_params_02)"
   ]
  },
  {
   "cell_type": "markdown",
   "id": "34778d02",
   "metadata": {},
   "source": [
    "Let's test:"
   ]
  },
  {
   "cell_type": "code",
   "execution_count": 254,
   "id": "af7ac456",
   "metadata": {},
   "outputs": [
    {
     "name": "stdout",
     "output_type": "stream",
     "text": [
      "CPU times: total: 2min 59s\n",
      "Wall time: 17.5 s\n"
     ]
    }
   ],
   "source": [
    "%%time\n",
    "\n",
    "# Instantiate the regressor\n",
    "model_xgb = xgb.XGBRegressor(random_state=SEED, n_jobs=-1, **best_params_02)\n",
    "\n",
    "\n",
    "## CROSS_VALIDATION\n",
    "\n",
    "# Fit\n",
    "model_xgb.fit(train_selected, train['emission'])\n",
    "# Predict and calculate RMSEs\n",
    "pred_train = model_xgb.predict(train_selected)\n",
    "score_train = mean_squared_error(train['emission'], pred_train, squared=False)\n",
    "scores_df.loc[int(study_number), 'Train RMSE'] = score_train\n",
    "pred_cv = model_xgb.predict(cv_selected)\n",
    "score_cv = mean_squared_error(cv['emission'], pred_cv, squared=False)\n",
    "scores_df.loc[int(study_number), 'Cross-val RMSE'] = score_cv\n",
    "\n",
    "## SUBMISSION\n",
    "# Fit\n",
    "model_xgb.fit(train_and_cv_selected, train_and_cv['emission'])\n",
    "# Prepare submission file\n",
    "submission = pd.DataFrame({'ID_LAT_LON_YEAR_WEEK': test.index, \\\n",
    "                           'emission': model_xgb.predict(test_selected)})\n",
    "\n",
    "submission.to_csv('submissions/submission_Stacking_' + study_number + '.csv', index=False)"
   ]
  },
  {
   "cell_type": "code",
   "execution_count": 255,
   "id": "8b7e62dc",
   "metadata": {},
   "outputs": [
    {
     "data": {
      "text/html": [
       "<div>\n",
       "<style scoped>\n",
       "    .dataframe tbody tr th:only-of-type {\n",
       "        vertical-align: middle;\n",
       "    }\n",
       "\n",
       "    .dataframe tbody tr th {\n",
       "        vertical-align: top;\n",
       "    }\n",
       "\n",
       "    .dataframe thead th {\n",
       "        text-align: right;\n",
       "    }\n",
       "</style>\n",
       "<table border=\"1\" class=\"dataframe\">\n",
       "  <thead>\n",
       "    <tr style=\"text-align: right;\">\n",
       "      <th></th>\n",
       "      <th>Comment</th>\n",
       "      <th>Train RMSE</th>\n",
       "      <th>Cross-val RMSE</th>\n",
       "      <th>Test RMSE</th>\n",
       "    </tr>\n",
       "  </thead>\n",
       "  <tbody>\n",
       "    <tr>\n",
       "      <th>0</th>\n",
       "      <td>LightGBM</td>\n",
       "      <td>7.515948</td>\n",
       "      <td>13.972098</td>\n",
       "      <td>NaN</td>\n",
       "    </tr>\n",
       "    <tr>\n",
       "      <th>1</th>\n",
       "      <td>XGBoost</td>\n",
       "      <td>3.586802</td>\n",
       "      <td>12.204953</td>\n",
       "      <td>34.98748</td>\n",
       "    </tr>\n",
       "    <tr>\n",
       "      <th>2</th>\n",
       "      <td>+ tuned</td>\n",
       "      <td>6.784888</td>\n",
       "      <td>11.529942</td>\n",
       "      <td>NaN</td>\n",
       "    </tr>\n",
       "  </tbody>\n",
       "</table>\n",
       "</div>"
      ],
      "text/plain": [
       "    Comment  Train RMSE  Cross-val RMSE  Test RMSE\n",
       "0  LightGBM    7.515948       13.972098        NaN\n",
       "1   XGBoost    3.586802       12.204953   34.98748\n",
       "2   + tuned    6.784888       11.529942        NaN"
      ]
     },
     "execution_count": 255,
     "metadata": {},
     "output_type": "execute_result"
    }
   ],
   "source": [
    "scores_df.loc[int(study_number),'Test RMSE'] = np.nan\n",
    "scores_df"
   ]
  },
  {
   "cell_type": "markdown",
   "id": "d0080d7d",
   "metadata": {},
   "source": [
    "## 03. XGBoost feature selection, no Part 2 predictions\n",
    "\n",
    "The Part 2 predictions were made based mostly on 2021 data, so, in theory, they should cause overfitting to our cross-validation set, which is 2021 data.\n",
    "\n",
    "Now we'll re-run study 01, but we'll exclude Part 2 predictions frome features:"
   ]
  },
  {
   "cell_type": "code",
   "execution_count": 256,
   "id": "6a467998",
   "metadata": {},
   "outputs": [],
   "source": [
    "study_number = '03'\n",
    "\n",
    "scores_df.loc[int(study_number), 'Comment'] = 'XGBoost, no Part 2'\n",
    "\n",
    "train.drop('emission_pred_2_04', axis=1).to_csv('new_datasets/train_Stacking_{}.csv'.format(study_number))\n",
    "cv.drop('emission_pred_2_04', axis=1).to_csv('new_datasets/cv_Stacking_{}.csv'.format(study_number))"
   ]
  },
  {
   "cell_type": "code",
   "execution_count": 257,
   "id": "264b99b5",
   "metadata": {},
   "outputs": [
    {
     "name": "stdout",
     "output_type": "stream",
     "text": [
      "Best hyperparameters: {'Location_week_no_enc': True, 'week_no_enc': False, 'week_no': False, 'year': True, 'Ozone_O3_column_number_density': False, 'Location_enc': False, 'latitude': False, 'pred_1_train': False, 'Max_x_groups_train': False}\n"
     ]
    }
   ],
   "source": [
    "with open('studies/Stacking_' + study_number + '_params.pkl', 'rb') as f:\n",
    "    best_params_03 = pickle.load(f)\n",
    "\n",
    "print(\"Best hyperparameters:\", best_params_03)"
   ]
  },
  {
   "cell_type": "code",
   "execution_count": 258,
   "id": "09030e18",
   "metadata": {},
   "outputs": [
    {
     "name": "stdout",
     "output_type": "stream",
     "text": [
      "CPU times: total: 21.3 s\n",
      "Wall time: 2.17 s\n"
     ]
    }
   ],
   "source": [
    "%%time\n",
    "\n",
    "## Create the sets with features selected by the hyperparameters search\n",
    "\n",
    "# For cross-validation\n",
    "selected_features = [feature for feature, value in best_params_03.items() if value]\n",
    "train_selected = train[selected_features]\n",
    "cv_selected = cv[selected_features]\n",
    "\n",
    "# For submission\n",
    "if 'pred_1_train' in selected_features:\n",
    "    selected_features.remove('pred_1_train')\n",
    "    selected_features.append('pred_1')\n",
    "if 'Max_x_groups_train' in selected_features:\n",
    "    selected_features.remove('Max_x_groups_train')\n",
    "    selected_features.append('Max_x_groups')\n",
    "train_and_cv_selected = train_and_cv[selected_features]\n",
    "test_selected = test[selected_features]\n",
    "\n",
    "## CROSS_VALIDATION\n",
    "# Instantiate the regressor\n",
    "model_xgb = xgb.XGBRegressor(random_state=SEED, n_jobs=-1)\n",
    "\n",
    "# Fit\n",
    "model_xgb.fit(train_selected, train['emission'])\n",
    "# Predict and calculate RMSEs\n",
    "pred_train = model_xgb.predict(train_selected)\n",
    "score_train = mean_squared_error(train['emission'], pred_train, squared=False)\n",
    "scores_df.loc[int(study_number), 'Train RMSE'] = score_train\n",
    "pred_cv = model_xgb.predict(cv_selected)\n",
    "score_cv = mean_squared_error(cv['emission'], pred_cv, squared=False)\n",
    "scores_df.loc[int(study_number), 'Cross-val RMSE'] = score_cv\n",
    "\n",
    "## SUBMISSION\n",
    "# Fit\n",
    "model_xgb.fit(train_and_cv_selected, train_and_cv['emission'])\n",
    "# Prepare submission file\n",
    "submission = pd.DataFrame({'ID_LAT_LON_YEAR_WEEK': test.index, \\\n",
    "                           'emission': model_xgb.predict(test_selected)})\n",
    "\n",
    "submission.to_csv('submissions/submission_Stacking_' + study_number + '.csv', index=False)"
   ]
  },
  {
   "cell_type": "code",
   "execution_count": 259,
   "id": "5a2f9ac6",
   "metadata": {},
   "outputs": [
    {
     "data": {
      "text/html": [
       "<div>\n",
       "<style scoped>\n",
       "    .dataframe tbody tr th:only-of-type {\n",
       "        vertical-align: middle;\n",
       "    }\n",
       "\n",
       "    .dataframe tbody tr th {\n",
       "        vertical-align: top;\n",
       "    }\n",
       "\n",
       "    .dataframe thead th {\n",
       "        text-align: right;\n",
       "    }\n",
       "</style>\n",
       "<table border=\"1\" class=\"dataframe\">\n",
       "  <thead>\n",
       "    <tr style=\"text-align: right;\">\n",
       "      <th></th>\n",
       "      <th>Comment</th>\n",
       "      <th>Train RMSE</th>\n",
       "      <th>Cross-val RMSE</th>\n",
       "      <th>Test RMSE</th>\n",
       "    </tr>\n",
       "  </thead>\n",
       "  <tbody>\n",
       "    <tr>\n",
       "      <th>0</th>\n",
       "      <td>LightGBM</td>\n",
       "      <td>7.515948</td>\n",
       "      <td>13.972098</td>\n",
       "      <td>NaN</td>\n",
       "    </tr>\n",
       "    <tr>\n",
       "      <th>1</th>\n",
       "      <td>XGBoost</td>\n",
       "      <td>3.586802</td>\n",
       "      <td>12.204953</td>\n",
       "      <td>34.98748</td>\n",
       "    </tr>\n",
       "    <tr>\n",
       "      <th>2</th>\n",
       "      <td>+ tuned</td>\n",
       "      <td>6.784888</td>\n",
       "      <td>11.529942</td>\n",
       "      <td>NaN</td>\n",
       "    </tr>\n",
       "    <tr>\n",
       "      <th>3</th>\n",
       "      <td>XGBoost, no Part 2</td>\n",
       "      <td>6.091798</td>\n",
       "      <td>15.705979</td>\n",
       "      <td>30.09157</td>\n",
       "    </tr>\n",
       "  </tbody>\n",
       "</table>\n",
       "</div>"
      ],
      "text/plain": [
       "              Comment  Train RMSE  Cross-val RMSE  Test RMSE\n",
       "0            LightGBM    7.515948       13.972098        NaN\n",
       "1             XGBoost    3.586802       12.204953   34.98748\n",
       "2             + tuned    6.784888       11.529942        NaN\n",
       "3  XGBoost, no Part 2    6.091798       15.705979   30.09157"
      ]
     },
     "execution_count": 259,
     "metadata": {},
     "output_type": "execute_result"
    }
   ],
   "source": [
    "scores_df.loc[int(study_number),'Test RMSE'] = 30.09157\n",
    "scores_df"
   ]
  },
  {
   "cell_type": "markdown",
   "id": "c8e61165",
   "metadata": {},
   "source": [
    "Indeed, Cross-val RMSE is higher, but Test RMSE is lower.\n",
    "\n",
    "## 04. XGBoost tuned, no Part 2 predictions\n",
    "\n",
    "Let's try to tune this:"
   ]
  },
  {
   "cell_type": "code",
   "execution_count": 260,
   "id": "e47b6f22",
   "metadata": {},
   "outputs": [],
   "source": [
    "study_number = '04'\n",
    "\n",
    "scores_df.loc[int(study_number), 'Comment'] = '+ tuned'\n",
    "\n",
    "train_selected.to_csv('new_datasets/train_Stacking_{}.csv'.format(study_number))\n",
    "cv_selected.to_csv('new_datasets/cv_Stacking_{}.csv'.format(study_number))"
   ]
  },
  {
   "cell_type": "code",
   "execution_count": 261,
   "id": "f0867739",
   "metadata": {},
   "outputs": [
    {
     "name": "stdout",
     "output_type": "stream",
     "text": [
      "Best hyperparameters: {'n_estimators': 440, 'max_depth': 2, 'learning_rate': 0.02416007069343977, 'gamma': 0.019328921824942846, 'min_child_weight': 0.3354782564036733, 'subsample': 0.4, 'colsample_bytree': 0.6, 'num_parallel_tree': 5}\n"
     ]
    }
   ],
   "source": [
    "with open('studies/Stacking_' + study_number + '_params.pkl', 'rb') as f:\n",
    "    best_params_04 = pickle.load(f)\n",
    "\n",
    "print(\"Best hyperparameters:\", best_params_04)"
   ]
  },
  {
   "cell_type": "code",
   "execution_count": 262,
   "id": "9d6002d7",
   "metadata": {},
   "outputs": [
    {
     "name": "stdout",
     "output_type": "stream",
     "text": [
      "CPU times: total: 2min 23s\n",
      "Wall time: 15.4 s\n"
     ]
    }
   ],
   "source": [
    "%%time\n",
    "\n",
    "# Instantiate the regressor\n",
    "model_xgb = xgb.XGBRegressor(random_state=SEED, n_jobs=-1, **best_params_04)\n",
    "\n",
    "\n",
    "## CROSS_VALIDATION\n",
    "\n",
    "# Fit\n",
    "model_xgb.fit(train_selected, train['emission'])\n",
    "# Predict and calculate RMSEs\n",
    "pred_train = model_xgb.predict(train_selected)\n",
    "score_train = mean_squared_error(train['emission'], pred_train, squared=False)\n",
    "scores_df.loc[int(study_number), 'Train RMSE'] = score_train\n",
    "pred_cv = model_xgb.predict(cv_selected)\n",
    "score_cv = mean_squared_error(cv['emission'], pred_cv, squared=False)\n",
    "scores_df.loc[int(study_number), 'Cross-val RMSE'] = score_cv\n",
    "\n",
    "## SUBMISSION\n",
    "# Fit\n",
    "model_xgb.fit(train_and_cv_selected, train_and_cv['emission'])\n",
    "pred_train_and_cv = model_xgb.predict(train_and_cv_selected)\n",
    "pred_test = model_xgb.predict(test_selected)\n",
    "# Prepare submission file\n",
    "submission = pd.DataFrame({'ID_LAT_LON_YEAR_WEEK': test.index, \\\n",
    "                           'emission': pred_test})\n",
    "\n",
    "submission.to_csv('submissions/submission_Stacking_' + study_number + '.csv', index=False)"
   ]
  },
  {
   "cell_type": "code",
   "execution_count": 263,
   "id": "03771b0e",
   "metadata": {},
   "outputs": [
    {
     "data": {
      "text/html": [
       "<div>\n",
       "<style scoped>\n",
       "    .dataframe tbody tr th:only-of-type {\n",
       "        vertical-align: middle;\n",
       "    }\n",
       "\n",
       "    .dataframe tbody tr th {\n",
       "        vertical-align: top;\n",
       "    }\n",
       "\n",
       "    .dataframe thead th {\n",
       "        text-align: right;\n",
       "    }\n",
       "</style>\n",
       "<table border=\"1\" class=\"dataframe\">\n",
       "  <thead>\n",
       "    <tr style=\"text-align: right;\">\n",
       "      <th></th>\n",
       "      <th>Comment</th>\n",
       "      <th>Train RMSE</th>\n",
       "      <th>Cross-val RMSE</th>\n",
       "      <th>Test RMSE</th>\n",
       "    </tr>\n",
       "  </thead>\n",
       "  <tbody>\n",
       "    <tr>\n",
       "      <th>0</th>\n",
       "      <td>LightGBM</td>\n",
       "      <td>7.515948</td>\n",
       "      <td>13.972098</td>\n",
       "      <td>NaN</td>\n",
       "    </tr>\n",
       "    <tr>\n",
       "      <th>1</th>\n",
       "      <td>XGBoost</td>\n",
       "      <td>3.586802</td>\n",
       "      <td>12.204953</td>\n",
       "      <td>34.98748</td>\n",
       "    </tr>\n",
       "    <tr>\n",
       "      <th>2</th>\n",
       "      <td>+ tuned</td>\n",
       "      <td>6.784888</td>\n",
       "      <td>11.529942</td>\n",
       "      <td>NaN</td>\n",
       "    </tr>\n",
       "    <tr>\n",
       "      <th>3</th>\n",
       "      <td>XGBoost, no Part 2</td>\n",
       "      <td>6.091798</td>\n",
       "      <td>15.705979</td>\n",
       "      <td>30.09157</td>\n",
       "    </tr>\n",
       "    <tr>\n",
       "      <th>4</th>\n",
       "      <td>+ tuned</td>\n",
       "      <td>8.258166</td>\n",
       "      <td>14.100878</td>\n",
       "      <td>33.34190</td>\n",
       "    </tr>\n",
       "  </tbody>\n",
       "</table>\n",
       "</div>"
      ],
      "text/plain": [
       "              Comment  Train RMSE  Cross-val RMSE  Test RMSE\n",
       "0            LightGBM    7.515948       13.972098        NaN\n",
       "1             XGBoost    3.586802       12.204953   34.98748\n",
       "2             + tuned    6.784888       11.529942        NaN\n",
       "3  XGBoost, no Part 2    6.091798       15.705979   30.09157\n",
       "4             + tuned    8.258166       14.100878   33.34190"
      ]
     },
     "execution_count": 263,
     "metadata": {},
     "output_type": "execute_result"
    }
   ],
   "source": [
    "scores_df.loc[int(study_number),'Test RMSE'] = 33.3419\n",
    "scores_df"
   ]
  },
  {
   "cell_type": "markdown",
   "id": "096031f9",
   "metadata": {},
   "source": [
    "## 05. Median of predictions.\n",
    "\n",
    "For the next set of techniques we'll make DataFrames with predictions only. Our first technique will be to take median of the predictions:"
   ]
  },
  {
   "cell_type": "code",
   "execution_count": 269,
   "id": "b29aab77",
   "metadata": {},
   "outputs": [
    {
     "name": "stdout",
     "output_type": "stream",
     "text": [
      "CPU times: total: 21.1 s\n",
      "Wall time: 2.1 s\n"
     ]
    }
   ],
   "source": [
    "%%time\n",
    "\n",
    "study_number = '05'\n",
    "\n",
    "scores_df.loc[int(study_number), 'Comment'] = 'Median'\n",
    "\n",
    "# Instantiate the regressor\n",
    "model_xgb = xgb.XGBRegressor(random_state=SEED, n_jobs=-1)\n",
    "\n",
    "\n",
    "## CROSS_VALIDATION\n",
    "\n",
    "# Fit\n",
    "model_xgb.fit(train_selected, train['emission'])\n",
    "# Predict \n",
    "pred_train = model_xgb.predict(train_selected)\n",
    "pred_cv = model_xgb.predict(cv_selected)\n",
    "\n",
    "## SUBMISSION\n",
    "# Fit\n",
    "model_xgb.fit(train_and_cv_selected, train_and_cv['emission'])\n",
    "pred_test = model_xgb.predict(test_selected)\n",
    "\n",
    "## Create DataFrames\n",
    "train_predictions = train[['pred_1_train', 'emission_pred_2_04',\n",
    "                           'Max_x_groups_train']].copy(deep=True)\n",
    "train_predictions['pred_Stacking_03_train'] = pred_train\n",
    "\n",
    "cv_predictions = cv[['pred_1_train', 'emission_pred_2_04',\n",
    "                     'Max_x_groups_train']].copy(deep=True)\n",
    "cv_predictions['pred_Stacking_03_train'] = pred_cv\n",
    "\n",
    "test_predictions = test[['pred_1', 'emission_pred_2_04',\n",
    "                                         'Max_x_groups']].copy(deep=True)\n",
    "test_predictions['pred_Stacking_03'] = pred_test\n",
    "\n",
    "## Calculate Cross-val RMSE\n",
    "scores_df.loc[int(study_number), 'Train RMSE'] = mean_squared_error(train['emission'],\n",
    "                                train_predictions.median(axis=1), squared=False)\n",
    "scores_df.loc[int(study_number), 'Cross-val RMSE'] = mean_squared_error(cv['emission'],\n",
    "                                cv_predictions.median(axis=1), squared=False)\n",
    "\n",
    "\n",
    "# Prepare a submission file\n",
    "submission = pd.DataFrame({'ID_LAT_LON_YEAR_WEEK': test.index, \\\n",
    "                           'emission': test_predictions.median(axis=1)})\n",
    "\n",
    "submission.to_csv('submissions/submission_Stacking_' + study_number + '.csv', index=False)"
   ]
  },
  {
   "cell_type": "code",
   "execution_count": 270,
   "id": "1ff4f6e4",
   "metadata": {},
   "outputs": [
    {
     "data": {
      "text/html": [
       "<div>\n",
       "<style scoped>\n",
       "    .dataframe tbody tr th:only-of-type {\n",
       "        vertical-align: middle;\n",
       "    }\n",
       "\n",
       "    .dataframe tbody tr th {\n",
       "        vertical-align: top;\n",
       "    }\n",
       "\n",
       "    .dataframe thead th {\n",
       "        text-align: right;\n",
       "    }\n",
       "</style>\n",
       "<table border=\"1\" class=\"dataframe\">\n",
       "  <thead>\n",
       "    <tr style=\"text-align: right;\">\n",
       "      <th></th>\n",
       "      <th>Comment</th>\n",
       "      <th>Train RMSE</th>\n",
       "      <th>Cross-val RMSE</th>\n",
       "      <th>Test RMSE</th>\n",
       "    </tr>\n",
       "  </thead>\n",
       "  <tbody>\n",
       "    <tr>\n",
       "      <th>0</th>\n",
       "      <td>LightGBM</td>\n",
       "      <td>7.515948</td>\n",
       "      <td>13.972098</td>\n",
       "      <td>NaN</td>\n",
       "    </tr>\n",
       "    <tr>\n",
       "      <th>1</th>\n",
       "      <td>XGBoost</td>\n",
       "      <td>3.586802</td>\n",
       "      <td>12.204953</td>\n",
       "      <td>34.98748</td>\n",
       "    </tr>\n",
       "    <tr>\n",
       "      <th>2</th>\n",
       "      <td>+ tuned</td>\n",
       "      <td>6.784888</td>\n",
       "      <td>11.529942</td>\n",
       "      <td>NaN</td>\n",
       "    </tr>\n",
       "    <tr>\n",
       "      <th>3</th>\n",
       "      <td>XGBoost, no Part 2</td>\n",
       "      <td>6.091798</td>\n",
       "      <td>15.705979</td>\n",
       "      <td>30.09157</td>\n",
       "    </tr>\n",
       "    <tr>\n",
       "      <th>4</th>\n",
       "      <td>+ tuned</td>\n",
       "      <td>8.258166</td>\n",
       "      <td>14.100878</td>\n",
       "      <td>33.34190</td>\n",
       "    </tr>\n",
       "    <tr>\n",
       "      <th>5</th>\n",
       "      <td>Median</td>\n",
       "      <td>5.724707</td>\n",
       "      <td>14.270069</td>\n",
       "      <td>NaN</td>\n",
       "    </tr>\n",
       "    <tr>\n",
       "      <th>6</th>\n",
       "      <td>Mean</td>\n",
       "      <td>7.670825</td>\n",
       "      <td>13.372545</td>\n",
       "      <td>NaN</td>\n",
       "    </tr>\n",
       "  </tbody>\n",
       "</table>\n",
       "</div>"
      ],
      "text/plain": [
       "              Comment  Train RMSE  Cross-val RMSE  Test RMSE\n",
       "0            LightGBM    7.515948       13.972098        NaN\n",
       "1             XGBoost    3.586802       12.204953   34.98748\n",
       "2             + tuned    6.784888       11.529942        NaN\n",
       "3  XGBoost, no Part 2    6.091798       15.705979   30.09157\n",
       "4             + tuned    8.258166       14.100878   33.34190\n",
       "5              Median    5.724707       14.270069        NaN\n",
       "6                Mean    7.670825       13.372545        NaN"
      ]
     },
     "execution_count": 270,
     "metadata": {},
     "output_type": "execute_result"
    }
   ],
   "source": [
    "scores_df.loc[int(study_number),'Test RMSE'] = np.nan\n",
    "scores_df"
   ]
  },
  {
   "cell_type": "markdown",
   "id": "2aa5d01b",
   "metadata": {},
   "source": [
    "## 06. Mean of predictions."
   ]
  },
  {
   "cell_type": "code",
   "execution_count": 271,
   "id": "aa1e9349",
   "metadata": {},
   "outputs": [
    {
     "name": "stdout",
     "output_type": "stream",
     "text": [
      "CPU times: total: 62.5 ms\n",
      "Wall time: 52.4 ms\n"
     ]
    }
   ],
   "source": [
    "%%time\n",
    "\n",
    "study_number = '06'\n",
    "\n",
    "scores_df.loc[int(study_number), 'Comment'] = 'Mean'\n",
    "\n",
    "## Calculate Cross-val RMSE\n",
    "scores_df.loc[int(study_number), 'Train RMSE'] = mean_squared_error(train['emission'],\n",
    "                                train_predictions.mean(axis=1), squared=False)\n",
    "scores_df.loc[int(study_number), 'Cross-val RMSE'] = mean_squared_error(cv['emission'],\n",
    "                                cv_predictions.mean(axis=1), squared=False)\n",
    "\n",
    "\n",
    "# Prepare a submission file\n",
    "submission = pd.DataFrame({'ID_LAT_LON_YEAR_WEEK': test.index, \\\n",
    "                           'emission': test_predictions.mean(axis=1)})\n",
    "\n",
    "submission.to_csv('submissions/submission_Stacking_' + study_number + '.csv', index=False)"
   ]
  },
  {
   "cell_type": "code",
   "execution_count": 272,
   "id": "34c0ff0b",
   "metadata": {},
   "outputs": [
    {
     "data": {
      "text/html": [
       "<div>\n",
       "<style scoped>\n",
       "    .dataframe tbody tr th:only-of-type {\n",
       "        vertical-align: middle;\n",
       "    }\n",
       "\n",
       "    .dataframe tbody tr th {\n",
       "        vertical-align: top;\n",
       "    }\n",
       "\n",
       "    .dataframe thead th {\n",
       "        text-align: right;\n",
       "    }\n",
       "</style>\n",
       "<table border=\"1\" class=\"dataframe\">\n",
       "  <thead>\n",
       "    <tr style=\"text-align: right;\">\n",
       "      <th></th>\n",
       "      <th>Comment</th>\n",
       "      <th>Train RMSE</th>\n",
       "      <th>Cross-val RMSE</th>\n",
       "      <th>Test RMSE</th>\n",
       "    </tr>\n",
       "  </thead>\n",
       "  <tbody>\n",
       "    <tr>\n",
       "      <th>0</th>\n",
       "      <td>LightGBM</td>\n",
       "      <td>7.515948</td>\n",
       "      <td>13.972098</td>\n",
       "      <td>NaN</td>\n",
       "    </tr>\n",
       "    <tr>\n",
       "      <th>1</th>\n",
       "      <td>XGBoost</td>\n",
       "      <td>3.586802</td>\n",
       "      <td>12.204953</td>\n",
       "      <td>34.98748</td>\n",
       "    </tr>\n",
       "    <tr>\n",
       "      <th>2</th>\n",
       "      <td>+ tuned</td>\n",
       "      <td>6.784888</td>\n",
       "      <td>11.529942</td>\n",
       "      <td>NaN</td>\n",
       "    </tr>\n",
       "    <tr>\n",
       "      <th>3</th>\n",
       "      <td>XGBoost, no Part 2</td>\n",
       "      <td>6.091798</td>\n",
       "      <td>15.705979</td>\n",
       "      <td>30.09157</td>\n",
       "    </tr>\n",
       "    <tr>\n",
       "      <th>4</th>\n",
       "      <td>+ tuned</td>\n",
       "      <td>8.258166</td>\n",
       "      <td>14.100878</td>\n",
       "      <td>33.34190</td>\n",
       "    </tr>\n",
       "    <tr>\n",
       "      <th>5</th>\n",
       "      <td>Median</td>\n",
       "      <td>5.724707</td>\n",
       "      <td>14.270069</td>\n",
       "      <td>NaN</td>\n",
       "    </tr>\n",
       "    <tr>\n",
       "      <th>6</th>\n",
       "      <td>Mean</td>\n",
       "      <td>7.285663</td>\n",
       "      <td>13.753212</td>\n",
       "      <td>NaN</td>\n",
       "    </tr>\n",
       "  </tbody>\n",
       "</table>\n",
       "</div>"
      ],
      "text/plain": [
       "              Comment  Train RMSE  Cross-val RMSE  Test RMSE\n",
       "0            LightGBM    7.515948       13.972098        NaN\n",
       "1             XGBoost    3.586802       12.204953   34.98748\n",
       "2             + tuned    6.784888       11.529942        NaN\n",
       "3  XGBoost, no Part 2    6.091798       15.705979   30.09157\n",
       "4             + tuned    8.258166       14.100878   33.34190\n",
       "5              Median    5.724707       14.270069        NaN\n",
       "6                Mean    7.285663       13.753212        NaN"
      ]
     },
     "execution_count": 272,
     "metadata": {},
     "output_type": "execute_result"
    }
   ],
   "source": [
    "scores_df.loc[int(study_number),'Test RMSE'] = 25.30594\n",
    "scores_df"
   ]
  },
  {
   "cell_type": "markdown",
   "id": "51e27be9",
   "metadata": {},
   "source": [
    "## 07. Weighted Mean\n",
    "\n",
    "Now let's try to weight our predictions based on their Test RMSE. The lower is the Test RMSE, the higher is an effect on prediction:"
   ]
  },
  {
   "cell_type": "code",
   "execution_count": 300,
   "id": "688a003b",
   "metadata": {},
   "outputs": [
    {
     "name": "stdout",
     "output_type": "stream",
     "text": [
      "CPU times: total: 109 ms\n",
      "Wall time: 125 ms\n"
     ]
    }
   ],
   "source": [
    "%%time\n",
    "\n",
    "study_number = '07'\n",
    "\n",
    "scores_df.loc[int(study_number), 'Comment'] = 'Weighted Mean'\n",
    "\n",
    "\n",
    "# Rename column names for consistency\n",
    "train_predictions.columns = test_predictions.columns\n",
    "cv_predictions.columns = test_predictions.columns\n",
    "\n",
    "\n",
    "# Create a DataFrame with predictions Test RMSE's\n",
    "prediction_scores = pd.DataFrame({'Score': [32.41069, 26.88799, 21.67107, 30.09157]},\n",
    "                                index=train_predictions.columns)\n",
    "\n",
    "# Calculate lowest Test RMSE\n",
    "min_score = prediction_scores['Score'].min()\n",
    "min_score_index = prediction_scores['Score'].idxmin()\n",
    "\n",
    "# Calculate weights\n",
    "prediction_scores['Weight'] = prediction_scores[\"Score\"] / min_score\n",
    "\n",
    "# Calculate differences of predictions compared to the best prediction\n",
    "train_predictions_differences = train_predictions.subtract(train_predictions[min_score_index], axis=0)\n",
    "cv_predictions_differences = cv_predictions.subtract(cv_predictions[min_score_index], axis=0)\n",
    "test_predictions_differences = test_predictions.subtract(test_predictions[min_score_index], axis=0)\n",
    "\n",
    "# Weight differences\n",
    "train_predictions_differences_weighted = pd.DataFrame(columns=train_predictions.columns)\n",
    "for pred in train_predictions.columns:\n",
    "    train_predictions_differences_weighted[pred] = train_predictions_differences[pred] / \\\n",
    "                                                prediction_scores.loc[pred, 'Weight']\n",
    "cv_predictions_differences_weighted = pd.DataFrame(columns=train_predictions.columns)\n",
    "for pred in train_predictions.columns:\n",
    "    cv_predictions_differences_weighted[pred] = cv_predictions_differences[pred] / \\\n",
    "                                                prediction_scores.loc[pred, 'Weight']\n",
    "test_predictions_differences_weighted = pd.DataFrame(columns=train_predictions.columns)\n",
    "for pred in train_predictions.columns:\n",
    "    test_predictions_differences_weighted[pred] = test_predictions_differences[pred] / \\\n",
    "                                                prediction_scores.loc[pred, 'Weight']\n",
    "\n",
    "## Add weighted differences\n",
    "train_predictions_weighted = pd.DataFrame(columns=train_predictions.columns)\n",
    "for pred in train_predictions.columns:\n",
    "    train_predictions_weighted[pred] = train_predictions[min_score_index] +\\\n",
    "                    train_predictions_differences_weighted[pred]\n",
    "cv_predictions_weighted = pd.DataFrame(columns=train_predictions.columns)\n",
    "for pred in train_predictions.columns:\n",
    "    cv_predictions_weighted[pred] = cv_predictions[min_score_index] +\\\n",
    "                    cv_predictions_differences_weighted[pred]\n",
    "test_predictions_weighted = pd.DataFrame(columns=train_predictions.columns)\n",
    "for pred in train_predictions.columns:\n",
    "    test_predictions_weighted[pred] = test_predictions[min_score_index] +\\\n",
    "                    test_predictions_differences_weighted[pred]\n",
    "\n",
    "## Calculate Cross-val RMSE\n",
    "scores_df.loc[int(study_number), 'Train RMSE'] = mean_squared_error(train['emission'],\n",
    "                                train_predictions_weighted.mean(axis=1), squared=False)\n",
    "scores_df.loc[int(study_number), 'Cross-val RMSE'] = mean_squared_error(cv['emission'],\n",
    "                                cv_predictions_weighted.mean(axis=1), squared=False)\n",
    "\n",
    "\n",
    "# Prepare a submission file\n",
    "submission = pd.DataFrame({'ID_LAT_LON_YEAR_WEEK': test.index, \\\n",
    "                           'emission': test_predictions_weighted.mean(axis=1)})\n",
    "\n",
    "submission.to_csv('submissions/submission_Stacking_' + study_number + '.csv', index=False)"
   ]
  },
  {
   "cell_type": "code",
   "execution_count": 302,
   "id": "ca89d000",
   "metadata": {},
   "outputs": [
    {
     "data": {
      "text/html": [
       "<div>\n",
       "<style scoped>\n",
       "    .dataframe tbody tr th:only-of-type {\n",
       "        vertical-align: middle;\n",
       "    }\n",
       "\n",
       "    .dataframe tbody tr th {\n",
       "        vertical-align: top;\n",
       "    }\n",
       "\n",
       "    .dataframe thead th {\n",
       "        text-align: right;\n",
       "    }\n",
       "</style>\n",
       "<table border=\"1\" class=\"dataframe\">\n",
       "  <thead>\n",
       "    <tr style=\"text-align: right;\">\n",
       "      <th></th>\n",
       "      <th>Comment</th>\n",
       "      <th>Train RMSE</th>\n",
       "      <th>Cross-val RMSE</th>\n",
       "      <th>Test RMSE</th>\n",
       "    </tr>\n",
       "  </thead>\n",
       "  <tbody>\n",
       "    <tr>\n",
       "      <th>0</th>\n",
       "      <td>LightGBM</td>\n",
       "      <td>7.515948</td>\n",
       "      <td>13.972098</td>\n",
       "      <td>NaN</td>\n",
       "    </tr>\n",
       "    <tr>\n",
       "      <th>1</th>\n",
       "      <td>XGBoost</td>\n",
       "      <td>3.586802</td>\n",
       "      <td>12.204953</td>\n",
       "      <td>34.98748</td>\n",
       "    </tr>\n",
       "    <tr>\n",
       "      <th>2</th>\n",
       "      <td>+ tuned</td>\n",
       "      <td>6.784888</td>\n",
       "      <td>11.529942</td>\n",
       "      <td>NaN</td>\n",
       "    </tr>\n",
       "    <tr>\n",
       "      <th>3</th>\n",
       "      <td>XGBoost, no Part 2</td>\n",
       "      <td>6.091798</td>\n",
       "      <td>15.705979</td>\n",
       "      <td>30.09157</td>\n",
       "    </tr>\n",
       "    <tr>\n",
       "      <th>4</th>\n",
       "      <td>+ tuned</td>\n",
       "      <td>8.258166</td>\n",
       "      <td>14.100878</td>\n",
       "      <td>33.34190</td>\n",
       "    </tr>\n",
       "    <tr>\n",
       "      <th>5</th>\n",
       "      <td>Median</td>\n",
       "      <td>5.724707</td>\n",
       "      <td>14.270069</td>\n",
       "      <td>NaN</td>\n",
       "    </tr>\n",
       "    <tr>\n",
       "      <th>6</th>\n",
       "      <td>Mean</td>\n",
       "      <td>7.285663</td>\n",
       "      <td>13.753212</td>\n",
       "      <td>NaN</td>\n",
       "    </tr>\n",
       "    <tr>\n",
       "      <th>7</th>\n",
       "      <td>Weighted Mean</td>\n",
       "      <td>7.932648</td>\n",
       "      <td>14.853491</td>\n",
       "      <td>23.86802</td>\n",
       "    </tr>\n",
       "  </tbody>\n",
       "</table>\n",
       "</div>"
      ],
      "text/plain": [
       "              Comment  Train RMSE  Cross-val RMSE  Test RMSE\n",
       "0            LightGBM    7.515948       13.972098        NaN\n",
       "1             XGBoost    3.586802       12.204953   34.98748\n",
       "2             + tuned    6.784888       11.529942        NaN\n",
       "3  XGBoost, no Part 2    6.091798       15.705979   30.09157\n",
       "4             + tuned    8.258166       14.100878   33.34190\n",
       "5              Median    5.724707       14.270069        NaN\n",
       "6                Mean    7.285663       13.753212        NaN\n",
       "7       Weighted Mean    7.932648       14.853491   23.86802"
      ]
     },
     "execution_count": 302,
     "metadata": {},
     "output_type": "execute_result"
    }
   ],
   "source": [
    "scores_df.loc[int(study_number),'Test RMSE'] = 23.86802\n",
    "scores_df"
   ]
  },
  {
   "cell_type": "markdown",
   "id": "3c3ee933",
   "metadata": {},
   "source": [
    "## 08. Weighted Mean with modificators"
   ]
  },
  {
   "cell_type": "code",
   "execution_count": 308,
   "id": "674b46c4",
   "metadata": {},
   "outputs": [],
   "source": [
    "study_number = '08'\n",
    "\n",
    "scores_df.loc[int(study_number), 'Comment'] = 'WMean with modificators'\n",
    "\n",
    "\n",
    "train['emission'].to_csv('new_datasets/train_emission_Stacking.csv')\n",
    "train_predictions.to_csv('new_datasets/train_predictions_Stacking.csv')"
   ]
  },
  {
   "cell_type": "code",
   "execution_count": 314,
   "id": "7e8f1761",
   "metadata": {},
   "outputs": [
    {
     "name": "stdout",
     "output_type": "stream",
     "text": [
      "Best hyperparameters: {'mod1': 1.8800000000000001, 'mod2': 4.739999999999999, 'mod4': 0.76}\n"
     ]
    }
   ],
   "source": [
    "with open('studies/Stacking_' + study_number + '_params.pkl', 'rb') as f:\n",
    "    best_params_08 = pickle.load(f)\n",
    "\n",
    "print(\"Best hyperparameters:\", best_params_08)"
   ]
  },
  {
   "cell_type": "code",
   "execution_count": 317,
   "id": "fb13a823",
   "metadata": {},
   "outputs": [],
   "source": [
    "# Create the modificators dictionary\n",
    "modificators_dict = {'pred_1': best_params_08['mod1'], 'emission_pred_2_04': best_params_08['mod2'],\n",
    "                         'Max_x_groups': 0, 'pred_Stacking_03': best_params_08['mod4']}\n",
    "\n",
    "# Calculate weights\n",
    "for pred in train_predictions.columns:\n",
    "    prediction_scores['Weight'] = prediction_scores[\"Score\"] / min_score * modificators_dict[pred]\n",
    "\n",
    "# Calculate differences of predictions compared to the best prediction\n",
    "train_predictions_differences = train_predictions.subtract(train_predictions[min_score_index], axis=0)\n",
    "cv_predictions_differences = cv_predictions.subtract(cv_predictions[min_score_index], axis=0)\n",
    "test_predictions_differences = test_predictions.subtract(test_predictions[min_score_index], axis=0)\n",
    "\n",
    "# Weight differences\n",
    "train_predictions_differences_weighted = pd.DataFrame(columns=train_predictions.columns)\n",
    "for pred in train_predictions.columns:\n",
    "    train_predictions_differences_weighted[pred] = train_predictions_differences[pred] / \\\n",
    "                                                prediction_scores.loc[pred, 'Weight']\n",
    "cv_predictions_differences_weighted = pd.DataFrame(columns=train_predictions.columns)\n",
    "for pred in train_predictions.columns:\n",
    "    cv_predictions_differences_weighted[pred] = cv_predictions_differences[pred] / \\\n",
    "                                                prediction_scores.loc[pred, 'Weight']\n",
    "test_predictions_differences_weighted = pd.DataFrame(columns=train_predictions.columns)\n",
    "for pred in train_predictions.columns:\n",
    "    test_predictions_differences_weighted[pred] = test_predictions_differences[pred] / \\\n",
    "                                                prediction_scores.loc[pred, 'Weight']\n",
    "\n",
    "## Add weighted differences\n",
    "train_predictions_weighted = pd.DataFrame(columns=train_predictions.columns)\n",
    "for pred in train_predictions.columns:\n",
    "    train_predictions_weighted[pred] = train_predictions[min_score_index] +\\\n",
    "                    train_predictions_differences_weighted[pred]\n",
    "cv_predictions_weighted = pd.DataFrame(columns=train_predictions.columns)\n",
    "for pred in train_predictions.columns:\n",
    "    cv_predictions_weighted[pred] = cv_predictions[min_score_index] +\\\n",
    "                    cv_predictions_differences_weighted[pred]\n",
    "test_predictions_weighted = pd.DataFrame(columns=train_predictions.columns)\n",
    "for pred in train_predictions.columns:\n",
    "    test_predictions_weighted[pred] = test_predictions[min_score_index] +\\\n",
    "                    test_predictions_differences_weighted[pred]\n",
    "\n",
    "## Calculate Cross-val RMSE\n",
    "scores_df.loc[int(study_number), 'Train RMSE'] = mean_squared_error(train['emission'],\n",
    "                                train_predictions_weighted.mean(axis=1), squared=False)\n",
    "scores_df.loc[int(study_number), 'Cross-val RMSE'] = mean_squared_error(cv['emission'],\n",
    "                                cv_predictions_weighted.mean(axis=1), squared=False)\n",
    "\n",
    "\n",
    "# Prepare a submission file\n",
    "submission = pd.DataFrame({'ID_LAT_LON_YEAR_WEEK': test.index, \\\n",
    "                           'emission': test_predictions_weighted.mean(axis=1)})\n",
    "\n",
    "submission.to_csv('submissions/submission_Stacking_' + study_number + '.csv', index=False)"
   ]
  },
  {
   "cell_type": "code",
   "execution_count": 318,
   "id": "a6802776",
   "metadata": {},
   "outputs": [
    {
     "data": {
      "text/html": [
       "<div>\n",
       "<style scoped>\n",
       "    .dataframe tbody tr th:only-of-type {\n",
       "        vertical-align: middle;\n",
       "    }\n",
       "\n",
       "    .dataframe tbody tr th {\n",
       "        vertical-align: top;\n",
       "    }\n",
       "\n",
       "    .dataframe thead th {\n",
       "        text-align: right;\n",
       "    }\n",
       "</style>\n",
       "<table border=\"1\" class=\"dataframe\">\n",
       "  <thead>\n",
       "    <tr style=\"text-align: right;\">\n",
       "      <th></th>\n",
       "      <th>Comment</th>\n",
       "      <th>Train RMSE</th>\n",
       "      <th>Cross-val RMSE</th>\n",
       "      <th>Test RMSE</th>\n",
       "    </tr>\n",
       "  </thead>\n",
       "  <tbody>\n",
       "    <tr>\n",
       "      <th>0</th>\n",
       "      <td>LightGBM</td>\n",
       "      <td>7.515948</td>\n",
       "      <td>13.972098</td>\n",
       "      <td>NaN</td>\n",
       "    </tr>\n",
       "    <tr>\n",
       "      <th>1</th>\n",
       "      <td>XGBoost</td>\n",
       "      <td>3.586802</td>\n",
       "      <td>12.204953</td>\n",
       "      <td>34.98748</td>\n",
       "    </tr>\n",
       "    <tr>\n",
       "      <th>2</th>\n",
       "      <td>+ tuned</td>\n",
       "      <td>6.784888</td>\n",
       "      <td>11.529942</td>\n",
       "      <td>NaN</td>\n",
       "    </tr>\n",
       "    <tr>\n",
       "      <th>3</th>\n",
       "      <td>XGBoost, no Part 2</td>\n",
       "      <td>6.091798</td>\n",
       "      <td>15.705979</td>\n",
       "      <td>30.09157</td>\n",
       "    </tr>\n",
       "    <tr>\n",
       "      <th>4</th>\n",
       "      <td>+ tuned</td>\n",
       "      <td>8.258166</td>\n",
       "      <td>14.100878</td>\n",
       "      <td>33.34190</td>\n",
       "    </tr>\n",
       "    <tr>\n",
       "      <th>5</th>\n",
       "      <td>Median</td>\n",
       "      <td>5.724707</td>\n",
       "      <td>14.270069</td>\n",
       "      <td>NaN</td>\n",
       "    </tr>\n",
       "    <tr>\n",
       "      <th>6</th>\n",
       "      <td>Mean</td>\n",
       "      <td>7.285663</td>\n",
       "      <td>13.753212</td>\n",
       "      <td>NaN</td>\n",
       "    </tr>\n",
       "    <tr>\n",
       "      <th>7</th>\n",
       "      <td>Weighted Mean</td>\n",
       "      <td>7.932648</td>\n",
       "      <td>14.853491</td>\n",
       "      <td>23.86802</td>\n",
       "    </tr>\n",
       "    <tr>\n",
       "      <th>8</th>\n",
       "      <td>WMean with modificators</td>\n",
       "      <td>7.647470</td>\n",
       "      <td>13.793906</td>\n",
       "      <td>NaN</td>\n",
       "    </tr>\n",
       "  </tbody>\n",
       "</table>\n",
       "</div>"
      ],
      "text/plain": [
       "                   Comment  Train RMSE  Cross-val RMSE  Test RMSE\n",
       "0                 LightGBM    7.515948       13.972098        NaN\n",
       "1                  XGBoost    3.586802       12.204953   34.98748\n",
       "2                  + tuned    6.784888       11.529942        NaN\n",
       "3       XGBoost, no Part 2    6.091798       15.705979   30.09157\n",
       "4                  + tuned    8.258166       14.100878   33.34190\n",
       "5                   Median    5.724707       14.270069        NaN\n",
       "6                     Mean    7.285663       13.753212        NaN\n",
       "7            Weighted Mean    7.932648       14.853491   23.86802\n",
       "8  WMean with modificators    7.647470       13.793906        NaN"
      ]
     },
     "execution_count": 318,
     "metadata": {},
     "output_type": "execute_result"
    }
   ],
   "source": [
    "scores_df.loc[int(study_number),'Test RMSE'] = np.nan\n",
    "scores_df"
   ]
  },
  {
   "cell_type": "code",
   "execution_count": null,
   "id": "7bf431cc",
   "metadata": {},
   "outputs": [],
   "source": []
  }
 ],
 "metadata": {
  "kernelspec": {
   "display_name": "Python 3 (ipykernel)",
   "language": "python",
   "name": "python3"
  },
  "language_info": {
   "codemirror_mode": {
    "name": "ipython",
    "version": 3
   },
   "file_extension": ".py",
   "mimetype": "text/x-python",
   "name": "python",
   "nbconvert_exporter": "python",
   "pygments_lexer": "ipython3",
   "version": "3.10.9"
  }
 },
 "nbformat": 4,
 "nbformat_minor": 5
}
