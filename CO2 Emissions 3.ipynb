{
 "cells": [
  {
   "cell_type": "markdown",
   "id": "f3623052",
   "metadata": {},
   "source": [
    "In Part 3 we'll evaluate performance of our models using Score calculation described in part 1, using TimeSeriesSplit cross-validation. However, we'll use a new function, ['functions/get_score_3.py'](functions/get_score_3.py). \n",
    "\n",
    "This function will predict residuals ('emission_04') and then add to predictions Trend, Seasonality and Cycles_forecast, to predict 'emission'. Then it will calculate the Score, in the same wasy as in part 1.\n",
    "\n",
    "Let's load the datasets:"
   ]
  },
  {
   "cell_type": "code",
   "execution_count": 118,
   "id": "730f3297",
   "metadata": {},
   "outputs": [
    {
     "name": "stdout",
     "output_type": "stream",
     "text": [
      "CPU times: total: 2.22 s\n",
      "Wall time: 2.38 s\n"
     ]
    }
   ],
   "source": [
    "%%time\n",
    "\n",
    "import pandas as pd\n",
    "import numpy as np\n",
    "\n",
    "\n",
    "global_variables = pd.read_csv('global_variables.csv', index_col=0)\n",
    "SEED = global_variables.loc[0, 'SEED']\n",
    "N_SPLITS = global_variables.loc[0, 'N_SPLITS']\n",
    "\n",
    "train_unprocessed = pd.read_csv('datasets/train.csv', index_col='ID_LAT_LON_YEAR_WEEK')\n",
    "test_unprocessed = pd.read_csv('datasets/test.csv', index_col='ID_LAT_LON_YEAR_WEEK')\n",
    "train_from_part_1 = pd.read_csv('new_datasets/train_from_part_1.csv', index_col='ID_LAT_LON_YEAR_WEEK')\n",
    "test_from_part_1 = pd.read_csv('new_datasets/test_from_part_1.csv', index_col='ID_LAT_LON_YEAR_WEEK')\n",
    "train_from_part_2 = pd.read_csv('new_datasets/train_from_part_2.csv', index_col='ID_LAT_LON_YEAR_WEEK')\n",
    "cv_from_part_2 = pd.read_csv('new_datasets/cv_from_part_2.csv', index_col='ID_LAT_LON_YEAR_WEEK')\n",
    "test_from_part_2 = pd.read_csv('new_datasets/test_from_part_2.csv', index_col='ID_LAT_LON_YEAR_WEEK')\n",
    "\n",
    "top_three_values = train_from_part_1.loc[:, 'Location_enc'].drop_duplicates().sort_values(ascending = False).head(3)\n",
    "top_three_locations = train_from_part_1.loc[train_from_part_1['Location_enc'].isin(top_three_values), 'Location'].drop_duplicates()\n"
   ]
  },
  {
   "cell_type": "markdown",
   "id": "39276e11",
   "metadata": {},
   "source": [
    "We'll create a DataFrame that won't be used in models training, but just for calculating the final prediction:"
   ]
  },
  {
   "cell_type": "code",
   "execution_count": 119,
   "id": "71f4baf1",
   "metadata": {},
   "outputs": [],
   "source": [
    "post_training_df = pd.concat([train_from_part_2, cv_from_part_2, test_from_part_2])[['Trend', 'Seasonality',\n",
    "                                                                                     'Cycles_forecast', 'emission']]"
   ]
  },
  {
   "cell_type": "markdown",
   "id": "7c09e65f",
   "metadata": {},
   "source": [
    "Now, let's create 'train' and 'test' sets, that will contain all the variables we may use for our predictions, making sure we won't include variables that caclulate 'emission' from residuals, to avoid data leakage:"
   ]
  },
  {
   "cell_type": "code",
   "execution_count": 120,
   "id": "9fccc2bb",
   "metadata": {},
   "outputs": [],
   "source": [
    "train = pd.concat([train_unprocessed.drop('emission', axis=1), \n",
    "                   pd.concat([train_from_part_2, cv_from_part_2])[['Location', 'WeekCount',\n",
    "                                                                            'date', 'emission_04']]], axis=1)\n",
    "train['date'] = pd.to_datetime(train['date'])\n",
    "test = pd.concat([test_unprocessed, test_from_part_2[['Location', 'WeekCount', 'date']]], axis=1)\n",
    "train['date'] = pd.to_datetime(train['date'])\n",
    "test['date'] = pd.to_datetime(test['date'])"
   ]
  },
  {
   "cell_type": "markdown",
   "id": "c5a42ef4",
   "metadata": {},
   "source": [
    "## 00. Baseline.\n",
    "\n",
    "As a baseline, we'll fit LightGBM estimator to one feature, which will be just the column of 0's. We still should get quite a good Score (I remind you that lower is merrier), because predicted residuals will be transformed into 'emission' using features we calculated in Part 2:"
   ]
  },
  {
   "cell_type": "code",
   "execution_count": 121,
   "id": "2684ec22",
   "metadata": {},
   "outputs": [
    {
     "name": "stdout",
     "output_type": "stream",
     "text": [
      "CPU times: total: 2.08 s\n",
      "Wall time: 242 ms\n"
     ]
    }
   ],
   "source": [
    "%%time\n",
    "\n",
    "study_number = '00'\n",
    "\n",
    "scores_df = pd.DataFrame({'Comment': [], 'Train Score': [], 'Cross-val Score': [], 'Test RMSE': []})\n",
    "\n",
    "train_selected = pd.DataFrame(index=train_unprocessed.index, columns=['dummy', 'emission_04'])\n",
    "train_selected['dummy'] = 0\n",
    "train_selected['emission_04'] = pd.concat([train_from_part_2, cv_from_part_2])['emission_04']\n",
    "test_selected = pd.DataFrame(index=test_unprocessed.index, columns=['dummy'])\n",
    "test_selected['dummy'] = 0\n",
    "\n",
    "\n",
    "# Instantiate the estimator\n",
    "# UNCOMMENT TO INSTALL LightGBM\n",
    "#!pip install lightgbm\n",
    "import lightgbm as lgb\n",
    "model = lgb.LGBMRegressor(random_state=SEED, n_jobs=-1, n_estimators=10)\n",
    "\n",
    "# Calculate scores\n",
    "from functions.get_score_3 import get_score_3\n",
    "\n",
    "train_score, cross_score, cross_scores_std, submission = get_score_3(global_variables, train_selected, test_selected, \n",
    "                                                                     post_training_df, model, scores_df,\n",
    "                                                                  comment=\"Part 3 Baseline\")\n",
    "\n",
    "submission.to_csv('submissions/submission_3_' + study_number + '.csv', index=False)"
   ]
  },
  {
   "cell_type": "code",
   "execution_count": 122,
   "id": "3dd7d107",
   "metadata": {},
   "outputs": [
    {
     "data": {
      "text/html": [
       "<div>\n",
       "<style scoped>\n",
       "    .dataframe tbody tr th:only-of-type {\n",
       "        vertical-align: middle;\n",
       "    }\n",
       "\n",
       "    .dataframe tbody tr th {\n",
       "        vertical-align: top;\n",
       "    }\n",
       "\n",
       "    .dataframe thead th {\n",
       "        text-align: right;\n",
       "    }\n",
       "</style>\n",
       "<table border=\"1\" class=\"dataframe\">\n",
       "  <thead>\n",
       "    <tr style=\"text-align: right;\">\n",
       "      <th></th>\n",
       "      <th>Comment</th>\n",
       "      <th>Train Score</th>\n",
       "      <th>Cross-val Score</th>\n",
       "      <th>Test RMSE</th>\n",
       "    </tr>\n",
       "  </thead>\n",
       "  <tbody>\n",
       "    <tr>\n",
       "      <th>0</th>\n",
       "      <td>Part 3 Baseline</td>\n",
       "      <td>27.134698</td>\n",
       "      <td>34.734972</td>\n",
       "      <td>33.37721</td>\n",
       "    </tr>\n",
       "  </tbody>\n",
       "</table>\n",
       "</div>"
      ],
      "text/plain": [
       "           Comment  Train Score  Cross-val Score  Test RMSE\n",
       "0  Part 3 Baseline    27.134698        34.734972   33.37721"
      ]
     },
     "execution_count": 122,
     "metadata": {},
     "output_type": "execute_result"
    }
   ],
   "source": [
    "scores_df.loc[int(study_number), 'Test RMSE'] = 33.37721\n",
    "scores_df"
   ]
  },
  {
   "cell_type": "markdown",
   "id": "4537805d",
   "metadata": {},
   "source": [
    "## 01. Location Median Target Encoding\n",
    "\n",
    "Next, we'll recalculate our 'Location_enc' feature, same as Part 1, but with respect to residuals:"
   ]
  },
  {
   "cell_type": "code",
   "execution_count": 123,
   "id": "61c7ed2c",
   "metadata": {},
   "outputs": [
    {
     "name": "stdout",
     "output_type": "stream",
     "text": [
      "<class 'pandas.core.series.Series'>\n",
      "Index: 79023 entries, ID_-0.510_29.290_2019_00 to ID_-3.299_30.301_2021_52\n",
      "Series name: Location_enc\n",
      "Non-Null Count  Dtype  \n",
      "--------------  -----  \n",
      "79023 non-null  float64\n",
      "dtypes: float64(1)\n",
      "memory usage: 1.2+ MB\n",
      "None\n",
      "count    79023.000000\n",
      "mean         0.105686\n",
      "std          0.651883\n",
      "min         -1.012455\n",
      "25%         -0.010697\n",
      "50%          0.001573\n",
      "75%          0.075346\n",
      "max         10.587300\n",
      "Name: Location_enc, dtype: float64\n",
      "Unique Values and their count:\n",
      " 0.000000e+00    3975\n",
      "-9.374308e-12    2385\n",
      " 1.776357e-15     477\n",
      " 1.421085e-14     318\n",
      " 1.348522e-02     159\n",
      "                 ... \n",
      "-1.848602e-01     159\n",
      "-1.069743e-02     159\n",
      " 4.189234e-02     159\n",
      "-9.089556e-02     159\n",
      " 6.729004e-03     159\n",
      "Name: Location_enc, Length: 456, dtype: int64\n",
      "<class 'pandas.core.series.Series'>\n",
      "Index: 24353 entries, ID_-0.510_29.290_2022_00 to ID_-3.299_30.301_2022_48\n",
      "Series name: Location_enc\n",
      "Non-Null Count  Dtype  \n",
      "--------------  -----  \n",
      "24353 non-null  float64\n",
      "dtypes: float64(1)\n",
      "memory usage: 380.5+ KB\n",
      "None\n",
      "count    24353.000000\n",
      "mean         0.105686\n",
      "std          0.651892\n",
      "min         -1.012455\n",
      "25%         -0.010697\n",
      "50%          0.001573\n",
      "75%          0.075346\n",
      "max         10.587300\n",
      "Name: Location_enc, dtype: float64\n",
      "Unique Values and their count:\n",
      " 0.000000e+00    1225\n",
      "-9.374308e-12     735\n",
      " 1.776357e-15     147\n",
      " 1.421085e-14      98\n",
      " 1.348522e-02      49\n",
      "                 ... \n",
      "-1.848602e-01      49\n",
      "-1.069743e-02      49\n",
      " 4.189234e-02      49\n",
      "-9.089556e-02      49\n",
      " 6.729004e-03      49\n",
      "Name: Location_enc, Length: 456, dtype: int64\n"
     ]
    }
   ],
   "source": [
    "study_number = '01'\n",
    "\n",
    "location_median = train.groupby('Location')['emission_04'].median()\n",
    "\n",
    "train['Location_enc'] = train['Location'].map(location_median)\n",
    "test['Location_enc'] = test['Location'].map(location_median)\n",
    "\n",
    "feature_name = 'Location_enc'\n",
    "for data in [train, test]:\n",
    "    print(data[feature_name].info())\n",
    "    print(data[feature_name].describe())\n",
    "    print('Unique Values and their count:')\n",
    "    print(data[feature_name].value_counts())"
   ]
  },
  {
   "cell_type": "markdown",
   "id": "b457e707",
   "metadata": {},
   "source": [
    "Let's test:"
   ]
  },
  {
   "cell_type": "code",
   "execution_count": 124,
   "id": "f6cdaa31",
   "metadata": {},
   "outputs": [
    {
     "name": "stdout",
     "output_type": "stream",
     "text": [
      "CPU times: total: 2.56 s\n",
      "Wall time: 296 ms\n"
     ]
    }
   ],
   "source": [
    "%%time\n",
    "\n",
    "selected_columns = ['Location_enc']\n",
    "\n",
    "train_selected = train[selected_columns]\n",
    "train_selected = pd.concat([train_selected, train['emission_04']], axis=1)\n",
    "test_selected =  test[selected_columns]\n",
    "\n",
    "#Calculate scores\n",
    "train_score, cross_score, cross_scores_std, submission = get_score_3(global_variables, train_selected, test_selected, \n",
    "                                                                     post_training_df, model, scores_df,\n",
    "                                                                  comment=\"Location_enc\")\n",
    "\n",
    "submission.to_csv('submissions/submission_3_' + study_number + '.csv', index=False)"
   ]
  },
  {
   "cell_type": "code",
   "execution_count": 125,
   "id": "781495f0",
   "metadata": {},
   "outputs": [
    {
     "data": {
      "text/html": [
       "<div>\n",
       "<style scoped>\n",
       "    .dataframe tbody tr th:only-of-type {\n",
       "        vertical-align: middle;\n",
       "    }\n",
       "\n",
       "    .dataframe tbody tr th {\n",
       "        vertical-align: top;\n",
       "    }\n",
       "\n",
       "    .dataframe thead th {\n",
       "        text-align: right;\n",
       "    }\n",
       "</style>\n",
       "<table border=\"1\" class=\"dataframe\">\n",
       "  <thead>\n",
       "    <tr style=\"text-align: right;\">\n",
       "      <th></th>\n",
       "      <th>Comment</th>\n",
       "      <th>Train Score</th>\n",
       "      <th>Cross-val Score</th>\n",
       "      <th>Test RMSE</th>\n",
       "    </tr>\n",
       "  </thead>\n",
       "  <tbody>\n",
       "    <tr>\n",
       "      <th>0</th>\n",
       "      <td>Part 3 Baseline</td>\n",
       "      <td>27.134698</td>\n",
       "      <td>34.734972</td>\n",
       "      <td>33.37721</td>\n",
       "    </tr>\n",
       "    <tr>\n",
       "      <th>1</th>\n",
       "      <td>Location_enc</td>\n",
       "      <td>27.134793</td>\n",
       "      <td>34.734777</td>\n",
       "      <td>NaN</td>\n",
       "    </tr>\n",
       "  </tbody>\n",
       "</table>\n",
       "</div>"
      ],
      "text/plain": [
       "           Comment  Train Score  Cross-val Score  Test RMSE\n",
       "0  Part 3 Baseline    27.134698        34.734972   33.37721\n",
       "1     Location_enc    27.134793        34.734777        NaN"
      ]
     },
     "execution_count": 125,
     "metadata": {},
     "output_type": "execute_result"
    }
   ],
   "source": [
    "scores_df.loc[int(study_number), 'Test RMSE'] = np.nan\n",
    "scores_df"
   ]
  },
  {
   "cell_type": "markdown",
   "id": "cdb5e21e",
   "metadata": {},
   "source": [
    "We see a small improvement.\n",
    "\n",
    "## Week of the year Median Target Encoding\n",
    "\n",
    "What if we do encoding on the 'week_no' feature? Potentially, it may catch some weekly common sesoanalities, if they exist."
   ]
  },
  {
   "cell_type": "code",
   "execution_count": 126,
   "id": "380338b0",
   "metadata": {},
   "outputs": [
    {
     "name": "stdout",
     "output_type": "stream",
     "text": [
      "<class 'pandas.core.series.Series'>\n",
      "Index: 79023 entries, ID_-0.510_29.290_2019_00 to ID_-3.299_30.301_2021_52\n",
      "Series name: week_no_enc\n",
      "Non-Null Count  Dtype  \n",
      "--------------  -----  \n",
      "79023 non-null  float64\n",
      "dtypes: float64(1)\n",
      "memory usage: 3.2+ MB\n",
      "None\n",
      "count    7.902300e+04\n",
      "mean    -1.471383e-02\n",
      "std      7.813254e-01\n",
      "min     -2.496314e+00\n",
      "25%     -3.294547e-01\n",
      "50%     -9.374308e-12\n",
      "75%      1.292590e-01\n",
      "max      3.210602e+00\n",
      "Name: week_no_enc, dtype: float64\n",
      "Unique Values and their count:\n",
      "-4.524510e-01    1491\n",
      " 2.127272e-02    1491\n",
      "-1.466749e-01    1491\n",
      "-6.457632e-01    1491\n",
      " 7.229542e-01    1491\n",
      "-4.026818e-01    1491\n",
      "-8.937323e-01    1491\n",
      "-4.635208e-01    1491\n",
      "-6.366719e-03    1491\n",
      "-5.562158e-01    1491\n",
      "-2.100762e-01    1491\n",
      "-1.647943e-03    1491\n",
      "-5.405029e-01    1491\n",
      "-6.907519e-04    1491\n",
      " 5.364833e-02    1491\n",
      " 6.275108e-01    1491\n",
      " 1.392632e+00    1491\n",
      "-2.496314e+00    1491\n",
      " 4.048363e-02    1491\n",
      " 1.514388e-01    1491\n",
      " 3.510764e-01    1491\n",
      "-7.327125e-02    1491\n",
      "-9.374308e-12    1491\n",
      " 3.601368e-01    1491\n",
      "-1.221813e+00    1491\n",
      "-2.867728e-03    1491\n",
      " 1.272021e-01    1491\n",
      " 3.210602e+00    1491\n",
      " 8.498939e-02    1491\n",
      " 1.397455e+00    1491\n",
      " 1.115685e-01    1491\n",
      " 1.871841e-01    1491\n",
      " 1.523806e-02    1491\n",
      "-1.978396e-01    1491\n",
      "-4.770300e-01    1491\n",
      "-7.367628e-02    1491\n",
      "-7.944754e-02    1491\n",
      "-7.970093e-02    1491\n",
      "-9.616633e-01    1491\n",
      "-9.566540e-01    1491\n",
      "-3.294547e-01    1491\n",
      " 9.078332e-01    1491\n",
      " 5.389827e-02    1491\n",
      " 1.250373e-01    1491\n",
      "-1.522117e+00    1491\n",
      " 2.466030e-01    1491\n",
      " 1.292590e-01    1491\n",
      " 1.710085e-02    1491\n",
      "-9.374309e-12    1491\n",
      " 4.958926e-02    1491\n",
      " 8.264023e-01    1491\n",
      " 7.365722e-01    1491\n",
      " 6.465206e-02    1491\n",
      "Name: week_no_enc, dtype: int64\n",
      "<class 'pandas.core.series.Series'>\n",
      "Index: 24353 entries, ID_-0.510_29.290_2022_00 to ID_-3.299_30.301_2022_48\n",
      "Series name: week_no_enc\n",
      "Non-Null Count  Dtype  \n",
      "--------------  -----  \n",
      "24353 non-null  float64\n",
      "dtypes: float64(1)\n",
      "memory usage: 380.5+ KB\n",
      "None\n",
      "count    2.435300e+04\n",
      "mean     3.508390e-04\n",
      "std      7.920587e-01\n",
      "min     -2.496314e+00\n",
      "25%     -3.294547e-01\n",
      "50%     -9.374309e-12\n",
      "75%      1.292590e-01\n",
      "max      3.210602e+00\n",
      "Name: week_no_enc, dtype: float64\n",
      "Unique Values and their count:\n",
      "-4.524510e-01    497\n",
      " 8.498939e-02    497\n",
      " 2.127272e-02    497\n",
      "-2.867728e-03    497\n",
      "-1.466749e-01    497\n",
      "-6.457632e-01    497\n",
      " 7.229542e-01    497\n",
      "-4.026818e-01    497\n",
      "-8.937323e-01    497\n",
      "-4.635208e-01    497\n",
      "-6.366719e-03    497\n",
      "-5.562158e-01    497\n",
      "-2.100762e-01    497\n",
      "-1.647943e-03    497\n",
      "-5.405029e-01    497\n",
      "-6.907519e-04    497\n",
      " 5.364833e-02    497\n",
      " 6.275108e-01    497\n",
      " 1.392632e+00    497\n",
      "-2.496314e+00    497\n",
      " 4.048363e-02    497\n",
      " 1.514388e-01    497\n",
      " 3.510764e-01    497\n",
      " 1.272021e-01    497\n",
      " 7.365722e-01    497\n",
      " 3.210602e+00    497\n",
      " 8.264023e-01    497\n",
      " 1.397455e+00    497\n",
      " 1.115685e-01    497\n",
      " 1.871841e-01    497\n",
      " 1.523806e-02    497\n",
      "-1.978396e-01    497\n",
      "-4.770300e-01    497\n",
      "-7.367628e-02    497\n",
      "-7.944754e-02    497\n",
      "-7.970093e-02    497\n",
      "-9.616633e-01    497\n",
      "-9.566540e-01    497\n",
      "-3.294547e-01    497\n",
      " 9.078332e-01    497\n",
      " 5.389827e-02    497\n",
      " 1.250373e-01    497\n",
      "-1.522117e+00    497\n",
      " 2.466030e-01    497\n",
      " 1.292590e-01    497\n",
      " 1.710085e-02    497\n",
      "-9.374309e-12    497\n",
      " 4.958926e-02    497\n",
      "-7.327125e-02    497\n",
      "Name: week_no_enc, dtype: int64\n"
     ]
    }
   ],
   "source": [
    "study_number = '02'\n",
    "\n",
    "week_no_median = train.groupby('week_no')['emission_04'].median()\n",
    "\n",
    "train['week_no_enc'] = train['week_no'].map(week_no_median)\n",
    "test['week_no_enc'] = test['week_no'].map(week_no_median)\n",
    "\n",
    "feature_name = 'week_no_enc'\n",
    "for data in [train, test]:\n",
    "    print(data[feature_name].info())\n",
    "    print(data[feature_name].describe())\n",
    "    print('Unique Values and their count:')\n",
    "    print(data[feature_name].value_counts())\n"
   ]
  },
  {
   "cell_type": "markdown",
   "id": "2561da4c",
   "metadata": {},
   "source": [
    "Let's test:"
   ]
  },
  {
   "cell_type": "code",
   "execution_count": 127,
   "id": "c27aa75b",
   "metadata": {},
   "outputs": [
    {
     "name": "stdout",
     "output_type": "stream",
     "text": [
      "CPU times: total: 2.78 s\n",
      "Wall time: 291 ms\n"
     ]
    }
   ],
   "source": [
    "%%time\n",
    "\n",
    "selected_columns.append('week_no_enc')\n",
    "\n",
    "train_selected = train[selected_columns]\n",
    "train_selected = pd.concat([train_selected, train['emission_04']], axis=1)\n",
    "test_selected =  test[selected_columns]\n",
    "\n",
    "\n",
    "#Calculate scores\n",
    "train_score, cross_score, cross_scores_std, submission = get_score_3(global_variables, train_selected, test_selected, \n",
    "                                                                     post_training_df, model, scores_df,\n",
    "                                                                  comment=\"+ week_no_enc\")\n",
    "\n",
    "submission.to_csv('submissions/submission_3_' + study_number + '.csv', index=False)"
   ]
  },
  {
   "cell_type": "code",
   "execution_count": 128,
   "id": "cf8362e7",
   "metadata": {},
   "outputs": [
    {
     "data": {
      "text/html": [
       "<div>\n",
       "<style scoped>\n",
       "    .dataframe tbody tr th:only-of-type {\n",
       "        vertical-align: middle;\n",
       "    }\n",
       "\n",
       "    .dataframe tbody tr th {\n",
       "        vertical-align: top;\n",
       "    }\n",
       "\n",
       "    .dataframe thead th {\n",
       "        text-align: right;\n",
       "    }\n",
       "</style>\n",
       "<table border=\"1\" class=\"dataframe\">\n",
       "  <thead>\n",
       "    <tr style=\"text-align: right;\">\n",
       "      <th></th>\n",
       "      <th>Comment</th>\n",
       "      <th>Train Score</th>\n",
       "      <th>Cross-val Score</th>\n",
       "      <th>Test RMSE</th>\n",
       "    </tr>\n",
       "  </thead>\n",
       "  <tbody>\n",
       "    <tr>\n",
       "      <th>0</th>\n",
       "      <td>Part 3 Baseline</td>\n",
       "      <td>27.134698</td>\n",
       "      <td>34.734972</td>\n",
       "      <td>33.37721</td>\n",
       "    </tr>\n",
       "    <tr>\n",
       "      <th>1</th>\n",
       "      <td>Location_enc</td>\n",
       "      <td>27.134793</td>\n",
       "      <td>34.734777</td>\n",
       "      <td>NaN</td>\n",
       "    </tr>\n",
       "    <tr>\n",
       "      <th>2</th>\n",
       "      <td>+ week_no_enc</td>\n",
       "      <td>28.190695</td>\n",
       "      <td>35.117531</td>\n",
       "      <td>NaN</td>\n",
       "    </tr>\n",
       "  </tbody>\n",
       "</table>\n",
       "</div>"
      ],
      "text/plain": [
       "           Comment  Train Score  Cross-val Score  Test RMSE\n",
       "0  Part 3 Baseline    27.134698        34.734972   33.37721\n",
       "1     Location_enc    27.134793        34.734777        NaN\n",
       "2    + week_no_enc    28.190695        35.117531        NaN"
      ]
     },
     "execution_count": 128,
     "metadata": {},
     "output_type": "execute_result"
    }
   ],
   "source": [
    "scores_df.loc[int(study_number), 'Test RMSE'] = np.nan\n",
    "scores_df"
   ]
  },
  {
   "cell_type": "markdown",
   "id": "3d95a751",
   "metadata": {},
   "source": [
    "No, that didn't work, maybe, there is no common seasonality left across all Locations."
   ]
  },
  {
   "cell_type": "code",
   "execution_count": 129,
   "id": "6b2830d0",
   "metadata": {},
   "outputs": [],
   "source": [
    "selected_columns.remove('week_no_enc')\n",
    "\n",
    "train_selected = train[selected_columns]\n",
    "train_selected = pd.concat([train_selected, train['emission_04']], axis=1)\n",
    "test_selected =  test[selected_columns]"
   ]
  },
  {
   "cell_type": "markdown",
   "id": "dfbeecf7",
   "metadata": {},
   "source": [
    "## 03. Most important features\n",
    "\n",
    "Let's estimate what features are most important for calculating our residues:"
   ]
  },
  {
   "cell_type": "code",
   "execution_count": 130,
   "id": "19caf033",
   "metadata": {},
   "outputs": [
    {
     "name": "stdout",
     "output_type": "stream",
     "text": [
      "Sorted feature importances (first 40):\n",
      "CPU times: total: 2.33 s\n",
      "Wall time: 324 ms\n"
     ]
    },
    {
     "data": {
      "text/plain": [
       "Location_enc                                               78\n",
       "latitude                                                   41\n",
       "longitude                                                  38\n",
       "week_no_enc                                                38\n",
       "Ozone_solar_zenith_angle                                   12\n",
       "CarbonMonoxide_CO_column_number_density                    11\n",
       "UvAerosolIndex_solar_zenith_angle                          10\n",
       "WeekCount                                                   8\n",
       "UvAerosolIndex_sensor_altitude                              7\n",
       "Ozone_O3_column_number_density                              6\n",
       "Cloud_surface_albedo                                        4\n",
       "Formaldehyde_sensor_azimuth_angle                           4\n",
       "UvAerosolIndex_solar_azimuth_angle                          4\n",
       "NitrogenDioxide_stratospheric_NO2_column_number_density     3\n",
       "Cloud_solar_zenith_angle                                    3\n",
       "Cloud_cloud_optical_depth                                   3\n",
       "Ozone_sensor_azimuth_angle                                  3\n",
       "UvAerosolIndex_sensor_zenith_angle                          2\n",
       "week_no                                                     2\n",
       "Ozone_solar_azimuth_angle                                   2\n",
       "Ozone_O3_column_number_density_amf                          2\n",
       "Ozone_O3_effective_temperature                              2\n",
       "Ozone_O3_slant_column_number_density                        2\n",
       "SulphurDioxide_SO2_column_number_density_15km               2\n",
       "CarbonMonoxide_solar_zenith_angle                           2\n",
       "Formaldehyde_sensor_zenith_angle                            1\n",
       "year                                                        1\n",
       "Cloud_solar_azimuth_angle                                   1\n",
       "NitrogenDioxide_sensor_zenith_angle                         1\n",
       "NitrogenDioxide_solar_azimuth_angle                         1\n",
       "UvAerosolIndex_sensor_azimuth_angle                         1\n",
       "CarbonMonoxide_H2O_column_number_density                    1\n",
       "Ozone_cloud_fraction                                        1\n",
       "Cloud_cloud_fraction                                        1\n",
       "CarbonMonoxide_sensor_zenith_angle                          1\n",
       "SulphurDioxide_SO2_column_number_density_amf                1\n",
       "Cloud_cloud_top_pressure                                    0\n",
       "Cloud_sensor_zenith_angle                                   0\n",
       "Cloud_sensor_azimuth_angle                                  0\n",
       "Ozone_sensor_zenith_angle                                   0\n",
       "dtype: int32"
      ]
     },
     "execution_count": 130,
     "metadata": {},
     "output_type": "execute_result"
    }
   ],
   "source": [
    "%%time\n",
    "\n",
    "study_number = '03'\n",
    "\n",
    "## Train the model on the whole training set\n",
    "model.fit(train.drop(['emission_04', 'Location', 'date'], axis=1), train['emission_04'])\n",
    "\n",
    "feature_importances = pd.Series(data=model.feature_importances_, \n",
    "                                index=train.drop(['emission_04', 'Location', 'date'], axis=1).columns)\n",
    "\n",
    "print('Sorted feature importances (first 40):')\n",
    "feature_importances.sort_values(ascending=False).head(40)"
   ]
  },
  {
   "cell_type": "markdown",
   "id": "405b194a",
   "metadata": {},
   "source": [
    "Few observations:\n",
    "\n",
    "-) The same model used way more features in calculating residues, than in calculating 'emission' (see Part 1).\n",
    "-) In combination with other features, 'week_no_enc' was useful for the model (although, it may still not pass the cross-validation testing)\n",
    "-) Even though we have 'Location_enc', latitudes and longitudes are still important\n",
    "\n",
    "Let's test a model based on the 3 most important features:"
   ]
  },
  {
   "cell_type": "code",
   "execution_count": 131,
   "id": "74553d5b",
   "metadata": {},
   "outputs": [
    {
     "name": "stdout",
     "output_type": "stream",
     "text": [
      "Selected columns: ['Location_enc', 'latitude', 'longitude']\n",
      "CPU times: total: 3.08 s\n",
      "Wall time: 298 ms\n"
     ]
    }
   ],
   "source": [
    "%%time\n",
    "\n",
    "selected_columns = list(feature_importances.sort_values(ascending=False).index[:3])\n",
    "\n",
    "print('Selected columns: {}'.format(selected_columns))\n",
    "train_selected = train[selected_columns]\n",
    "train_selected = pd.concat([train_selected, train['emission_04']], axis=1)\n",
    "test_selected =  test[selected_columns]\n",
    "\n",
    "\n",
    "#Calculate scores\n",
    "train_score, cross_score, cross_scores_std, submission = get_score_3(global_variables, train_selected, test_selected, \n",
    "                                                                     post_training_df, model, scores_df,\n",
    "                                                                  comment=\"1 + latit+longit\")\n",
    "\n",
    "submission.to_csv('submissions/submission_3_' + study_number + '.csv', index=False)"
   ]
  },
  {
   "cell_type": "code",
   "execution_count": 132,
   "id": "71f74f1c",
   "metadata": {},
   "outputs": [
    {
     "data": {
      "text/html": [
       "<div>\n",
       "<style scoped>\n",
       "    .dataframe tbody tr th:only-of-type {\n",
       "        vertical-align: middle;\n",
       "    }\n",
       "\n",
       "    .dataframe tbody tr th {\n",
       "        vertical-align: top;\n",
       "    }\n",
       "\n",
       "    .dataframe thead th {\n",
       "        text-align: right;\n",
       "    }\n",
       "</style>\n",
       "<table border=\"1\" class=\"dataframe\">\n",
       "  <thead>\n",
       "    <tr style=\"text-align: right;\">\n",
       "      <th></th>\n",
       "      <th>Comment</th>\n",
       "      <th>Train Score</th>\n",
       "      <th>Cross-val Score</th>\n",
       "      <th>Test RMSE</th>\n",
       "    </tr>\n",
       "  </thead>\n",
       "  <tbody>\n",
       "    <tr>\n",
       "      <th>0</th>\n",
       "      <td>Part 3 Baseline</td>\n",
       "      <td>27.134698</td>\n",
       "      <td>34.734972</td>\n",
       "      <td>33.37721</td>\n",
       "    </tr>\n",
       "    <tr>\n",
       "      <th>1</th>\n",
       "      <td>Location_enc</td>\n",
       "      <td>27.134793</td>\n",
       "      <td>34.734777</td>\n",
       "      <td>NaN</td>\n",
       "    </tr>\n",
       "    <tr>\n",
       "      <th>2</th>\n",
       "      <td>+ week_no_enc</td>\n",
       "      <td>28.190695</td>\n",
       "      <td>35.117531</td>\n",
       "      <td>NaN</td>\n",
       "    </tr>\n",
       "    <tr>\n",
       "      <th>3</th>\n",
       "      <td>1 + latit+longit</td>\n",
       "      <td>27.134847</td>\n",
       "      <td>34.734270</td>\n",
       "      <td>NaN</td>\n",
       "    </tr>\n",
       "  </tbody>\n",
       "</table>\n",
       "</div>"
      ],
      "text/plain": [
       "            Comment  Train Score  Cross-val Score  Test RMSE\n",
       "0   Part 3 Baseline    27.134698        34.734972   33.37721\n",
       "1      Location_enc    27.134793        34.734777        NaN\n",
       "2     + week_no_enc    28.190695        35.117531        NaN\n",
       "3  1 + latit+longit    27.134847        34.734270        NaN"
      ]
     },
     "execution_count": 132,
     "metadata": {},
     "output_type": "execute_result"
    }
   ],
   "source": [
    "scores_df.loc[int(study_number), 'Test RMSE'] = np.nan\n",
    "scores_df"
   ]
  },
  {
   "cell_type": "markdown",
   "id": "d19f3ce8",
   "metadata": {},
   "source": [
    "## 04. Geographical clustering\n",
    "\n",
    "The importance of latitude and longitude suggest benefits of creating location clusters: groups of locations that situated nearby. We'll also account for the 'emissions_04' to make clusters depending on similar emissions.\n",
    "\n",
    "First we'll create an elbow plot to detrmine an optimal number of clusters:"
   ]
  },
  {
   "cell_type": "code",
   "execution_count": 133,
   "id": "b54ec404",
   "metadata": {},
   "outputs": [
    {
     "data": {
      "image/png": "[encoded data removed]",
      "text/plain": [
       "<Figure size 640x480 with 1 Axes>"
      ]
     },
     "metadata": {},
     "output_type": "display_data"
    },
    {
     "name": "stdout",
     "output_type": "stream",
     "text": [
      "CPU times: total: 2.95 s\n",
      "Wall time: 3.14 s\n"
     ]
    }
   ],
   "source": [
    "%%time\n",
    "\n",
    "study_number = '04'\n",
    "\n",
    "from sklearn.preprocessing import StandardScaler\n",
    "from scipy.cluster.vq import kmeans, vq\n",
    "import matplotlib.pyplot as plt\n",
    "import seaborn as sns\n",
    "\n",
    "\n",
    "# Create cluster data\n",
    "cluster_data = train[['latitude', 'longitude', 'emission_04']]\n",
    "\n",
    "# Normalize data\n",
    "cluster_data = pd.DataFrame(StandardScaler().fit_transform(cluster_data), columns=['latitude', 'longitude', 'emission_04'],\n",
    "                           index=cluster_data.index)\n",
    "\n",
    "distortions = []\n",
    "num_clusters = range(1, 7)\n",
    "\n",
    "# Create a list of distortions from the kmeans function\n",
    "for i in num_clusters:\n",
    "    cluster_centers, distortion = kmeans(cluster_data, k_or_guess=i, seed=SEED)\n",
    "    distortions.append(distortion)\n",
    "\n",
    "# Create a DataFrame with two lists - num_clusters, distortions\n",
    "elbow_plot = pd.DataFrame({'num_clusters': num_clusters, 'distortions': distortions})\n",
    "\n",
    "# Creat a line plot of num_clusters and distortions\n",
    "sns.lineplot(x='num_clusters', y='distortions', data = elbow_plot)\n",
    "plt.xticks(num_clusters)\n",
    "plt.show()"
   ]
  },
  {
   "cell_type": "markdown",
   "id": "a351282b",
   "metadata": {},
   "source": [
    "It seems that the optimal number of clusters is 2, but 4 can be also an option. Let's start with 2 clusters and look how they are situaded geographically:"
   ]
  },
  {
   "cell_type": "code",
   "execution_count": 134,
   "id": "1cc8fa97",
   "metadata": {},
   "outputs": [
    {
     "data": {
      "image/png": "[encoded data removed]",
      "text/plain": [
       "<Figure size 640x480 with 1 Axes>"
      ]
     },
     "metadata": {},
     "output_type": "display_data"
    },
    {
     "name": "stdout",
     "output_type": "stream",
     "text": [
      "CPU times: total: 1.97 s\n",
      "Wall time: 2.17 s\n"
     ]
    }
   ],
   "source": [
    "%%time\n",
    "\n",
    "cluster_centers, distortion = kmeans(cluster_data, k_or_guess=2, seed=SEED)\n",
    "\n",
    "\n",
    "# Assign cluster labels\n",
    "cluster_data['cluster_labels'], _ = vq(cluster_data, cluster_centers)\n",
    "\n",
    "\n",
    "# Create a scatter plot\n",
    "sns.scatterplot(x='latitude', y='longitude', hue='cluster_labels', data=cluster_data)\n",
    "plt.show()"
   ]
  },
  {
   "cell_type": "markdown",
   "id": "ddcb67be",
   "metadata": {},
   "source": [
    "Note, that even though we used scaled 'emission_04' in our clustering, our clusters have nice geographical borders. Now, let's test:"
   ]
  },
  {
   "cell_type": "code",
   "execution_count": 135,
   "id": "3179f508",
   "metadata": {},
   "outputs": [
    {
     "name": "stdout",
     "output_type": "stream",
     "text": [
      "Selected columns: ['Location_enc', 'latitude', 'longitude', 'Location_cluster_2']\n",
      "CPU times: total: 2.88 s\n",
      "Wall time: 326 ms\n"
     ]
    }
   ],
   "source": [
    "%%time\n",
    "\n",
    "# Save the cluster labels into train and set\n",
    "clusters = pd.concat([train['Location'], cluster_data['cluster_labels']], axis=1)\n",
    "clusters = pd.pivot_table(clusters, values=['cluster_labels'], index=['Location'])\n",
    "clusters = pd.Series(clusters['cluster_labels'])\n",
    "\n",
    "train['Location_cluster_2'] = train['Location'].map(clusters)\n",
    "test['Location_cluster_2'] = test['Location'].map(clusters)\n",
    "\n",
    "selected_columns.append('Location_cluster_2')\n",
    "\n",
    "print('Selected columns: {}'.format(selected_columns))\n",
    "train_selected = train[selected_columns]\n",
    "train_selected = pd.concat([train_selected, train['emission_04']], axis=1)\n",
    "test_selected =  test[selected_columns]\n",
    "\n",
    "#Calculate scores\n",
    "train_score, cross_score, cross_scores_std, submission = get_score_3(global_variables, train_selected, test_selected, \n",
    "                                                                     post_training_df, model, scores_df,\n",
    "                                                                  comment=\"+ Location_cluster_2\")\n",
    "\n",
    "submission.to_csv('submissions/submission_3_' + study_number + '.csv', index=False)"
   ]
  },
  {
   "cell_type": "code",
   "execution_count": 136,
   "id": "55201235",
   "metadata": {},
   "outputs": [
    {
     "data": {
      "text/html": [
       "<div>\n",
       "<style scoped>\n",
       "    .dataframe tbody tr th:only-of-type {\n",
       "        vertical-align: middle;\n",
       "    }\n",
       "\n",
       "    .dataframe tbody tr th {\n",
       "        vertical-align: top;\n",
       "    }\n",
       "\n",
       "    .dataframe thead th {\n",
       "        text-align: right;\n",
       "    }\n",
       "</style>\n",
       "<table border=\"1\" class=\"dataframe\">\n",
       "  <thead>\n",
       "    <tr style=\"text-align: right;\">\n",
       "      <th></th>\n",
       "      <th>Comment</th>\n",
       "      <th>Train Score</th>\n",
       "      <th>Cross-val Score</th>\n",
       "      <th>Test RMSE</th>\n",
       "    </tr>\n",
       "  </thead>\n",
       "  <tbody>\n",
       "    <tr>\n",
       "      <th>0</th>\n",
       "      <td>Part 3 Baseline</td>\n",
       "      <td>27.134698</td>\n",
       "      <td>34.734972</td>\n",
       "      <td>33.37721</td>\n",
       "    </tr>\n",
       "    <tr>\n",
       "      <th>1</th>\n",
       "      <td>Location_enc</td>\n",
       "      <td>27.134793</td>\n",
       "      <td>34.734777</td>\n",
       "      <td>NaN</td>\n",
       "    </tr>\n",
       "    <tr>\n",
       "      <th>2</th>\n",
       "      <td>+ week_no_enc</td>\n",
       "      <td>28.190695</td>\n",
       "      <td>35.117531</td>\n",
       "      <td>NaN</td>\n",
       "    </tr>\n",
       "    <tr>\n",
       "      <th>3</th>\n",
       "      <td>1 + latit+longit</td>\n",
       "      <td>27.134847</td>\n",
       "      <td>34.734270</td>\n",
       "      <td>NaN</td>\n",
       "    </tr>\n",
       "    <tr>\n",
       "      <th>4</th>\n",
       "      <td>+ Location_cluster_2</td>\n",
       "      <td>27.134847</td>\n",
       "      <td>34.734321</td>\n",
       "      <td>NaN</td>\n",
       "    </tr>\n",
       "  </tbody>\n",
       "</table>\n",
       "</div>"
      ],
      "text/plain": [
       "                Comment  Train Score  Cross-val Score  Test RMSE\n",
       "0       Part 3 Baseline    27.134698        34.734972   33.37721\n",
       "1          Location_enc    27.134793        34.734777        NaN\n",
       "2         + week_no_enc    28.190695        35.117531        NaN\n",
       "3      1 + latit+longit    27.134847        34.734270        NaN\n",
       "4  + Location_cluster_2    27.134847        34.734321        NaN"
      ]
     },
     "execution_count": 136,
     "metadata": {},
     "output_type": "execute_result"
    }
   ],
   "source": [
    "scores_df.loc[int(study_number), 'Test RMSE'] = np.nan\n",
    "scores_df"
   ]
  },
  {
   "cell_type": "markdown",
   "id": "4e556b90",
   "metadata": {},
   "source": [
    "That didn't work.\n",
    "\n",
    "## 05. Geographical clustering (4 clusters)\n",
    "\n",
    "Let's try 4 clusters:"
   ]
  },
  {
   "cell_type": "code",
   "execution_count": 137,
   "id": "ed7fee53",
   "metadata": {},
   "outputs": [
    {
     "data": {
      "image/png": "[encoded data removed]",
      "text/plain": [
       "<Figure size 640x480 with 1 Axes>"
      ]
     },
     "metadata": {},
     "output_type": "display_data"
    },
    {
     "name": "stdout",
     "output_type": "stream",
     "text": [
      "CPU times: total: 4.56 s\n",
      "Wall time: 5.07 s\n"
     ]
    }
   ],
   "source": [
    "%%time\n",
    "\n",
    "study_number = '05'\n",
    "\n",
    "selected_columns.remove('Location_cluster_2')\n",
    "\n",
    "cluster_centers, distortion = kmeans(cluster_data, k_or_guess=4, seed=SEED)\n",
    "\n",
    "\n",
    "# Assign cluster labels\n",
    "cluster_data['cluster_labels'], _ = vq(cluster_data, cluster_centers)\n",
    "\n",
    "\n",
    "# Create a scatter plot\n",
    "sns.scatterplot(x='latitude', y='longitude', hue='cluster_labels', data=cluster_data)\n",
    "plt.show()"
   ]
  },
  {
   "cell_type": "code",
   "execution_count": 138,
   "id": "ce21d1e9",
   "metadata": {},
   "outputs": [
    {
     "name": "stdout",
     "output_type": "stream",
     "text": [
      "Selected columns: ['Location_enc', 'latitude', 'longitude', 'Location_cluster_4']\n",
      "CPU times: total: 3.12 s\n",
      "Wall time: 349 ms\n"
     ]
    }
   ],
   "source": [
    "%%time\n",
    "\n",
    "# Save the cluster labels into train and set\n",
    "clusters = pd.concat([train['Location'], cluster_data['cluster_labels']], axis=1)\n",
    "clusters = pd.pivot_table(clusters, values=['cluster_labels'], index=['Location'])\n",
    "clusters = pd.Series(clusters['cluster_labels'])\n",
    "\n",
    "train['Location_cluster_4'] = train['Location'].map(clusters)\n",
    "test['Location_cluster_4'] = test['Location'].map(clusters)\n",
    "\n",
    "selected_columns.append('Location_cluster_4')\n",
    "\n",
    "print('Selected columns: {}'.format(selected_columns))\n",
    "train_selected = train[selected_columns]\n",
    "train_selected = pd.concat([train_selected, train['emission_04']], axis=1)\n",
    "test_selected =  test[selected_columns]\n",
    "\n",
    "#Calculate scores\n",
    "train_score, cross_score, cross_scores_std, submission = get_score_3(global_variables, train_selected, test_selected, \n",
    "                                                                     post_training_df, model, scores_df,\n",
    "                                                                  comment=\"3 + Location_cluster_4\")\n",
    "\n",
    "submission.to_csv('submissions/submission_3_' + study_number + '.csv', index=False)"
   ]
  },
  {
   "cell_type": "code",
   "execution_count": 139,
   "id": "16ea1954",
   "metadata": {},
   "outputs": [
    {
     "data": {
      "text/html": [
       "<div>\n",
       "<style scoped>\n",
       "    .dataframe tbody tr th:only-of-type {\n",
       "        vertical-align: middle;\n",
       "    }\n",
       "\n",
       "    .dataframe tbody tr th {\n",
       "        vertical-align: top;\n",
       "    }\n",
       "\n",
       "    .dataframe thead th {\n",
       "        text-align: right;\n",
       "    }\n",
       "</style>\n",
       "<table border=\"1\" class=\"dataframe\">\n",
       "  <thead>\n",
       "    <tr style=\"text-align: right;\">\n",
       "      <th></th>\n",
       "      <th>Comment</th>\n",
       "      <th>Train Score</th>\n",
       "      <th>Cross-val Score</th>\n",
       "      <th>Test RMSE</th>\n",
       "    </tr>\n",
       "  </thead>\n",
       "  <tbody>\n",
       "    <tr>\n",
       "      <th>0</th>\n",
       "      <td>Part 3 Baseline</td>\n",
       "      <td>27.134698</td>\n",
       "      <td>34.734972</td>\n",
       "      <td>33.37721</td>\n",
       "    </tr>\n",
       "    <tr>\n",
       "      <th>1</th>\n",
       "      <td>Location_enc</td>\n",
       "      <td>27.134793</td>\n",
       "      <td>34.734777</td>\n",
       "      <td>NaN</td>\n",
       "    </tr>\n",
       "    <tr>\n",
       "      <th>2</th>\n",
       "      <td>+ week_no_enc</td>\n",
       "      <td>28.190695</td>\n",
       "      <td>35.117531</td>\n",
       "      <td>NaN</td>\n",
       "    </tr>\n",
       "    <tr>\n",
       "      <th>3</th>\n",
       "      <td>1 + latit+longit</td>\n",
       "      <td>27.134847</td>\n",
       "      <td>34.734270</td>\n",
       "      <td>NaN</td>\n",
       "    </tr>\n",
       "    <tr>\n",
       "      <th>4</th>\n",
       "      <td>+ Location_cluster_2</td>\n",
       "      <td>27.134847</td>\n",
       "      <td>34.734321</td>\n",
       "      <td>NaN</td>\n",
       "    </tr>\n",
       "    <tr>\n",
       "      <th>5</th>\n",
       "      <td>3 + Location_cluster_4</td>\n",
       "      <td>27.134883</td>\n",
       "      <td>34.734470</td>\n",
       "      <td>NaN</td>\n",
       "    </tr>\n",
       "  </tbody>\n",
       "</table>\n",
       "</div>"
      ],
      "text/plain": [
       "                  Comment  Train Score  Cross-val Score  Test RMSE\n",
       "0         Part 3 Baseline    27.134698        34.734972   33.37721\n",
       "1            Location_enc    27.134793        34.734777        NaN\n",
       "2           + week_no_enc    28.190695        35.117531        NaN\n",
       "3        1 + latit+longit    27.134847        34.734270        NaN\n",
       "4    + Location_cluster_2    27.134847        34.734321        NaN\n",
       "5  3 + Location_cluster_4    27.134883        34.734470        NaN"
      ]
     },
     "execution_count": 139,
     "metadata": {},
     "output_type": "execute_result"
    }
   ],
   "source": [
    "scores_df.loc[int(study_number), 'Test RMSE'] = np.nan\n",
    "scores_df"
   ]
  },
  {
   "cell_type": "markdown",
   "id": "610ee441",
   "metadata": {},
   "source": [
    "That didn't work. I also tried to remove latitude and longitude, but it didn't work as well.\n",
    "\n",
    "To be sure, let's expore how our new features affect feature importances:"
   ]
  },
  {
   "cell_type": "code",
   "execution_count": 140,
   "id": "be35b8db",
   "metadata": {},
   "outputs": [
    {
     "name": "stdout",
     "output_type": "stream",
     "text": [
      "Sorted feature importances (first 40):\n"
     ]
    },
    {
     "data": {
      "text/plain": [
       "Location_enc                                               76\n",
       "week_no_enc                                                37\n",
       "latitude                                                   32\n",
       "longitude                                                  31\n",
       "Location_cluster_4                                         27\n",
       "Ozone_solar_zenith_angle                                   16\n",
       "CarbonMonoxide_CO_column_number_density                    12\n",
       "WeekCount                                                  10\n",
       "UvAerosolIndex_solar_zenith_angle                           6\n",
       "UvAerosolIndex_sensor_altitude                              5\n",
       "Formaldehyde_sensor_azimuth_angle                           4\n",
       "UvAerosolIndex_solar_azimuth_angle                          4\n",
       "Cloud_surface_albedo                                        4\n",
       "NitrogenDioxide_stratospheric_NO2_column_number_density     4\n",
       "Cloud_cloud_optical_depth                                   3\n",
       "Ozone_O3_effective_temperature                              2\n",
       "UvAerosolIndex_sensor_zenith_angle                          2\n",
       "Ozone_O3_column_number_density                              2\n",
       "Ozone_O3_slant_column_number_density                        2\n",
       "Ozone_sensor_azimuth_angle                                  2\n",
       "Ozone_solar_azimuth_angle                                   2\n",
       "SulphurDioxide_SO2_column_number_density_15km               2\n",
       "Cloud_solar_zenith_angle                                    2\n",
       "Ozone_cloud_fraction                                        1\n",
       "Formaldehyde_HCHO_slant_column_number_density               1\n",
       "Ozone_O3_column_number_density_amf                          1\n",
       "Cloud_solar_azimuth_angle                                   1\n",
       "week_no                                                     1\n",
       "UvAerosolIndex_sensor_azimuth_angle                         1\n",
       "year                                                        1\n",
       "Formaldehyde_cloud_fraction                                 1\n",
       "Formaldehyde_sensor_zenith_angle                            1\n",
       "NitrogenDioxide_sensor_zenith_angle                         1\n",
       "CarbonMonoxide_sensor_zenith_angle                          1\n",
       "CarbonMonoxide_solar_azimuth_angle                          1\n",
       "CarbonMonoxide_solar_zenith_angle                           1\n",
       "NitrogenDioxide_solar_zenith_angle                          0\n",
       "Cloud_cloud_base_height                                     0\n",
       "UvAerosolLayerHeight_sensor_azimuth_angle                   0\n",
       "UvAerosolLayerHeight_solar_azimuth_angle                    0\n",
       "dtype: int32"
      ]
     },
     "execution_count": 140,
     "metadata": {},
     "output_type": "execute_result"
    }
   ],
   "source": [
    "## Train the model on the whole training set\n",
    "model.fit(train.drop(['emission_04', 'Location', 'date'], axis=1), train['emission_04'])\n",
    "\n",
    "feature_importances = pd.Series(data=model.feature_importances_, \n",
    "                                index=train.drop(['emission_04', 'Location', 'date'], axis=1).columns)\n",
    "\n",
    "print('Sorted feature importances (first 40):')\n",
    "feature_importances.sort_values(ascending=False).head(40)"
   ]
  },
  {
   "cell_type": "markdown",
   "id": "55023153",
   "metadata": {},
   "source": [
    "We see that this model treats Location_cluster_4 as an important feature, and introduction of clustering increased iportance of 'week_no_enc'.\n",
    "\n",
    "We'll use this information in our strategy fo imputing missing values.\n",
    "\n",
    "## 06. 15 most important features with missing values\n",
    "\n",
    "First, we'll need to test our model on features with missing values. We'll take the 15 most important features to test our imputation strategies:"
   ]
  },
  {
   "cell_type": "code",
   "execution_count": 141,
   "id": "962b27a8",
   "metadata": {},
   "outputs": [
    {
     "name": "stdout",
     "output_type": "stream",
     "text": [
      "Selected columns: ['Location_enc', 'week_no_enc', 'latitude', 'longitude', 'Location_cluster_4', 'Ozone_solar_zenith_angle', 'CarbonMonoxide_CO_column_number_density', 'WeekCount', 'UvAerosolIndex_solar_zenith_angle', 'UvAerosolIndex_sensor_altitude', 'Formaldehyde_sensor_azimuth_angle', 'UvAerosolIndex_solar_azimuth_angle', 'Cloud_surface_albedo', 'NitrogenDioxide_stratospheric_NO2_column_number_density', 'Cloud_cloud_optical_depth']\n",
      "CPU times: total: 5.03 s\n",
      "Wall time: 543 ms\n"
     ]
    }
   ],
   "source": [
    "%%time\n",
    "\n",
    "study_number = '06'\n",
    "\n",
    "selected_columns = list(feature_importances.sort_values(ascending=False).index[:15])\n",
    "\n",
    "print('Selected columns: {}'.format(selected_columns))\n",
    "train_selected = train[selected_columns]\n",
    "train_selected = pd.concat([train_selected, train['emission_04']], axis=1)\n",
    "test_selected =  test[selected_columns]\n",
    "\n",
    "#Calculate scores\n",
    "train_score, cross_score, cross_scores_std, submission = get_score_3(global_variables, train_selected, test_selected, \n",
    "                                                                     post_training_df, model, scores_df,\n",
    "                                                                  comment=\"15 features with NaNs\")\n",
    "\n",
    "submission.to_csv('submissions/submission_3_' + study_number + '.csv', index=False)"
   ]
  },
  {
   "cell_type": "code",
   "execution_count": 142,
   "id": "4c4eadcc",
   "metadata": {},
   "outputs": [
    {
     "data": {
      "text/html": [
       "<div>\n",
       "<style scoped>\n",
       "    .dataframe tbody tr th:only-of-type {\n",
       "        vertical-align: middle;\n",
       "    }\n",
       "\n",
       "    .dataframe tbody tr th {\n",
       "        vertical-align: top;\n",
       "    }\n",
       "\n",
       "    .dataframe thead th {\n",
       "        text-align: right;\n",
       "    }\n",
       "</style>\n",
       "<table border=\"1\" class=\"dataframe\">\n",
       "  <thead>\n",
       "    <tr style=\"text-align: right;\">\n",
       "      <th></th>\n",
       "      <th>Comment</th>\n",
       "      <th>Train Score</th>\n",
       "      <th>Cross-val Score</th>\n",
       "      <th>Test RMSE</th>\n",
       "    </tr>\n",
       "  </thead>\n",
       "  <tbody>\n",
       "    <tr>\n",
       "      <th>0</th>\n",
       "      <td>Part 3 Baseline</td>\n",
       "      <td>27.134698</td>\n",
       "      <td>34.734972</td>\n",
       "      <td>33.37721</td>\n",
       "    </tr>\n",
       "    <tr>\n",
       "      <th>1</th>\n",
       "      <td>Location_enc</td>\n",
       "      <td>27.134793</td>\n",
       "      <td>34.734777</td>\n",
       "      <td>NaN</td>\n",
       "    </tr>\n",
       "    <tr>\n",
       "      <th>2</th>\n",
       "      <td>+ week_no_enc</td>\n",
       "      <td>28.190695</td>\n",
       "      <td>35.117531</td>\n",
       "      <td>NaN</td>\n",
       "    </tr>\n",
       "    <tr>\n",
       "      <th>3</th>\n",
       "      <td>1 + latit+longit</td>\n",
       "      <td>27.134847</td>\n",
       "      <td>34.734270</td>\n",
       "      <td>NaN</td>\n",
       "    </tr>\n",
       "    <tr>\n",
       "      <th>4</th>\n",
       "      <td>+ Location_cluster_2</td>\n",
       "      <td>27.134847</td>\n",
       "      <td>34.734321</td>\n",
       "      <td>NaN</td>\n",
       "    </tr>\n",
       "    <tr>\n",
       "      <th>5</th>\n",
       "      <td>3 + Location_cluster_4</td>\n",
       "      <td>27.134883</td>\n",
       "      <td>34.734470</td>\n",
       "      <td>NaN</td>\n",
       "    </tr>\n",
       "    <tr>\n",
       "      <th>6</th>\n",
       "      <td>15 features with NaNs</td>\n",
       "      <td>28.530193</td>\n",
       "      <td>35.665152</td>\n",
       "      <td>NaN</td>\n",
       "    </tr>\n",
       "  </tbody>\n",
       "</table>\n",
       "</div>"
      ],
      "text/plain": [
       "                  Comment  Train Score  Cross-val Score  Test RMSE\n",
       "0         Part 3 Baseline    27.134698        34.734972   33.37721\n",
       "1            Location_enc    27.134793        34.734777        NaN\n",
       "2           + week_no_enc    28.190695        35.117531        NaN\n",
       "3        1 + latit+longit    27.134847        34.734270        NaN\n",
       "4    + Location_cluster_2    27.134847        34.734321        NaN\n",
       "5  3 + Location_cluster_4    27.134883        34.734470        NaN\n",
       "6   15 features with NaNs    28.530193        35.665152        NaN"
      ]
     },
     "execution_count": 142,
     "metadata": {},
     "output_type": "execute_result"
    }
   ],
   "source": [
    "scores_df.loc[int(study_number), 'Test RMSE'] = np.nan\n",
    "scores_df"
   ]
  },
  {
   "cell_type": "markdown",
   "id": "83eb060f",
   "metadata": {},
   "source": [
    "Our score is higher, than before, it seems that our simple estimator can't handle well such number of features. But we'll just use this Cross-val Score as a baseline for evaluating our imputation strategies.\n",
    "\n",
    "## 07. Filling NaNs based on all features\n",
    "\n",
    "First, we'll use KNNImputer to inmut missing values based on all 15 selected features:"
   ]
  },
  {
   "cell_type": "code",
   "execution_count": 143,
   "id": "4e2e0378",
   "metadata": {},
   "outputs": [
    {
     "name": "stdout",
     "output_type": "stream",
     "text": [
      "CPU times: total: 2min 31s\n",
      "Wall time: 2min 1s\n"
     ]
    }
   ],
   "source": [
    "%%time\n",
    "\n",
    "study_number = '07'\n",
    "\n",
    "from sklearn.impute import KNNImputer\n",
    "\n",
    "# define imputer\n",
    "imputer = KNNImputer(weights='distance')\n",
    "# fit on the dataset\n",
    "imputer.fit(train_selected.drop('emission_04', axis=1))\n",
    "# transform the datasets\n",
    "Xtrans = imputer.transform(train_selected.drop('emission_04', axis=1))\n",
    "train_selected_filled = pd.DataFrame(Xtrans, index=train_selected.index)\n",
    "train_selected_filled = pd.concat([train_selected_filled, train_selected['emission_04']], axis=1)\n",
    "train_selected_filled.columns = train_selected.columns\n",
    "Xtrans = imputer.transform(test_selected)\n",
    "test_selected_filled = pd.DataFrame(Xtrans, index=test_selected.index, columns=test_selected.columns)\n"
   ]
  },
  {
   "cell_type": "code",
   "execution_count": 144,
   "id": "ac34df78",
   "metadata": {},
   "outputs": [
    {
     "name": "stdout",
     "output_type": "stream",
     "text": [
      "<class 'pandas.core.frame.DataFrame'>\n",
      "Index: 79023 entries, ID_-0.510_29.290_2019_00 to ID_-3.299_30.301_2021_52\n",
      "Data columns (total 16 columns):\n",
      " #   Column                                                   Non-Null Count  Dtype  \n",
      "---  ------                                                   --------------  -----  \n",
      " 0   Location_enc                                             79023 non-null  float64\n",
      " 1   week_no_enc                                              79023 non-null  float64\n",
      " 2   latitude                                                 79023 non-null  float64\n",
      " 3   longitude                                                79023 non-null  float64\n",
      " 4   Location_cluster_4                                       79023 non-null  float64\n",
      " 5   Ozone_solar_zenith_angle                                 79023 non-null  float64\n",
      " 6   CarbonMonoxide_CO_column_number_density                  79023 non-null  float64\n",
      " 7   WeekCount                                                79023 non-null  float64\n",
      " 8   UvAerosolIndex_solar_zenith_angle                        79023 non-null  float64\n",
      " 9   UvAerosolIndex_sensor_altitude                           79023 non-null  float64\n",
      " 10  Formaldehyde_sensor_azimuth_angle                        79023 non-null  float64\n",
      " 11  UvAerosolIndex_solar_azimuth_angle                       79023 non-null  float64\n",
      " 12  Cloud_surface_albedo                                     79023 non-null  float64\n",
      " 13  NitrogenDioxide_stratospheric_NO2_column_number_density  79023 non-null  float64\n",
      " 14  Cloud_cloud_optical_depth                                79023 non-null  float64\n",
      " 15  emission_04                                              79023 non-null  float64\n",
      "dtypes: float64(16)\n",
      "memory usage: 12.3+ MB\n"
     ]
    }
   ],
   "source": [
    "train_selected_filled.info()"
   ]
  },
  {
   "cell_type": "code",
   "execution_count": 145,
   "id": "541e19da",
   "metadata": {},
   "outputs": [],
   "source": [
    "#Calculate scores\n",
    "train_score, cross_score, cross_scores_std, submission = get_score_3(global_variables, train_selected_filled, \n",
    "                                                                     test_selected_filled, \n",
    "                                                                     post_training_df, model, scores_df,\n",
    "                                                                  comment=\"kNN imputing\")\n",
    "\n",
    "submission.to_csv('submissions/submission_3_' + study_number + '.csv', index=False)"
   ]
  },
  {
   "cell_type": "code",
   "execution_count": 146,
   "id": "6ee44576",
   "metadata": {},
   "outputs": [
    {
     "data": {
      "text/html": [
       "<div>\n",
       "<style scoped>\n",
       "    .dataframe tbody tr th:only-of-type {\n",
       "        vertical-align: middle;\n",
       "    }\n",
       "\n",
       "    .dataframe tbody tr th {\n",
       "        vertical-align: top;\n",
       "    }\n",
       "\n",
       "    .dataframe thead th {\n",
       "        text-align: right;\n",
       "    }\n",
       "</style>\n",
       "<table border=\"1\" class=\"dataframe\">\n",
       "  <thead>\n",
       "    <tr style=\"text-align: right;\">\n",
       "      <th></th>\n",
       "      <th>Comment</th>\n",
       "      <th>Train Score</th>\n",
       "      <th>Cross-val Score</th>\n",
       "      <th>Test RMSE</th>\n",
       "    </tr>\n",
       "  </thead>\n",
       "  <tbody>\n",
       "    <tr>\n",
       "      <th>0</th>\n",
       "      <td>Part 3 Baseline</td>\n",
       "      <td>27.134698</td>\n",
       "      <td>34.734972</td>\n",
       "      <td>33.37721</td>\n",
       "    </tr>\n",
       "    <tr>\n",
       "      <th>1</th>\n",
       "      <td>Location_enc</td>\n",
       "      <td>27.134793</td>\n",
       "      <td>34.734777</td>\n",
       "      <td>NaN</td>\n",
       "    </tr>\n",
       "    <tr>\n",
       "      <th>2</th>\n",
       "      <td>+ week_no_enc</td>\n",
       "      <td>28.190695</td>\n",
       "      <td>35.117531</td>\n",
       "      <td>NaN</td>\n",
       "    </tr>\n",
       "    <tr>\n",
       "      <th>3</th>\n",
       "      <td>1 + latit+longit</td>\n",
       "      <td>27.134847</td>\n",
       "      <td>34.734270</td>\n",
       "      <td>NaN</td>\n",
       "    </tr>\n",
       "    <tr>\n",
       "      <th>4</th>\n",
       "      <td>+ Location_cluster_2</td>\n",
       "      <td>27.134847</td>\n",
       "      <td>34.734321</td>\n",
       "      <td>NaN</td>\n",
       "    </tr>\n",
       "    <tr>\n",
       "      <th>5</th>\n",
       "      <td>3 + Location_cluster_4</td>\n",
       "      <td>27.134883</td>\n",
       "      <td>34.734470</td>\n",
       "      <td>NaN</td>\n",
       "    </tr>\n",
       "    <tr>\n",
       "      <th>6</th>\n",
       "      <td>15 features with NaNs</td>\n",
       "      <td>28.530193</td>\n",
       "      <td>35.665152</td>\n",
       "      <td>NaN</td>\n",
       "    </tr>\n",
       "    <tr>\n",
       "      <th>7</th>\n",
       "      <td>kNN imputing</td>\n",
       "      <td>28.521962</td>\n",
       "      <td>35.617772</td>\n",
       "      <td>NaN</td>\n",
       "    </tr>\n",
       "  </tbody>\n",
       "</table>\n",
       "</div>"
      ],
      "text/plain": [
       "                  Comment  Train Score  Cross-val Score  Test RMSE\n",
       "0         Part 3 Baseline    27.134698        34.734972   33.37721\n",
       "1            Location_enc    27.134793        34.734777        NaN\n",
       "2           + week_no_enc    28.190695        35.117531        NaN\n",
       "3        1 + latit+longit    27.134847        34.734270        NaN\n",
       "4    + Location_cluster_2    27.134847        34.734321        NaN\n",
       "5  3 + Location_cluster_4    27.134883        34.734470        NaN\n",
       "6   15 features with NaNs    28.530193        35.665152        NaN\n",
       "7            kNN imputing    28.521962        35.617772        NaN"
      ]
     },
     "execution_count": 146,
     "metadata": {},
     "output_type": "execute_result"
    }
   ],
   "source": [
    "scores_df.loc[int(study_number), 'Test RMSE'] = np.nan\n",
    "scores_df"
   ]
  },
  {
   "cell_type": "markdown",
   "id": "87c0fc15",
   "metadata": {},
   "source": [
    "This filling works better than NaNs.\n",
    "\n",
    "## 07. Filling NaNs based on location and week of the year\n",
    "\n",
    "Now we'll use 5 most important features in calculating distances. They contain information about location and weel of the year."
   ]
  },
  {
   "cell_type": "code",
   "execution_count": 147,
   "id": "07d2073d",
   "metadata": {},
   "outputs": [
    {
     "name": "stdout",
     "output_type": "stream",
     "text": [
      "CPU times: total: 3min 37s\n",
      "Wall time: 2min 20s\n"
     ]
    }
   ],
   "source": [
    "%%time\n",
    "\n",
    "study_number = '06'\n",
    "\n",
    "selected_columns_5 = list(feature_importances.sort_values(ascending=False).index[:5])\n",
    "five_features_train = train[selected_columns_5]\n",
    "five_features_test =  test[selected_columns_5]\n",
    "\n",
    "# For each column with missing values\n",
    "for column in list(train_selected.columns[train_selected.isna().any()]):\n",
    "    \n",
    "    # Create a DataFrame of a feature with missing values and 5 most important features\n",
    "    df_to_fill_train = pd.concat([train[column], five_features_train], axis=1)\n",
    "    df_to_fill_test = pd.concat([test[column], five_features_test], axis=1)\n",
    "                                  \n",
    "    # fit on the dataset\n",
    "    imputer.fit(df_to_fill_train)\n",
    "    # transform the datasets\n",
    "    Xtrans = imputer.transform(df_to_fill_train)\n",
    "    train_selected_filled[column] = Xtrans[:, 0]\n",
    "    Xtrans = imputer.transform(df_to_fill_test)\n",
    "    test_selected_filled[column] = Xtrans[:, 0]\n",
    "\n"
   ]
  },
  {
   "cell_type": "code",
   "execution_count": 148,
   "id": "e19520ba",
   "metadata": {},
   "outputs": [
    {
     "name": "stdout",
     "output_type": "stream",
     "text": [
      "<class 'pandas.core.frame.DataFrame'>\n",
      "Index: 79023 entries, ID_-0.510_29.290_2019_00 to ID_-3.299_30.301_2021_52\n",
      "Data columns (total 16 columns):\n",
      " #   Column                                                   Non-Null Count  Dtype  \n",
      "---  ------                                                   --------------  -----  \n",
      " 0   Location_enc                                             79023 non-null  float64\n",
      " 1   week_no_enc                                              79023 non-null  float64\n",
      " 2   latitude                                                 79023 non-null  float64\n",
      " 3   longitude                                                79023 non-null  float64\n",
      " 4   Location_cluster_4                                       79023 non-null  float64\n",
      " 5   Ozone_solar_zenith_angle                                 79023 non-null  float64\n",
      " 6   CarbonMonoxide_CO_column_number_density                  79023 non-null  float64\n",
      " 7   WeekCount                                                79023 non-null  float64\n",
      " 8   UvAerosolIndex_solar_zenith_angle                        79023 non-null  float64\n",
      " 9   UvAerosolIndex_sensor_altitude                           79023 non-null  float64\n",
      " 10  Formaldehyde_sensor_azimuth_angle                        79023 non-null  float64\n",
      " 11  UvAerosolIndex_solar_azimuth_angle                       79023 non-null  float64\n",
      " 12  Cloud_surface_albedo                                     79023 non-null  float64\n",
      " 13  NitrogenDioxide_stratospheric_NO2_column_number_density  79023 non-null  float64\n",
      " 14  Cloud_cloud_optical_depth                                79023 non-null  float64\n",
      " 15  emission_04                                              79023 non-null  float64\n",
      "dtypes: float64(16)\n",
      "memory usage: 12.3+ MB\n"
     ]
    }
   ],
   "source": [
    "train_selected_filled.info()"
   ]
  },
  {
   "cell_type": "code",
   "execution_count": 149,
   "id": "4f15f85e",
   "metadata": {},
   "outputs": [
    {
     "name": "stdout",
     "output_type": "stream",
     "text": [
      "<class 'pandas.core.frame.DataFrame'>\n",
      "Index: 24353 entries, ID_-0.510_29.290_2022_00 to ID_-3.299_30.301_2022_48\n",
      "Data columns (total 15 columns):\n",
      " #   Column                                                   Non-Null Count  Dtype  \n",
      "---  ------                                                   --------------  -----  \n",
      " 0   Location_enc                                             24353 non-null  float64\n",
      " 1   week_no_enc                                              24353 non-null  float64\n",
      " 2   latitude                                                 24353 non-null  float64\n",
      " 3   longitude                                                24353 non-null  float64\n",
      " 4   Location_cluster_4                                       24353 non-null  float64\n",
      " 5   Ozone_solar_zenith_angle                                 24353 non-null  float64\n",
      " 6   CarbonMonoxide_CO_column_number_density                  24353 non-null  float64\n",
      " 7   WeekCount                                                24353 non-null  float64\n",
      " 8   UvAerosolIndex_solar_zenith_angle                        24353 non-null  float64\n",
      " 9   UvAerosolIndex_sensor_altitude                           24353 non-null  float64\n",
      " 10  Formaldehyde_sensor_azimuth_angle                        24353 non-null  float64\n",
      " 11  UvAerosolIndex_solar_azimuth_angle                       24353 non-null  float64\n",
      " 12  Cloud_surface_albedo                                     24353 non-null  float64\n",
      " 13  NitrogenDioxide_stratospheric_NO2_column_number_density  24353 non-null  float64\n",
      " 14  Cloud_cloud_optical_depth                                24353 non-null  float64\n",
      "dtypes: float64(15)\n",
      "memory usage: 3.0+ MB\n"
     ]
    }
   ],
   "source": [
    "test_selected_filled.info()"
   ]
  },
  {
   "cell_type": "code",
   "execution_count": 150,
   "id": "1dc2e482",
   "metadata": {},
   "outputs": [],
   "source": [
    "#Calculate scores\n",
    "train_score, cross_score, cross_scores_std, submission = get_score_3(global_variables, train_selected_filled,\n",
    "                                                                     test_selected_filled, \n",
    "                                                                     post_training_df, model, scores_df,\n",
    "                                                                  comment=\"kNN imputing based on 5\")\n",
    "\n",
    "submission.to_csv('submissions/submission_3_' + study_number + '.csv', index=False)"
   ]
  },
  {
   "cell_type": "code",
   "execution_count": 151,
   "id": "5873643f",
   "metadata": {},
   "outputs": [
    {
     "data": {
      "text/html": [
       "<div>\n",
       "<style scoped>\n",
       "    .dataframe tbody tr th:only-of-type {\n",
       "        vertical-align: middle;\n",
       "    }\n",
       "\n",
       "    .dataframe tbody tr th {\n",
       "        vertical-align: top;\n",
       "    }\n",
       "\n",
       "    .dataframe thead th {\n",
       "        text-align: right;\n",
       "    }\n",
       "</style>\n",
       "<table border=\"1\" class=\"dataframe\">\n",
       "  <thead>\n",
       "    <tr style=\"text-align: right;\">\n",
       "      <th></th>\n",
       "      <th>Comment</th>\n",
       "      <th>Train Score</th>\n",
       "      <th>Cross-val Score</th>\n",
       "      <th>Test RMSE</th>\n",
       "    </tr>\n",
       "  </thead>\n",
       "  <tbody>\n",
       "    <tr>\n",
       "      <th>0</th>\n",
       "      <td>Part 3 Baseline</td>\n",
       "      <td>27.134698</td>\n",
       "      <td>34.734972</td>\n",
       "      <td>33.37721</td>\n",
       "    </tr>\n",
       "    <tr>\n",
       "      <th>1</th>\n",
       "      <td>Location_enc</td>\n",
       "      <td>27.134793</td>\n",
       "      <td>34.734777</td>\n",
       "      <td>NaN</td>\n",
       "    </tr>\n",
       "    <tr>\n",
       "      <th>2</th>\n",
       "      <td>+ week_no_enc</td>\n",
       "      <td>28.190695</td>\n",
       "      <td>35.117531</td>\n",
       "      <td>NaN</td>\n",
       "    </tr>\n",
       "    <tr>\n",
       "      <th>3</th>\n",
       "      <td>1 + latit+longit</td>\n",
       "      <td>27.134847</td>\n",
       "      <td>34.734270</td>\n",
       "      <td>NaN</td>\n",
       "    </tr>\n",
       "    <tr>\n",
       "      <th>4</th>\n",
       "      <td>+ Location_cluster_2</td>\n",
       "      <td>27.134847</td>\n",
       "      <td>34.734321</td>\n",
       "      <td>NaN</td>\n",
       "    </tr>\n",
       "    <tr>\n",
       "      <th>5</th>\n",
       "      <td>3 + Location_cluster_4</td>\n",
       "      <td>27.134883</td>\n",
       "      <td>34.734470</td>\n",
       "      <td>NaN</td>\n",
       "    </tr>\n",
       "    <tr>\n",
       "      <th>6</th>\n",
       "      <td>15 features with NaNs</td>\n",
       "      <td>28.530193</td>\n",
       "      <td>35.665152</td>\n",
       "      <td>NaN</td>\n",
       "    </tr>\n",
       "    <tr>\n",
       "      <th>7</th>\n",
       "      <td>kNN imputing</td>\n",
       "      <td>28.521962</td>\n",
       "      <td>35.617772</td>\n",
       "      <td>NaN</td>\n",
       "    </tr>\n",
       "    <tr>\n",
       "      <th>8</th>\n",
       "      <td>kNN imputing based on 5</td>\n",
       "      <td>28.582089</td>\n",
       "      <td>35.618329</td>\n",
       "      <td>NaN</td>\n",
       "    </tr>\n",
       "  </tbody>\n",
       "</table>\n",
       "</div>"
      ],
      "text/plain": [
       "                   Comment  Train Score  Cross-val Score  Test RMSE\n",
       "0          Part 3 Baseline    27.134698        34.734972   33.37721\n",
       "1             Location_enc    27.134793        34.734777        NaN\n",
       "2            + week_no_enc    28.190695        35.117531        NaN\n",
       "3         1 + latit+longit    27.134847        34.734270        NaN\n",
       "4     + Location_cluster_2    27.134847        34.734321        NaN\n",
       "5   3 + Location_cluster_4    27.134883        34.734470        NaN\n",
       "6    15 features with NaNs    28.530193        35.665152        NaN\n",
       "7             kNN imputing    28.521962        35.617772        NaN\n",
       "8  kNN imputing based on 5    28.582089        35.618329        NaN"
      ]
     },
     "execution_count": 151,
     "metadata": {},
     "output_type": "execute_result"
    }
   ],
   "source": [
    "scores_df.loc[int(study_number), 'Test RMSE'] = np.nan\n",
    "scores_df"
   ]
  },
  {
   "cell_type": "markdown",
   "id": "4f387497",
   "metadata": {},
   "source": [
    "As we can see, kNN imputing based on all 15 features works better. Therefore, we'll use this strategy to fill all the missing values for all the features. This will be computantionally expensive, but we'll change the notebook soon afterwards to ['CO2 Emissions 4.ipynb'](CO2 Emissions 4.ipynb)"
   ]
  },
  {
   "cell_type": "code",
   "execution_count": 152,
   "id": "1db1b18a",
   "metadata": {},
   "outputs": [
    {
     "data": {
      "text/html": [
       "<style>#sk-container-id-4 {color: black;background-color: white;}#sk-container-id-4 pre{padding: 0;}#sk-container-id-4 div.sk-toggleable {background-color: white;}#sk-container-id-4 label.sk-toggleable__label {cursor: pointer;display: block;width: 100%;margin-bottom: 0;padding: 0.3em;box-sizing: border-box;text-align: center;}#sk-container-id-4 label.sk-toggleable__label-arrow:before {content: \"▸\";float: left;margin-right: 0.25em;color: #696969;}#sk-container-id-4 label.sk-toggleable__label-arrow:hover:before {color: black;}#sk-container-id-4 div.sk-estimator:hover label.sk-toggleable__label-arrow:before {color: black;}#sk-container-id-4 div.sk-toggleable__content {max-height: 0;max-width: 0;overflow: hidden;text-align: left;background-color: #f0f8ff;}#sk-container-id-4 div.sk-toggleable__content pre {margin: 0.2em;color: black;border-radius: 0.25em;background-color: #f0f8ff;}#sk-container-id-4 input.sk-toggleable__control:checked~div.sk-toggleable__content {max-height: 200px;max-width: 100%;overflow: auto;}#sk-container-id-4 input.sk-toggleable__control:checked~label.sk-toggleable__label-arrow:before {content: \"▾\";}#sk-container-id-4 div.sk-estimator input.sk-toggleable__control:checked~label.sk-toggleable__label {background-color: #d4ebff;}#sk-container-id-4 div.sk-label input.sk-toggleable__control:checked~label.sk-toggleable__label {background-color: #d4ebff;}#sk-container-id-4 input.sk-hidden--visually {border: 0;clip: rect(1px 1px 1px 1px);clip: rect(1px, 1px, 1px, 1px);height: 1px;margin: -1px;overflow: hidden;padding: 0;position: absolute;width: 1px;}#sk-container-id-4 div.sk-estimator {font-family: monospace;background-color: #f0f8ff;border: 1px dotted black;border-radius: 0.25em;box-sizing: border-box;margin-bottom: 0.5em;}#sk-container-id-4 div.sk-estimator:hover {background-color: #d4ebff;}#sk-container-id-4 div.sk-parallel-item::after {content: \"\";width: 100%;border-bottom: 1px solid gray;flex-grow: 1;}#sk-container-id-4 div.sk-label:hover label.sk-toggleable__label {background-color: #d4ebff;}#sk-container-id-4 div.sk-serial::before {content: \"\";position: absolute;border-left: 1px solid gray;box-sizing: border-box;top: 0;bottom: 0;left: 50%;z-index: 0;}#sk-container-id-4 div.sk-serial {display: flex;flex-direction: column;align-items: center;background-color: white;padding-right: 0.2em;padding-left: 0.2em;position: relative;}#sk-container-id-4 div.sk-item {position: relative;z-index: 1;}#sk-container-id-4 div.sk-parallel {display: flex;align-items: stretch;justify-content: center;background-color: white;position: relative;}#sk-container-id-4 div.sk-item::before, #sk-container-id-4 div.sk-parallel-item::before {content: \"\";position: absolute;border-left: 1px solid gray;box-sizing: border-box;top: 0;bottom: 0;left: 50%;z-index: -1;}#sk-container-id-4 div.sk-parallel-item {display: flex;flex-direction: column;z-index: 1;position: relative;background-color: white;}#sk-container-id-4 div.sk-parallel-item:first-child::after {align-self: flex-end;width: 50%;}#sk-container-id-4 div.sk-parallel-item:last-child::after {align-self: flex-start;width: 50%;}#sk-container-id-4 div.sk-parallel-item:only-child::after {width: 0;}#sk-container-id-4 div.sk-dashed-wrapped {border: 1px dashed gray;margin: 0 0.4em 0.5em 0.4em;box-sizing: border-box;padding-bottom: 0.4em;background-color: white;}#sk-container-id-4 div.sk-label label {font-family: monospace;font-weight: bold;display: inline-block;line-height: 1.2em;}#sk-container-id-4 div.sk-label-container {text-align: center;}#sk-container-id-4 div.sk-container {/* jupyter's `normalize.less` sets `[hidden] { display: none; }` but bootstrap.min.css set `[hidden] { display: none !important; }` so we also need the `!important` here to be able to override the default hidden behavior on the sphinx rendered scikit-learn.org. See: https://github.com/scikit-learn/scikit-learn/issues/21755 */display: inline-block !important;position: relative;}#sk-container-id-4 div.sk-text-repr-fallback {display: none;}</style><div id=\"sk-container-id-4\" class=\"sk-top-container\"><div class=\"sk-text-repr-fallback\"><pre>KNNImputer(weights=&#x27;distance&#x27;)</pre><b>In a Jupyter environment, please rerun this cell to show the HTML representation or trust the notebook. <br />On GitHub, the HTML representation is unable to render, please try loading this page with nbviewer.org.</b></div><div class=\"sk-container\" hidden><div class=\"sk-item\"><div class=\"sk-estimator sk-toggleable\"><input class=\"sk-toggleable__control sk-hidden--visually\" id=\"sk-estimator-id-4\" type=\"checkbox\" checked><label for=\"sk-estimator-id-4\" class=\"sk-toggleable__label sk-toggleable__label-arrow\">KNNImputer</label><div class=\"sk-toggleable__content\"><pre>KNNImputer(weights=&#x27;distance&#x27;)</pre></div></div></div></div></div>"
      ],
      "text/plain": [
       "KNNImputer(weights='distance')"
      ]
     },
     "execution_count": 152,
     "metadata": {},
     "output_type": "execute_result"
    }
   ],
   "source": [
    "# fit on the dataset\n",
    "imputer.fit(train.drop(['Location', 'date', 'emission_04'], axis=1))\n"
   ]
  },
  {
   "cell_type": "code",
   "execution_count": null,
   "id": "b92b2623",
   "metadata": {},
   "outputs": [],
   "source": [
    "%%time\n",
    "\n",
    "# transform the datasets\n",
    "Xtrans = imputer.transform(train.drop(['Location', 'date', 'emission_04'], axis=1))\n"
   ]
  },
  {
   "cell_type": "code",
   "execution_count": null,
   "id": "17d7493e",
   "metadata": {},
   "outputs": [],
   "source": [
    "train_filled = pd.DataFrame(Xtrans, index=train.index)\n",
    "train_filled.columns = train.drop(['Location', 'date', 'emission_04'], axis=1).columns\n",
    "train_filled = pd.concat([train_filled, train[['Location', 'date', 'emission_04']]], axis=1)\n",
    "\n",
    "train_filled.head()"
   ]
  },
  {
   "cell_type": "code",
   "execution_count": null,
   "id": "df2a773e",
   "metadata": {},
   "outputs": [],
   "source": [
    "%%time\n",
    "\n",
    "Xtrans = imputer.transform(test.drop(['Location', 'date'], axis=1))\n"
   ]
  },
  {
   "cell_type": "code",
   "execution_count": null,
   "id": "e84596ae",
   "metadata": {},
   "outputs": [],
   "source": [
    "test_filled = pd.DataFrame(Xtrans, index=test.index)\n",
    "test_filled.columns = test.drop(['Location', 'date'], axis=1).columns\n",
    "test_filled = pd.concat([test_filled, test[['Location', 'date']]], axis=1)\n",
    "\n",
    "\n",
    "test_filled.head()"
   ]
  },
  {
   "cell_type": "code",
   "execution_count": null,
   "id": "bcf2d0f6",
   "metadata": {},
   "outputs": [],
   "source": [
    "print(train_filled.info())\n",
    "print(test_filled.info())"
   ]
  },
  {
   "cell_type": "code",
   "execution_count": null,
   "id": "d727e9c6",
   "metadata": {},
   "outputs": [],
   "source": [
    "train_filled.to_csv('new_datasets/train_from_part_3.csv')\n",
    "test_filled.to_csv('new_datasets/test_from_part_3.csv')\n",
    "scores_df.to_csv('scores_df_3.csv')\n",
    "df_to_fill_train.to_csv('new_datasets/df_to_fill_train.csv')\n",
    "df_to_fill_test.to_csv('new_datasets/df_to_fill_test.csv')"
   ]
  },
  {
   "cell_type": "code",
   "execution_count": null,
   "id": "0f4a169c",
   "metadata": {},
   "outputs": [],
   "source": [
    "post_training_df.to_csv('new_datasets/post_training_df.csv')"
   ]
  }
 ],
 "metadata": {
  "kernelspec": {
   "display_name": "Python 3 (ipykernel)",
   "language": "python",
   "name": "python3"
  },
  "language_info": {
   "codemirror_mode": {
    "name": "ipython",
    "version": 3
   },
   "file_extension": ".py",
   "mimetype": "text/x-python",
   "name": "python",
   "nbconvert_exporter": "python",
   "pygments_lexer": "ipython3",
   "version": "3.10.9"
  }
 },
 "nbformat": 4,
 "nbformat_minor": 5
}
