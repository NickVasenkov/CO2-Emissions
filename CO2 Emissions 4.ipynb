{
 "cells": [
  {
   "cell_type": "markdown",
   "id": "d812b6d7",
   "metadata": {},
   "source": [
    "In Part 4, we'll reduce dimensionality of our dataset transforming features to principal components.\n",
    "\n",
    "We'll do so to achieve 2 goals:\n",
    "\n",
    "-) Avoid possible overfitting\n",
    "-) Reduce the runtime for testing and hyperparameters tuning\n",
    "\n",
    "Let's load our datasets from Part_3:"
   ]
  },
  {
   "cell_type": "code",
   "execution_count": 23,
   "id": "6ed0ec3f",
   "metadata": {},
   "outputs": [
    {
     "name": "stdout",
     "output_type": "stream",
     "text": [
      "CPU times: total: 1.16 s\n",
      "Wall time: 1.22 s\n"
     ]
    }
   ],
   "source": [
    "%%time\n",
    "\n",
    "import pandas as pd\n",
    "import numpy as np\n",
    "\n",
    "\n",
    "global_variables = pd.read_csv('global_variables.csv', index_col=0)\n",
    "SEED = global_variables.loc[0, 'SEED']\n",
    "N_SPLITS = global_variables.loc[0, 'N_SPLITS']\n",
    "\n",
    "train_from_part_3 = pd.read_csv('new_datasets/train_from_part_3.csv', index_col='ID_LAT_LON_YEAR_WEEK')\n",
    "test_from_part_3 = pd.read_csv('new_datasets/test_from_part_3.csv', index_col='ID_LAT_LON_YEAR_WEEK')\n",
    "post_training_df = pd.read_csv('new_datasets/post_training_df.csv', index_col='ID_LAT_LON_YEAR_WEEK')\n",
    "\n",
    "top_three_values = train_from_part_3.loc[:, 'Location_enc'].drop_duplicates().sort_values(ascending = False).head(3)\n",
    "top_three_locations = train_from_part_3.loc[train_from_part_3['Location_enc'].isin(top_three_values), 'Location'].drop_duplicates()\n"
   ]
  },
  {
   "cell_type": "markdown",
   "id": "c31206ea",
   "metadata": {},
   "source": [
    "We'll create an elbow plot of explained variance by number of principal components:"
   ]
  },
  {
   "cell_type": "code",
   "execution_count": 24,
   "id": "a69e4f9a",
   "metadata": {},
   "outputs": [
    {
     "data": {
      "image/png": "[encoded data removed]",
      "text/plain": [
       "<Figure size 640x480 with 1 Axes>"
      ]
     },
     "metadata": {},
     "output_type": "display_data"
    },
    {
     "name": "stdout",
     "output_type": "stream",
     "text": [
      "CPU times: total: 1.73 s\n",
      "Wall time: 461 ms\n"
     ]
    }
   ],
   "source": [
    "%%time\n",
    "\n",
    "import matplotlib.pyplot as plt\n",
    "from sklearn.decomposition import PCA\n",
    "\n",
    "X_train = train_from_part_3.drop(['Location', 'date', 'emission_04'], axis=1)\n",
    "\n",
    "pca = PCA(n_components = 20)\n",
    "\n",
    "# Fit PCA\n",
    "pca.fit(X_train)\n",
    "\n",
    "# Plot the explained variance ratio\n",
    "plt.plot(pca.explained_variance_ratio_)\n",
    "\n",
    "plt.xlabel('Principal component index')\n",
    "plt.ylabel('Explained variance ratio')\n",
    "plt.show()"
   ]
  },
  {
   "cell_type": "markdown",
   "id": "71cc19b5",
   "metadata": {},
   "source": [
    "## 00. Baseline. 2 PC\n",
    "\n",
    "Interestingly, most of variance is explained just by 2 principal components. Let's tranform our features into 2 components:"
   ]
  },
  {
   "cell_type": "code",
   "execution_count": 25,
   "id": "1bfa12d2",
   "metadata": {},
   "outputs": [
    {
     "name": "stdout",
     "output_type": "stream",
     "text": [
      "CPU times: total: 984 ms\n",
      "Wall time: 253 ms\n"
     ]
    },
    {
     "data": {
      "text/html": [
       "<div>\n",
       "<style scoped>\n",
       "    .dataframe tbody tr th:only-of-type {\n",
       "        vertical-align: middle;\n",
       "    }\n",
       "\n",
       "    .dataframe tbody tr th {\n",
       "        vertical-align: top;\n",
       "    }\n",
       "\n",
       "    .dataframe thead th {\n",
       "        text-align: right;\n",
       "    }\n",
       "</style>\n",
       "<table border=\"1\" class=\"dataframe\">\n",
       "  <thead>\n",
       "    <tr style=\"text-align: right;\">\n",
       "      <th></th>\n",
       "      <th>PC1</th>\n",
       "      <th>PC2</th>\n",
       "      <th>emission_04</th>\n",
       "    </tr>\n",
       "    <tr>\n",
       "      <th>ID_LAT_LON_YEAR_WEEK</th>\n",
       "      <th></th>\n",
       "      <th></th>\n",
       "      <th></th>\n",
       "    </tr>\n",
       "  </thead>\n",
       "  <tbody>\n",
       "    <tr>\n",
       "      <th>ID_-0.510_29.290_2019_00</th>\n",
       "      <td>-1881.655683</td>\n",
       "      <td>-3605.984212</td>\n",
       "      <td>0.000000</td>\n",
       "    </tr>\n",
       "    <tr>\n",
       "      <th>ID_-0.510_29.290_2019_01</th>\n",
       "      <td>-13115.664053</td>\n",
       "      <td>552.725609</td>\n",
       "      <td>0.158000</td>\n",
       "    </tr>\n",
       "    <tr>\n",
       "      <th>ID_-0.510_29.290_2019_02</th>\n",
       "      <td>-2665.646169</td>\n",
       "      <td>-497.164566</td>\n",
       "      <td>0.255728</td>\n",
       "    </tr>\n",
       "    <tr>\n",
       "      <th>ID_-0.510_29.290_2019_03</th>\n",
       "      <td>11716.264908</td>\n",
       "      <td>11427.623616</td>\n",
       "      <td>0.129001</td>\n",
       "    </tr>\n",
       "    <tr>\n",
       "      <th>ID_-0.510_29.290_2019_04</th>\n",
       "      <td>-8075.549329</td>\n",
       "      <td>-3048.982659</td>\n",
       "      <td>0.076215</td>\n",
       "    </tr>\n",
       "  </tbody>\n",
       "</table>\n",
       "</div>"
      ],
      "text/plain": [
       "                                   PC1           PC2  emission_04\n",
       "ID_LAT_LON_YEAR_WEEK                                             \n",
       "ID_-0.510_29.290_2019_00  -1881.655683  -3605.984212     0.000000\n",
       "ID_-0.510_29.290_2019_01 -13115.664053    552.725609     0.158000\n",
       "ID_-0.510_29.290_2019_02  -2665.646169   -497.164566     0.255728\n",
       "ID_-0.510_29.290_2019_03  11716.264908  11427.623616     0.129001\n",
       "ID_-0.510_29.290_2019_04  -8075.549329  -3048.982659     0.076215"
      ]
     },
     "execution_count": 25,
     "metadata": {},
     "output_type": "execute_result"
    }
   ],
   "source": [
    "%%time\n",
    "\n",
    "study_number = '00'\n",
    "\n",
    "pca = PCA(n_components = 2)\n",
    "\n",
    "X_train = pca.fit_transform(X_train)\n",
    "\n",
    "train = pd.concat([pd.DataFrame(X_train, index=train_from_part_3.index, columns=['PC1', 'PC2']),\n",
    "                   train_from_part_3['emission_04']], axis=1)\n",
    "                   \n",
    "X_test = test_from_part_3.drop(['Location', 'date'], axis=1)\n",
    "\n",
    "X_test = pca.fit_transform(X_test)\n",
    "\n",
    "test = pd.DataFrame(X_test, index=test_from_part_3.index, columns=['PC1', 'PC2'])\n",
    "\n",
    "train.head()"
   ]
  },
  {
   "cell_type": "code",
   "execution_count": 26,
   "id": "a9a7065b",
   "metadata": {},
   "outputs": [
    {
     "name": "stdout",
     "output_type": "stream",
     "text": [
      "<class 'pandas.core.frame.DataFrame'>\n",
      "Index: 79023 entries, ID_-0.510_29.290_2019_00 to ID_-3.299_30.301_2021_52\n",
      "Data columns (total 3 columns):\n",
      " #   Column       Non-Null Count  Dtype  \n",
      "---  ------       --------------  -----  \n",
      " 0   PC1          79023 non-null  float64\n",
      " 1   PC2          79023 non-null  float64\n",
      " 2   emission_04  79023 non-null  float64\n",
      "dtypes: float64(3)\n",
      "memory usage: 2.4+ MB\n",
      "None\n",
      "<class 'pandas.core.frame.DataFrame'>\n",
      "Index: 24353 entries, ID_-0.510_29.290_2022_00 to ID_-3.299_30.301_2022_48\n",
      "Data columns (total 2 columns):\n",
      " #   Column  Non-Null Count  Dtype  \n",
      "---  ------  --------------  -----  \n",
      " 0   PC1     24353 non-null  float64\n",
      " 1   PC2     24353 non-null  float64\n",
      "dtypes: float64(2)\n",
      "memory usage: 570.8+ KB\n",
      "None\n"
     ]
    }
   ],
   "source": [
    "print(train.info())\n",
    "print(test.info())"
   ]
  },
  {
   "cell_type": "markdown",
   "id": "833b1e3f",
   "metadata": {},
   "source": [
    "Now, let's test the performance of LightGBM on this dataset. We'll increase the number of estimators, since after the dimensionality reduction our model will train much faster:"
   ]
  },
  {
   "cell_type": "code",
   "execution_count": 58,
   "id": "68ab0ba7",
   "metadata": {},
   "outputs": [
    {
     "name": "stdout",
     "output_type": "stream",
     "text": [
      "CPU times: total: 2.62 s\n",
      "Wall time: 279 ms\n"
     ]
    }
   ],
   "source": [
    "%%time\n",
    "\n",
    "scores_df = pd.DataFrame({'Comment': [], 'Train Score': [], 'Cross-val Score': [], 'Test RMSE': []})\n",
    "\n",
    "# Instantiate the estimator\n",
    "# UNCOMMENT TO INSTALL LightGBM\n",
    "#!pip install lightgbm\n",
    "import lightgbm as lgb\n",
    "\n",
    "model = lgb.LGBMRegressor(random_state=SEED, n_jobs=-1, n_estimators=5)\n",
    "\n",
    "# Calculate scores\n",
    "from functions.get_score_3 import get_score_3\n",
    "\n",
    "train_score, cross_score, cross_scores_std, submission = get_score_3(global_variables, train, test, \n",
    "                                                                     post_training_df, model, scores_df,\n",
    "                                                                  comment=\"Part 4 Baseline\")\n",
    "\n",
    "submission.to_csv('submissions/submission_4_' + study_number + '.csv', index=False)"
   ]
  },
  {
   "cell_type": "code",
   "execution_count": 59,
   "id": "aebc6ef0",
   "metadata": {},
   "outputs": [
    {
     "data": {
      "text/html": [
       "<div>\n",
       "<style scoped>\n",
       "    .dataframe tbody tr th:only-of-type {\n",
       "        vertical-align: middle;\n",
       "    }\n",
       "\n",
       "    .dataframe tbody tr th {\n",
       "        vertical-align: top;\n",
       "    }\n",
       "\n",
       "    .dataframe thead th {\n",
       "        text-align: right;\n",
       "    }\n",
       "</style>\n",
       "<table border=\"1\" class=\"dataframe\">\n",
       "  <thead>\n",
       "    <tr style=\"text-align: right;\">\n",
       "      <th></th>\n",
       "      <th>Comment</th>\n",
       "      <th>Train Score</th>\n",
       "      <th>Cross-val Score</th>\n",
       "      <th>Test RMSE</th>\n",
       "    </tr>\n",
       "  </thead>\n",
       "  <tbody>\n",
       "    <tr>\n",
       "      <th>0</th>\n",
       "      <td>Part 4 Baseline</td>\n",
       "      <td>27.154261</td>\n",
       "      <td>34.734932</td>\n",
       "      <td>33.38582</td>\n",
       "    </tr>\n",
       "  </tbody>\n",
       "</table>\n",
       "</div>"
      ],
      "text/plain": [
       "           Comment  Train Score  Cross-val Score  Test RMSE\n",
       "0  Part 4 Baseline    27.154261        34.734932   33.38582"
      ]
     },
     "execution_count": 59,
     "metadata": {},
     "output_type": "execute_result"
    }
   ],
   "source": [
    "scores_df.loc[int(study_number), 'Test RMSE'] = 33.38582\n",
    "scores_df"
   ]
  },
  {
   "cell_type": "markdown",
   "id": "aa513da5",
   "metadata": {},
   "source": [
    "Indeed, we scored almost as good as our best score.\n",
    "\n",
    "## 01. Linear Regression\n",
    "\n",
    "Let's try another estimator:"
   ]
  },
  {
   "cell_type": "code",
   "execution_count": 74,
   "id": "df055510",
   "metadata": {},
   "outputs": [
    {
     "name": "stdout",
     "output_type": "stream",
     "text": [
      "CPU times: total: 625 ms\n",
      "Wall time: 145 ms\n"
     ]
    }
   ],
   "source": [
    "%%time\n",
    "\n",
    "study_number = '01'\n",
    "\n",
    "from sklearn.linear_model import LinearRegression\n",
    "\n",
    "model = LinearRegression(n_jobs=-1)\n",
    "\n",
    "# Calculate scores\n",
    "from functions.get_score_3 import get_score_3\n",
    "\n",
    "train_score, cross_score, cross_scores_std, submission = get_score_3(global_variables, train, test, \n",
    "                                                                     post_training_df, model, scores_df,\n",
    "                                                                  comment=\"Linear Regression\")\n",
    "\n",
    "submission.to_csv('submissions/submission_4_' + study_number + '.csv', index=False)"
   ]
  },
  {
   "cell_type": "code",
   "execution_count": 75,
   "id": "3418748d",
   "metadata": {},
   "outputs": [
    {
     "data": {
      "text/html": [
       "<div>\n",
       "<style scoped>\n",
       "    .dataframe tbody tr th:only-of-type {\n",
       "        vertical-align: middle;\n",
       "    }\n",
       "\n",
       "    .dataframe tbody tr th {\n",
       "        vertical-align: top;\n",
       "    }\n",
       "\n",
       "    .dataframe thead th {\n",
       "        text-align: right;\n",
       "    }\n",
       "</style>\n",
       "<table border=\"1\" class=\"dataframe\">\n",
       "  <thead>\n",
       "    <tr style=\"text-align: right;\">\n",
       "      <th></th>\n",
       "      <th>Comment</th>\n",
       "      <th>Train Score</th>\n",
       "      <th>Cross-val Score</th>\n",
       "      <th>Test RMSE</th>\n",
       "    </tr>\n",
       "  </thead>\n",
       "  <tbody>\n",
       "    <tr>\n",
       "      <th>0</th>\n",
       "      <td>Part 4 Baseline</td>\n",
       "      <td>27.154261</td>\n",
       "      <td>34.734932</td>\n",
       "      <td>33.38582</td>\n",
       "    </tr>\n",
       "    <tr>\n",
       "      <th>1</th>\n",
       "      <td>Part 4 Baseline</td>\n",
       "      <td>27.134326</td>\n",
       "      <td>34.733733</td>\n",
       "      <td>NaN</td>\n",
       "    </tr>\n",
       "    <tr>\n",
       "      <th>2</th>\n",
       "      <td>Linear Regression</td>\n",
       "      <td>27.134326</td>\n",
       "      <td>34.733733</td>\n",
       "      <td>NaN</td>\n",
       "    </tr>\n",
       "    <tr>\n",
       "      <th>3</th>\n",
       "      <td>Linear Regression</td>\n",
       "      <td>27.135111</td>\n",
       "      <td>34.734109</td>\n",
       "      <td>NaN</td>\n",
       "    </tr>\n",
       "    <tr>\n",
       "      <th>4</th>\n",
       "      <td>Linear Regression</td>\n",
       "      <td>27.134326</td>\n",
       "      <td>34.733733</td>\n",
       "      <td>NaN</td>\n",
       "    </tr>\n",
       "  </tbody>\n",
       "</table>\n",
       "</div>"
      ],
      "text/plain": [
       "             Comment  Train Score  Cross-val Score  Test RMSE\n",
       "0    Part 4 Baseline    27.154261        34.734932   33.38582\n",
       "1    Part 4 Baseline    27.134326        34.733733        NaN\n",
       "2  Linear Regression    27.134326        34.733733        NaN\n",
       "3  Linear Regression    27.135111        34.734109        NaN\n",
       "4  Linear Regression    27.134326        34.733733        NaN"
      ]
     },
     "execution_count": 75,
     "metadata": {},
     "output_type": "execute_result"
    }
   ],
   "source": [
    "scores_df.loc[int(study_number), 'Test RMSE'] = np.nan\n",
    "scores_df"
   ]
  }
 ],
 "metadata": {
  "kernelspec": {
   "display_name": "Python 3 (ipykernel)",
   "language": "python",
   "name": "python3"
  },
  "language_info": {
   "codemirror_mode": {
    "name": "ipython",
    "version": 3
   },
   "file_extension": ".py",
   "mimetype": "text/x-python",
   "name": "python",
   "nbconvert_exporter": "python",
   "pygments_lexer": "ipython3",
   "version": "3.10.9"
  }
 },
 "nbformat": 4,
 "nbformat_minor": 5
}
