{
 "cells": [
  {
   "cell_type": "markdown",
   "id": "4c99f876",
   "metadata": {},
   "source": [
    "In this part we'll take our best predictions from previous parts and use them as second-level features for training a second-level regressor.\n",
    "\n",
    "We'll also use some other features, those who showed themselves important in Part 1.\n",
    "\n",
    "Let's load the datasets:"
   ]
  },
  {
   "cell_type": "code",
   "execution_count": 8,
   "id": "1cfcbc16",
   "metadata": {},
   "outputs": [
    {
     "name": "stdout",
     "output_type": "stream",
     "text": [
      "CPU times: total: 1.31 s\n",
      "Wall time: 1.44 s\n"
     ]
    }
   ],
   "source": [
    "%%time\n",
    "\n",
    "import pandas as pd\n",
    "import numpy as np\n",
    "\n",
    "\n",
    "global_variables = pd.read_csv('global_variables.csv', index_col=0)\n",
    "SEED = global_variables.loc[0, 'SEED']\n",
    "N_SPLITS = global_variables.loc[0, 'N_SPLITS']\n",
    "\n",
    "train_all_features = pd.read_csv('datasets/train.csv', index_col='ID_LAT_LON_YEAR_WEEK')\n",
    "emission = pd.read_csv('datasets/train.csv', index_col='ID_LAT_LON_YEAR_WEEK',\n",
    "                            usecols=['ID_LAT_LON_YEAR_WEEK','emission'])\n",
    "train_all_features['emission'] = emission\n",
    "\n",
    "pred_1 = \n",
    "\n",
    "test_all_features = pd.read_csv('new_datasets/X_test_1_final.csv', index_col='ID_LAT_LON_YEAR_WEEK')\n",
    "\n",
    "feature_importances_sorted = pd.read_csv('new_datasets/feature_importances_sorted_1_final.csv', \n",
    "                                         index_col=0)"
   ]
  },
  {
   "cell_type": "code",
   "execution_count": 12,
   "id": "e03474f3",
   "metadata": {},
   "outputs": [
    {
     "name": "stdout",
     "output_type": "stream",
     "text": [
      "Sorted feature importances (first 15):\n"
     ]
    },
    {
     "data": {
      "text/html": [
       "<div>\n",
       "<style scoped>\n",
       "    .dataframe tbody tr th:only-of-type {\n",
       "        vertical-align: middle;\n",
       "    }\n",
       "\n",
       "    .dataframe tbody tr th {\n",
       "        vertical-align: top;\n",
       "    }\n",
       "\n",
       "    .dataframe thead th {\n",
       "        text-align: right;\n",
       "    }\n",
       "</style>\n",
       "<table border=\"1\" class=\"dataframe\">\n",
       "  <thead>\n",
       "    <tr style=\"text-align: right;\">\n",
       "      <th></th>\n",
       "      <th>0</th>\n",
       "    </tr>\n",
       "  </thead>\n",
       "  <tbody>\n",
       "    <tr>\n",
       "      <th>emission_pred_2_04</th>\n",
       "      <td>312</td>\n",
       "    </tr>\n",
       "    <tr>\n",
       "      <th>Location_week_no_enc</th>\n",
       "      <td>282</td>\n",
       "    </tr>\n",
       "    <tr>\n",
       "      <th>Median_x_groups</th>\n",
       "      <td>203</td>\n",
       "    </tr>\n",
       "    <tr>\n",
       "      <th>week_no_enc</th>\n",
       "      <td>173</td>\n",
       "    </tr>\n",
       "    <tr>\n",
       "      <th>week_no</th>\n",
       "      <td>154</td>\n",
       "    </tr>\n",
       "    <tr>\n",
       "      <th>year</th>\n",
       "      <td>147</td>\n",
       "    </tr>\n",
       "    <tr>\n",
       "      <th>Location_enc</th>\n",
       "      <td>140</td>\n",
       "    </tr>\n",
       "    <tr>\n",
       "      <th>Ozone_O3_column_number_density</th>\n",
       "      <td>128</td>\n",
       "    </tr>\n",
       "    <tr>\n",
       "      <th>latitude</th>\n",
       "      <td>89</td>\n",
       "    </tr>\n",
       "    <tr>\n",
       "      <th>Cloud_solar_zenith_angle</th>\n",
       "      <td>57</td>\n",
       "    </tr>\n",
       "    <tr>\n",
       "      <th>NitrogenDioxide_stratospheric_NO2_column_number_density</th>\n",
       "      <td>54</td>\n",
       "    </tr>\n",
       "    <tr>\n",
       "      <th>Location_group_enc</th>\n",
       "      <td>54</td>\n",
       "    </tr>\n",
       "    <tr>\n",
       "      <th>UvAerosolIndex_absorbing_aerosol_index</th>\n",
       "      <td>52</td>\n",
       "    </tr>\n",
       "    <tr>\n",
       "      <th>UvAerosolIndex_solar_azimuth_angle</th>\n",
       "      <td>47</td>\n",
       "    </tr>\n",
       "    <tr>\n",
       "      <th>UvAerosolIndex_solar_zenith_angle</th>\n",
       "      <td>45</td>\n",
       "    </tr>\n",
       "  </tbody>\n",
       "</table>\n",
       "</div>"
      ],
      "text/plain": [
       "                                                      0\n",
       "emission_pred_2_04                                  312\n",
       "Location_week_no_enc                                282\n",
       "Median_x_groups                                     203\n",
       "week_no_enc                                         173\n",
       "week_no                                             154\n",
       "year                                                147\n",
       "Location_enc                                        140\n",
       "Ozone_O3_column_number_density                      128\n",
       "latitude                                             89\n",
       "Cloud_solar_zenith_angle                             57\n",
       "NitrogenDioxide_stratospheric_NO2_column_number...   54\n",
       "Location_group_enc                                   54\n",
       "UvAerosolIndex_absorbing_aerosol_index               52\n",
       "UvAerosolIndex_solar_azimuth_angle                   47\n",
       "UvAerosolIndex_solar_zenith_angle                    45"
      ]
     },
     "execution_count": 12,
     "metadata": {},
     "output_type": "execute_result"
    }
   ],
   "source": [
    "print('Sorted feature importances (first 15):')\n",
    "feature_importances_sorted.head(15)"
   ]
  },
  {
   "cell_type": "code",
   "execution_count": 17,
   "id": "8ab3a882",
   "metadata": {},
   "outputs": [
    {
     "data": {
      "text/plain": [
       "[<matplotlib.lines.Line2D at 0x26ae4655e10>]"
      ]
     },
     "execution_count": 17,
     "metadata": {},
     "output_type": "execute_result"
    },
    {
     "data": {
      "image/png": "[encoded data removed]",
      "text/plain": [
       "<Figure size 640x480 with 1 Axes>"
      ]
     },
     "metadata": {},
     "output_type": "display_data"
    }
   ],
   "source": [
    "import matplotlib.pyplot as plt\n",
    "plt.plot(range(0, len(feature_importances_sorted)), feature_importances_sorted)"
   ]
  }
 ],
 "metadata": {
  "kernelspec": {
   "display_name": "Python 3 (ipykernel)",
   "language": "python",
   "name": "python3"
  },
  "language_info": {
   "codemirror_mode": {
    "name": "ipython",
    "version": 3
   },
   "file_extension": ".py",
   "mimetype": "text/x-python",
   "name": "python",
   "nbconvert_exporter": "python",
   "pygments_lexer": "ipython3",
   "version": "3.10.9"
  }
 },
 "nbformat": 4,
 "nbformat_minor": 5
}
