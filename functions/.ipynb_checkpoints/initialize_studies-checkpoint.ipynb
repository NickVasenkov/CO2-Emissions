{
 "cells": [
  {
   "cell_type": "markdown",
   "id": "788b9ee3",
   "metadata": {},
   "source": [
    "-) Run the first cell to prepare packages\n",
    "\n",
    "-) If you need to restart any study from scratch, run a cell with your current Report chapter number. The progress of that study will be deleted.\n",
    "\n",
    "!!!ATTENTION!!! Do not run the whole initialize_studies notebook, or all the studies will be restarted (unless that is what you want). !!!ATTENTION!!!\n"
   ]
  },
  {
   "cell_type": "code",
   "execution_count": 2,
   "id": "5b038f70",
   "metadata": {},
   "outputs": [],
   "source": [
    "## RUN THIS TO IMPORT PACKAGES\n",
    "\n",
    "import optuna\n",
    "import joblib\n",
    "import pandas as pd"
   ]
  },
  {
   "cell_type": "code",
   "execution_count": 36,
   "id": "34d3759a",
   "metadata": {},
   "outputs": [
    {
     "name": "stderr",
     "output_type": "stream",
     "text": [
      "[I 2023-08-08 15:04:09,199] A new study created in memory with name: test\n"
     ]
    }
   ],
   "source": [
    "## TEST\n",
    "\n",
    "study_name = 'test'\n",
    "\n",
    "study = optuna.create_study(study_name='{}'.format(study_name), direction='minimize')\n",
    "joblib.dump(study, \"../studies/{}.pkl\".format(study_name))\n",
    "total_seconds = pd.DataFrame([0])\n",
    "total_seconds.to_csv(\"../studies/{}_seconds.csv\".format(study_name))"
   ]
  },
  {
   "cell_type": "code",
   "execution_count": 46,
   "id": "cd025084",
   "metadata": {},
   "outputs": [
    {
     "name": "stderr",
     "output_type": "stream",
     "text": [
      "[I 2023-08-08 20:33:24,221] A new study created in memory with name: 1_07\n"
     ]
    }
   ],
   "source": [
    "## 1_07\n",
    "\n",
    "study_name = '1_07'\n",
    "\n",
    "study = optuna.create_study(study_name='{}'.format(study_name), direction='minimize')\n",
    "joblib.dump(study, \"../studies/{}.pkl\".format(study_name))\n",
    "total_seconds = pd.DataFrame([0])\n",
    "total_seconds.to_csv(\"../studies/{}_seconds.csv\".format(study_name))"
   ]
  },
  {
   "cell_type": "code",
   "execution_count": 3,
   "id": "d4062054",
   "metadata": {},
   "outputs": [
    {
     "name": "stderr",
     "output_type": "stream",
     "text": [
      "[I 2023-08-14 23:02:12,262] A new study created in memory with name: 3_02\n"
     ]
    }
   ],
   "source": [
    "## 3_02\n",
    "\n",
    "study_name = '3_02'\n",
    "\n",
    "study = optuna.create_study(study_name='{}'.format(study_name), direction='minimize')\n",
    "joblib.dump(study, \"../studies/{}.pkl\".format(study_name))\n",
    "total_seconds = pd.DataFrame([0])\n",
    "total_seconds.to_csv(\"../studies/{}_seconds.csv\".format(study_name))"
   ]
  },
  {
   "cell_type": "code",
   "execution_count": 6,
   "id": "10f31ea2",
   "metadata": {},
   "outputs": [
    {
     "name": "stderr",
     "output_type": "stream",
     "text": [
      "[I 2023-08-15 16:11:23,504] A new study created in memory with name: 3_03\n"
     ]
    }
   ],
   "source": [
    "## 3_03\n",
    "\n",
    "study_name = '3_03'\n",
    "\n",
    "study = optuna.create_study(study_name='{}'.format(study_name), direction='minimize')\n",
    "joblib.dump(study, \"../studies/{}.pkl\".format(study_name))\n",
    "total_seconds = pd.DataFrame([0])\n",
    "total_seconds.to_csv(\"../studies/{}_seconds.csv\".format(study_name))"
   ]
  },
  {
   "cell_type": "code",
   "execution_count": 9,
   "id": "1af2821f",
   "metadata": {},
   "outputs": [
    {
     "name": "stderr",
     "output_type": "stream",
     "text": [
      "[I 2023-08-16 16:45:03,842] A new study created in memory with name: Stacking_00\n"
     ]
    }
   ],
   "source": [
    "## Stacking_00\n",
    "\n",
    "study_name = 'Stacking_00'\n",
    "\n",
    "study = optuna.create_study(study_name='{}'.format(study_name), direction='minimize')\n",
    "joblib.dump(study, \"../studies/{}.pkl\".format(study_name))\n",
    "total_seconds = pd.DataFrame([0])\n",
    "total_seconds.to_csv(\"../studies/{}_seconds.csv\".format(study_name))"
   ]
  },
  {
   "cell_type": "code",
   "execution_count": 10,
   "id": "85c514f7",
   "metadata": {},
   "outputs": [
    {
     "name": "stderr",
     "output_type": "stream",
     "text": [
      "[I 2023-08-16 18:09:17,247] A new study created in memory with name: Stacking_01\n"
     ]
    }
   ],
   "source": [
    "## Stacking_01\n",
    "\n",
    "study_name = 'Stacking_01'\n",
    "\n",
    "study = optuna.create_study(study_name='{}'.format(study_name), direction='minimize')\n",
    "joblib.dump(study, \"../studies/{}.pkl\".format(study_name))\n",
    "total_seconds = pd.DataFrame([0])\n",
    "total_seconds.to_csv(\"../studies/{}_seconds.csv\".format(study_name))"
   ]
  },
  {
   "cell_type": "code",
   "execution_count": 22,
   "id": "d8490d3b",
   "metadata": {},
   "outputs": [
    {
     "name": "stderr",
     "output_type": "stream",
     "text": [
      "[I 2023-08-17 09:28:46,206] A new study created in memory with name: Stacking_02\n"
     ]
    }
   ],
   "source": [
    "## Stacking_02\n",
    "\n",
    "study_name = 'Stacking_02'\n",
    "\n",
    "study = optuna.create_study(study_name='{}'.format(study_name), direction='minimize')\n",
    "joblib.dump(study, \"../studies/{}.pkl\".format(study_name))\n",
    "total_seconds = pd.DataFrame([0])\n",
    "total_seconds.to_csv(\"../studies/{}_seconds.csv\".format(study_name))"
   ]
  },
  {
   "cell_type": "code",
   "execution_count": 23,
   "id": "825850e8",
   "metadata": {},
   "outputs": [
    {
     "name": "stderr",
     "output_type": "stream",
     "text": [
      "[I 2023-08-17 11:45:58,668] A new study created in memory with name: Stacking_03\n"
     ]
    }
   ],
   "source": [
    "## Stacking_03\n",
    "\n",
    "study_name = 'Stacking_03'\n",
    "\n",
    "study = optuna.create_study(study_name='{}'.format(study_name), direction='minimize')\n",
    "joblib.dump(study, \"../studies/{}.pkl\".format(study_name))\n",
    "total_seconds = pd.DataFrame([0])\n",
    "total_seconds.to_csv(\"../studies/{}_seconds.csv\".format(study_name))"
   ]
  },
  {
   "cell_type": "code",
   "execution_count": 24,
   "id": "59bac321",
   "metadata": {},
   "outputs": [
    {
     "name": "stderr",
     "output_type": "stream",
     "text": [
      "[I 2023-08-17 12:26:47,314] A new study created in memory with name: Stacking_04\n"
     ]
    }
   ],
   "source": [
    "## Stacking_04\n",
    "\n",
    "study_name = 'Stacking_04'\n",
    "\n",
    "study = optuna.create_study(study_name='{}'.format(study_name), direction='minimize')\n",
    "joblib.dump(study, \"../studies/{}.pkl\".format(study_name))\n",
    "total_seconds = pd.DataFrame([0])\n",
    "total_seconds.to_csv(\"../studies/{}_seconds.csv\".format(study_name))"
   ]
  },
  {
   "cell_type": "code",
   "execution_count": null,
   "id": "4cc78c41",
   "metadata": {},
   "outputs": [],
   "source": []
  }
 ],
 "metadata": {
  "kernelspec": {
   "display_name": "Python 3 (ipykernel)",
   "language": "python",
   "name": "python3"
  },
  "language_info": {
   "codemirror_mode": {
    "name": "ipython",
    "version": 3
   },
   "file_extension": ".py",
   "mimetype": "text/x-python",
   "name": "python",
   "nbconvert_exporter": "python",
   "pygments_lexer": "ipython3",
   "version": "3.10.9"
  }
 },
 "nbformat": 4,
 "nbformat_minor": 5
}
