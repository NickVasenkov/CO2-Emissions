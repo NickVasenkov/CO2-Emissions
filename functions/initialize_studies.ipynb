{
 "cells": [
  {
   "cell_type": "markdown",
   "id": "788b9ee3",
   "metadata": {},
   "source": [
    "-) Run the first cell to prepare packages\n",
    "\n",
    "-) If you need to restart any study from scratch, run a cell with your current Report chapter number. The progress of that study will be deleted.\n",
    "\n",
    "!!!ATTENTION!!! Do not run the whole initialize_studies notebook, or all the studies will be restarted (unless that is what you want). !!!ATTENTION!!!\n"
   ]
  },
  {
   "cell_type": "code",
   "execution_count": 12,
   "id": "5b038f70",
   "metadata": {},
   "outputs": [
    {
     "name": "stdout",
     "output_type": "stream",
     "text": [
      "1.3.1\n"
     ]
    }
   ],
   "source": [
    "## RUN THIS TO IMPORT PACKAGES\n",
    "\n",
    "import optuna\n",
    "import joblib\n",
    "import pandas as pd"
   ]
  },
  {
   "cell_type": "code",
   "execution_count": 6,
   "id": "34d3759a",
   "metadata": {},
   "outputs": [
    {
     "name": "stderr",
     "output_type": "stream",
     "text": [
      "[I 2023-08-04 14:28:40,757] A new study created in memory with name: test\n"
     ]
    }
   ],
   "source": [
    "## TEST\n",
    "\n",
    "study_name = 'test'\n",
    "\n",
    "study = optuna.create_study(study_name='{}'.format(study_name), direction='minimize')\n",
    "joblib.dump(study, \"../studies/{}.pkl\".format(study_name))\n",
    "total_seconds = pd.DataFrame([0])\n",
    "total_seconds.to_csv(\"../studies/{}_seconds.csv\".format(study_name))"
   ]
  },
  {
   "cell_type": "code",
   "execution_count": 24,
   "id": "824d27b9",
   "metadata": {},
   "outputs": [
    {
     "name": "stderr",
     "output_type": "stream",
     "text": [
      "[I 2023-08-06 13:57:05,379] A new study created in memory with name: 1_10\n"
     ]
    }
   ],
   "source": [
    "## 1_10\n",
    "\n",
    "study_name = '1_10'\n",
    "\n",
    "study = optuna.create_study(study_name='{}'.format(study_name), direction='minimize')\n",
    "joblib.dump(study, \"../studies/{}.pkl\".format(study_name))\n",
    "total_seconds = pd.DataFrame([0])\n",
    "total_seconds.to_csv(\"../studies/{}_seconds.csv\".format(study_name))"
   ]
  },
  {
   "cell_type": "code",
   "execution_count": 26,
   "id": "86cc89f4",
   "metadata": {},
   "outputs": [
    {
     "name": "stderr",
     "output_type": "stream",
     "text": [
      "[I 2023-08-06 15:26:55,371] A new study created in memory with name: 1_11\n"
     ]
    }
   ],
   "source": [
    "## 1_11\n",
    "\n",
    "study_name = '1_11'\n",
    "\n",
    "study = optuna.create_study(study_name='{}'.format(study_name), direction='minimize')\n",
    "joblib.dump(study, \"../studies/{}.pkl\".format(study_name))\n",
    "total_seconds = pd.DataFrame([0])\n",
    "total_seconds.to_csv(\"../studies/{}_seconds.csv\".format(study_name))"
   ]
  },
  {
   "cell_type": "code",
   "execution_count": 34,
   "id": "0d1ddb5e",
   "metadata": {},
   "outputs": [
    {
     "name": "stderr",
     "output_type": "stream",
     "text": [
      "[I 2023-08-07 11:22:01,989] A new study created in memory with name: 3_10\n"
     ]
    }
   ],
   "source": [
    "## 3_10\n",
    "\n",
    "study_name = '3_10'\n",
    "\n",
    "study = optuna.create_study(study_name='{}'.format(study_name), direction='minimize')\n",
    "joblib.dump(study, \"../studies/{}.pkl\".format(study_name))\n",
    "total_seconds = pd.DataFrame([0])\n",
    "total_seconds.to_csv(\"../studies/{}_seconds.csv\".format(study_name))"
   ]
  },
  {
   "cell_type": "code",
   "execution_count": null,
   "id": "7085756e",
   "metadata": {},
   "outputs": [],
   "source": []
  }
 ],
 "metadata": {
  "kernelspec": {
   "display_name": "Python 3 (ipykernel)",
   "language": "python",
   "name": "python3"
  },
  "language_info": {
   "codemirror_mode": {
    "name": "ipython",
    "version": 3
   },
   "file_extension": ".py",
   "mimetype": "text/x-python",
   "name": "python",
   "nbconvert_exporter": "python",
   "pygments_lexer": "ipython3",
   "version": "3.10.9"
  }
 },
 "nbformat": 4,
 "nbformat_minor": 5
}
