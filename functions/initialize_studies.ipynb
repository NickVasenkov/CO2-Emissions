{
 "cells": [
  {
   "cell_type": "markdown",
   "id": "788b9ee3",
   "metadata": {},
   "source": [
    "-) Run the first cell to prepare packages\n",
    "\n",
    "-) If you need to restart any study from scratch, run a cell with your current Report chapter number. The progress of that study will be deleted.\n",
    "\n",
    "!!!ATTENTION!!! Do not run the whole initialize_studies notebook, or all the studies will be restarted (unless that is what you want). !!!ATTENTION!!!\n"
   ]
  },
  {
   "cell_type": "code",
   "execution_count": 12,
   "id": "5b038f70",
   "metadata": {},
   "outputs": [
    {
     "name": "stdout",
     "output_type": "stream",
     "text": [
      "1.3.1\n"
     ]
    }
   ],
   "source": [
    "## RUN THIS TO IMPORT PACKAGES\n",
    "\n",
    "import optuna\n",
    "import joblib\n",
    "import pandas as pd"
   ]
  },
  {
   "cell_type": "code",
   "execution_count": 6,
   "id": "34d3759a",
   "metadata": {},
   "outputs": [
    {
     "name": "stderr",
     "output_type": "stream",
     "text": [
      "[I 2023-08-04 14:28:40,757] A new study created in memory with name: test\n"
     ]
    }
   ],
   "source": [
    "## TEST\n",
    "\n",
    "study_name = 'test'\n",
    "\n",
    "study = optuna.create_study(study_name='{}'.format(study_name), direction='minimize')\n",
    "joblib.dump(study, \"../studies/{}.pkl\".format(study_name))\n",
    "total_seconds = pd.DataFrame([0])\n",
    "total_seconds.to_csv(\"../studies/{}_seconds.csv\".format(study_name))"
   ]
  },
  {
   "cell_type": "code",
   "execution_count": 13,
   "id": "f9188ef2",
   "metadata": {},
   "outputs": [
    {
     "name": "stderr",
     "output_type": "stream",
     "text": [
      "[I 2023-08-04 17:48:33,319] A new study created in memory with name: 2_03\n"
     ]
    }
   ],
   "source": [
    "## 2_03\n",
    "\n",
    "study_name = '2_03'\n",
    "\n",
    "study = optuna.create_study(study_name='{}'.format(study_name), direction='minimize')\n",
    "joblib.dump(study, \"../studies/{}.pkl\".format(study_name))\n",
    "total_seconds = pd.DataFrame([0])\n",
    "total_seconds.to_csv(\"../studies/{}_seconds.csv\".format(study_name))"
   ]
  },
  {
   "cell_type": "code",
   "execution_count": 15,
   "id": "0efa4223",
   "metadata": {},
   "outputs": [
    {
     "name": "stderr",
     "output_type": "stream",
     "text": [
      "[I 2023-08-05 19:28:55,593] A new study created in memory with name: 2_03_all_data\n"
     ]
    }
   ],
   "source": [
    "## 2_03_all_data\n",
    "\n",
    "study_name = '2_03_all_data'\n",
    "\n",
    "study = optuna.create_study(study_name='{}'.format(study_name), direction='minimize')\n",
    "joblib.dump(study, \"../studies/{}.pkl\".format(study_name))\n",
    "total_seconds = pd.DataFrame([0])\n",
    "total_seconds.to_csv(\"../studies/{}_seconds.csv\".format(study_name))"
   ]
  },
  {
   "cell_type": "code",
   "execution_count": 14,
   "id": "5474ccb5",
   "metadata": {},
   "outputs": [
    {
     "name": "stderr",
     "output_type": "stream",
     "text": [
      "[I 2023-08-04 18:49:25,460] A new study created in memory with name: 2_04\n"
     ]
    }
   ],
   "source": [
    "## 2_04\n",
    "\n",
    "study_name = '2_04'\n",
    "\n",
    "study = optuna.create_study(study_name='{}'.format(study_name), direction='minimize')\n",
    "joblib.dump(study, \"../studies/{}.pkl\".format(study_name))\n",
    "total_seconds = pd.DataFrame([0])\n",
    "total_seconds.to_csv(\"../studies/{}_seconds.csv\".format(study_name))"
   ]
  },
  {
   "cell_type": "code",
   "execution_count": null,
   "id": "5242a8ca",
   "metadata": {},
   "outputs": [],
   "source": []
  }
 ],
 "metadata": {
  "kernelspec": {
   "display_name": "Python 3 (ipykernel)",
   "language": "python",
   "name": "python3"
  },
  "language_info": {
   "codemirror_mode": {
    "name": "ipython",
    "version": 3
   },
   "file_extension": ".py",
   "mimetype": "text/x-python",
   "name": "python",
   "nbconvert_exporter": "python",
   "pygments_lexer": "ipython3",
   "version": "3.10.9"
  }
 },
 "nbformat": 4,
 "nbformat_minor": 5
}
